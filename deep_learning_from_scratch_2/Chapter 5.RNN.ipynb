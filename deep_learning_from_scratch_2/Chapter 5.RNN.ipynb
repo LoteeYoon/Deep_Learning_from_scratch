{
 "cells": [
  {
   "cell_type": "code",
   "execution_count": 1,
   "metadata": {},
   "outputs": [],
   "source": [
    "## 지금까지 사용한 신경망은 피드포워드(feed forward)라는 유형의 신경망이다.\n",
    "## 피드포워드란 흐름이 단 방향인 신경망을 말한다.\n",
    "## 피드포워드 신경망은 구성이 단순하여 이해하기 쉽고, 많은 문제에 응용할 수 있다.\n",
    "## 그러나 이미지 같은 공간 데이터나 시계열 데이터를 잘 다루지 못한다.\n",
    "## 따라서 공간 데이터 같은 경우 CNN을, 시계열 데이터의 경우 RNN을 사용한다."
   ]
  },
  {
   "cell_type": "markdown",
   "metadata": {},
   "source": [
    "# 1. 확률과 언어 모델"
   ]
  },
  {
   "cell_type": "markdown",
   "metadata": {},
   "source": [
    "### word2vec을 확률 관점에서 바라보다"
   ]
  },
  {
   "cell_type": "code",
   "execution_count": 3,
   "metadata": {},
   "outputs": [],
   "source": [
    "## w1, w2, ..., wT라는 단어열로 표현되는 말뭉치를 생각해보자.\n",
    "## 그리고 t번째 단어를 '타깃'으로 그 전후 단어(t-1번째와 t+1번째)를 '맥락'으로 취급해보자\n",
    "\n",
    "## 이때, CBOW 모델은 맥락 w(t-1)과 w(t+1)로부터 타깃 wt를 추측하는 일을 수행한다.\n",
    "\n",
    "## 그럼 w(t-1)과 w(t+1)이 주어졌을 때 타깃이 wt가 될 확률을 수식으로 나타내면\n",
    "## P(wt | w(t-1), w(t+1))이 된다."
   ]
  },
  {
   "cell_type": "code",
   "execution_count": 4,
   "metadata": {},
   "outputs": [],
   "source": [
    "## CBOW 모델은 사후 확률을 모델링한다.\n",
    "## 이 사후 확률은 w(t-1)과 w(t+1)이 주어졌을 때 wt가 일어날 확률을 뜻한다.\n",
    "## 이것은 윈도우 크기가 1일 때의 CBOW 모델이다.\n",
    "\n",
    "## 지금까지는 맥락을 항상 좌우 대칭으로 생각해왔다. \n",
    "## 그런데 이번에는 맥락을 왼쪽 윈도우만으로 한정해보자.\n",
    "## 그러면 CBOW 모델이 출력할 확률은 P(wt | w(t-2), w(t-1))처럼 된다."
   ]
  },
  {
   "cell_type": "code",
   "execution_count": 5,
   "metadata": {},
   "outputs": [],
   "source": [
    "## 따라서 CBOW 모델의 손실함수를 L = -logP(wt | w(t-2), w(t-1))처럼 쓸 수 있다. -- 교차 엔트로피 오차에 의한 결과\n",
    "## CBOW 모델의 학습으로 수행하는 일은 위의 손실함수를 최소화하는 가중치를 찾는 것이다.\n",
    "## 이러한 가중치를 발견하면 CBOW 모델은 맥락으로부터 타깃을 정확히 추측할 수 있게 된다.\n",
    "\n",
    "## 그럼 CBOW 모델의 본래 목적인 '맥락으로부터 타깃을 추측하는 것'은 어디에 쓸 수 있을까?\n",
    "## 확률 P(wt | w(t-2), w(t-1))은 실용적인 쓰임이 있을까?\n",
    "## 여기서 '언어 모델'이 등장한다."
   ]
  },
  {
   "cell_type": "markdown",
   "metadata": {},
   "source": [
    "### 언어 모델"
   ]
  },
  {
   "cell_type": "code",
   "execution_count": 6,
   "metadata": {},
   "outputs": [],
   "source": [
    "## 언어모델(Language Model)은 단어 나열에 확률을 부여한다.\n",
    "## 특정한 단어의 시퀀스에 대해서, 그 시퀀스가 일어날 가능성이 어느 정도인지를 확률로 평가하는 것이다.\n",
    "## you say goodbye라는 시퀀스에는 높은 확률을, you say good die에는 낮은 확률을 출력하는 것이 일종의 언어 모델이다.\n",
    "\n",
    "## 이 언어모델은 다양하게 응용할 수 있다. '기계 번역'과 '음성 인식'이 대표적인 예이다.\n",
    "## 또 언어 모델은 '새로운 문장을 생성하는 용도'로도 이용할 수 있다."
   ]
  },
  {
   "cell_type": "code",
   "execution_count": 7,
   "metadata": {},
   "outputs": [],
   "source": [
    "## 언어 모델을 수식으로 설명해보자\n",
    "\n",
    "## w1, w2, ..., w(m)이라는 m개의 단어로 된 문장을 생각해보자\n",
    "## 이때 단어가 w1, ..., w(m)이라는 순서로 출현할 확률을 P(w1, ..., w(m))으로 나타낸다.\n",
    "## 이 확률은 여러 사건이 동시에 일어날 확률이므로 동시 확률이라고 한다."
   ]
  },
  {
   "cell_type": "code",
   "execution_count": 8,
   "metadata": {},
   "outputs": [],
   "source": [
    "## 이 동시 확률은 사후 확률을 사용해 분해할 수 있다.\n",
    "## P(w1, ..., w(m)) = P(w(m) | w1, ..., w(m-1))P(w(m-1) | w1, ..., w(m-2)) .... P(w3 | w1, w2)P(w2 | w1)P(w1)\n",
    "##                  = Pi(t = from 1 to m)(  P(wt | w1, ..., w(t-1))  )\n",
    "\n",
    "## 동시 확률은 사후 확률의 총곱으로 나타낼 수 있다."
   ]
  },
  {
   "cell_type": "code",
   "execution_count": 9,
   "metadata": {},
   "outputs": [],
   "source": [
    "## 여기서 주목할 것은 이 사후 확률은 타깃 단어보다 왼쪽에 있는 모든 단어를 맥락으로 했을 때의 확률이라는 것이다.\n",
    "## 정리하면, 우리의 목표는 P(wt | w1, ..., w(t-1))이라는 확률을 얻는 것이다.\n",
    "## 이 확률을 계산할 수 있다면 언어 모델의 동시 확률 P(w1, ..., w(m))을 구할 수 있다."
   ]
  },
  {
   "cell_type": "markdown",
   "metadata": {},
   "source": [
    "### CBOW 모델을 언어 모델로?"
   ]
  },
  {
   "cell_type": "code",
   "execution_count": 10,
   "metadata": {},
   "outputs": [],
   "source": [
    "## CBOW 모델을 언어 모델에 적용하려면 어떻게 하면 좋을까?\n",
    "## 이는 맥락의 크기를 특정 값으로 한정하여 근사적으로 나타낼 수 있다.\n",
    "\n",
    "## 수식으로 나타내면\n",
    "## P(w1, ..., w(m)) = Pi(t = from 1 to m)( P(wt | w1, ..., w(t-1)) ) ~~= Pi(t = from 1 to m)( P(wt | w(t-2), w(t-1)) )\n",
    "## 여기에서는 맥락을 왼쪽 2개 단어로 한정한다. 그러면 근사적으로 나타낼 수 있다. "
   ]
  },
  {
   "cell_type": "code",
   "execution_count": 11,
   "metadata": {},
   "outputs": [],
   "source": [
    "## 맥락은 임의의 길이로 설정할 수 있다.(5나 10 등) \n",
    "## 그러나 임의 길이로 설정한다고 해도, 결국 특정 길이로 고정된다. 그래서 특정 길이보다 더 왼쪽의 단어 정보들은 무시된다.\n",
    "## Tom was watching TV in his room. Mary came into the room. Mary said hi to ( ? ).\n",
    "## 위 문제에서 문맥을 고려하면 Marry가 Tom에게 인사를 건넸다가 정답이다. \n",
    "## 정답을 구하려면 ?로부터 18번째 앞에 나오는 Tom을 기억해야한다. \n",
    "## 만약 맥락이 10개였다면 제대로 답할 수 없다\n",
    "## 맥락을 20까지 키우면 해결될까?\n",
    "## CBOW 모델에서는 맥락 안의 단어 순서가 무시된다는 한계가 있기 때문에 불가능하다. "
   ]
  },
  {
   "cell_type": "code",
   "execution_count": 12,
   "metadata": {},
   "outputs": [],
   "source": [
    "## CBOW 모델의 은닉층에서는 단어 벡터들이 더해지므로 맥락의 단어 순서는 무시된다.\n",
    "## (you, say)와 (say, you)라는 맥락을 똑같이 취급한다.\n",
    "## 이상적으로는 맥락 단어 순서도 고려한 모델이 바람직하다.\n",
    "## 이를 위해 맥락의 단어 벡터를 은닉층에서 연결하는 방식을 생각할 수 있다.\n",
    "## 그러나 연결하는 방식은 맥락의 크기에 비례해 가중치 매개변수도 늘어난다. 이는 환영할만한 현상이 아니다."
   ]
  },
  {
   "cell_type": "code",
   "execution_count": 13,
   "metadata": {},
   "outputs": [],
   "source": [
    "## 그렇다면 이 문제는 어떻게 해결할까?\n",
    "## 여기서 등장하는 것이 RNN이다.\n",
    "## RNN은 맥락이 아무리 길더라도 그 맥락의 정보를 기억하는 메커니즘을 가지고 있다.\n",
    "## 그래서 RNN을 사용하면 아무리 긴 시계열 데이터에도 대응할 수 있다. "
   ]
  },
  {
   "cell_type": "markdown",
   "metadata": {},
   "source": [
    "# 2. RNN이란"
   ]
  },
  {
   "cell_type": "markdown",
   "metadata": {},
   "source": [
    "### 순환하는 신경망"
   ]
  },
  {
   "cell_type": "code",
   "execution_count": 14,
   "metadata": {},
   "outputs": [],
   "source": [
    "## 순환하기 위해서는 닫힌 경로가 필요하다.\n",
    "## 닫힌 경로가 존재해야 데이터가 순환하면서 정보가 끊임없이 갱신되게 된다."
   ]
  },
  {
   "cell_type": "code",
   "execution_count": 1,
   "metadata": {},
   "outputs": [],
   "source": [
    "## 순환경로를 포함하는 RNN계층에는 (x0, x1, ..., x(t), ...)를 입력받는데, t는 시각을 뜻한다.\n",
    "## 또 각 시각에 입력되는 x(t)는 벡터라고 가정한다.\n",
    "## 문장을 다루는 경우를 예로 들면, 각 단어의 분산표현(단어 벡터)이 x(t)가 되며, 이 분산 표현이 순서대로 하나씩 RNN에 입력된다."
   ]
  },
  {
   "cell_type": "markdown",
   "metadata": {},
   "source": [
    "### 순환 구조 펼치기"
   ]
  },
  {
   "cell_type": "code",
   "execution_count": 3,
   "metadata": {},
   "outputs": [],
   "source": [
    "## 각 시각의 RNN 계층은 그 계층으로의 입력과 1개 시각 전의 RNN 계층으로부터의 출력을 입력으로 받는다.\n",
    "## 그리고 이 두 정보를 바탕으로 현 시각의 출력을 계산한다.\n",
    "## h(t) = tanh( h(t-1)*W(h) + x(t)*W(x) + b )\n",
    "## RNN 은 h라는 상태를 가지고 있으며, 위 식의 형태로 갱신된다고 해석할 수 있다.\n",
    "## 그래서 RNN 계층을 '상태를 가지는 계층' 혹은 '메모리가 있는 계층'이라고 한다.\n",
    "## 많은 문헌에서 RNN의 출력 h(t)를 은닉 상태(hidden state) 또는 은닉 상태 벡터(hidden state vector)라고 한다."
   ]
  },
  {
   "cell_type": "markdown",
   "metadata": {},
   "source": [
    "### BPTT"
   ]
  },
  {
   "cell_type": "code",
   "execution_count": 4,
   "metadata": {},
   "outputs": [],
   "source": [
    "## RNN 계층은 가로로 펼친 신경망으로 간주할 수 있다.\n",
    "## 다수의 RNN 구조가 가로로 펼쳐져 있지만 실제로는 이것이 하나의 계층이다.\n",
    "## 이 순환 구조를 펼친 RNN에는 오차역전파법을 적용할 수 있다.\n",
    "## 여기서의 오차역전파는 시간 방향으로 펼친 신경망의 오차역전파법이란 뜻으로\n",
    "## BPTT(backpropagation through time)라고 한다."
   ]
  },
  {
   "cell_type": "code",
   "execution_count": 7,
   "metadata": {},
   "outputs": [],
   "source": [
    "## 하지만 그 전에 BPTT를 이용해 기울기를 구하려면, 매 시각 RNN 구조의 중간 데이터를 메모리에 유지해두지 않으면 안 된다.\n",
    "## 따라서 시계열 데이터가 길어짐에 따라 메모리 사용량도 증가하게 된다.\n",
    "## 또한 시간 크기가 커지면 역전파 시 기울기가 불안정해지는 것도 문제다."
   ]
  },
  {
   "cell_type": "markdown",
   "metadata": {},
   "source": [
    "### Truncated BPTT"
   ]
  },
  {
   "cell_type": "code",
   "execution_count": 8,
   "metadata": {},
   "outputs": [],
   "source": [
    "## 큰 시계열 데이터를 취급할 때는 흔히 신경망의 연결을 적당한 길이로 끊는다.\n",
    "## 시간축 방향으로 너무 길어진 신경망을 적당한 지점에서 잘라 작은 신경망 여러 개로 만든다는 아이디어이다.\n",
    "## 그리고 잘라낸 작은 신경망에서 오차역전파를 수행한다.\n",
    "## 이것을 Truncated BPTT라고 한다."
   ]
  },
  {
   "cell_type": "code",
   "execution_count": 9,
   "metadata": {},
   "outputs": [],
   "source": [
    "## 한 가지 주의할 점은 역전파의 연결만 끊어야 한다. 순전파의 연결은 그대로 유지해야 한다.\n",
    "## 역전파는 잘라낸 신경망 단위로 학습한다."
   ]
  },
  {
   "cell_type": "code",
   "execution_count": 10,
   "metadata": {},
   "outputs": [],
   "source": [
    "## 지금까지 본 신경망에서는 미니배치 학습을 수행할 때 데이터를 무작위로 선택해 입력했다.\n",
    "## 그러나 RNN에서 Truncated BPTT를 수행할 때는 데이터를 순서대로 입력해야 한다."
   ]
  },
  {
   "cell_type": "code",
   "execution_count": 11,
   "metadata": {},
   "outputs": [],
   "source": [
    "## 두 블록의 Truncated BPTT를 수행해보자\n",
    "## 먼저 첫 번째 블록에 데이터를 입력해 순전파를 진행하고, 나온 출력을 다음 블록에 전달한다.\n",
    "## 첫 번째 블록의 순전파가 끝나면 역전파를 수행한다. \n",
    "## 이런 식으로 순전파의 연결을 유지하면서 블록 단위로 오차역전파법을 적용한다."
   ]
  },
  {
   "cell_type": "markdown",
   "metadata": {},
   "source": [
    "### Truncated BPTT의 미니배치 학습"
   ]
  },
  {
   "cell_type": "code",
   "execution_count": 12,
   "metadata": {},
   "outputs": [],
   "source": [
    "## 지금까지는 미니배치 수가 1일 때에 해당한다.\n",
    "## 미니배치 학습을 수행하려면 데이터를 주는 시작 위치를 각 미니배치의 시작 위치로 옮겨줘야 한다. "
   ]
  },
  {
   "cell_type": "markdown",
   "metadata": {},
   "source": [
    "# 3. RNN 구현"
   ]
  },
  {
   "cell_type": "code",
   "execution_count": 13,
   "metadata": {},
   "outputs": [],
   "source": [
    "## 지금부터 구현해야 할 것은 가로 방향으로 성장한 신경망이다.\n",
    "## 그리고 Truncated BPTT 방식의 학습을 따른다면, 가로 크기가 일정한 일련의 신경망을 만들면 된다.\n",
    "## 길이가 T인 시계열 데이터를 받아 각 시각의 은닉 상태를 T개 출력한다.\n",
    "## 모듈화를 생각해 옆으로 성장한 신경망을 하나의 계층으로 구현한다."
   ]
  },
  {
   "cell_type": "code",
   "execution_count": 14,
   "metadata": {},
   "outputs": [],
   "source": [
    "## hs = (h0, h1, ..., h(T-1))\n",
    "## xs = (x0, x1, ..., x(T-1))\n",
    "## xs --> Time RNN --> hs\n",
    "## 순환 구조를 펼친 후의 RNN 구조들을 하나의 계층으로 간주한다. 이를 Time RNN 계층이라고 한다."
   ]
  },
  {
   "cell_type": "markdown",
   "metadata": {},
   "source": [
    "### RNN 계층 구현"
   ]
  },
  {
   "cell_type": "code",
   "execution_count": 15,
   "metadata": {},
   "outputs": [],
   "source": [
    "## RNN 처리를 한 단계만 수행하는 클래스부터 구현해보자.\n",
    "## 여기서 우리는 데이터를 미니배치로 모아 처리한다."
   ]
  },
  {
   "cell_type": "code",
   "execution_count": 16,
   "metadata": {},
   "outputs": [],
   "source": [
    "## h(t-1) *  W(h)  +  x(t)  *  W(x) = h(t)\n",
    "## (N, H) * (H, H) + (N, D) * (D, H) = (N, H)"
   ]
  },
  {
   "cell_type": "code",
   "execution_count": 17,
   "metadata": {},
   "outputs": [],
   "source": [
    "class RNN:\n",
    "    def __init__(self, Wx, Wh, b):\n",
    "        self.params = [Wx, Wh, b]\n",
    "        self.grads = [np.zeros_like(Wx), np.zeros_like(Wh), np.zeros_like(b)]\n",
    "        self.cache = None\n",
    "        \n",
    "    def forward(self, x, h_prev):\n",
    "        Wx, Wh, b = self.params\n",
    "        t = np.matmul(h_prev, Wh) + np.matmul(x, Wx) + b\n",
    "        h_next = np.tanh(t)\n",
    "        \n",
    "        self.cache = (x, h_prev, h_next)\n",
    "        return h_next\n",
    "    \n",
    "    def backward(self,dh_next):\n",
    "        Wx, Wh, b = self.params\n",
    "        x, h_prev, h_next = self.cache\n",
    "        \n",
    "        dt = dh_next * (1 - h_next**2)\n",
    "        db = np.sum(dt, axis = 0)\n",
    "        dWh = np.matmul(h_prev.T, dt)\n",
    "        dh_prev = np.matmul(dt, Wh.T)\n",
    "        dWx = np.matmul(x.T, dt)\n",
    "        dx = np.matmul(dt, Wx.T)\n",
    "        \n",
    "        self.grads[0][...] = dWx\n",
    "        self.grads[1][...] = dWh\n",
    "        self.grads[2][...] = db\n",
    "        \n",
    "        return dx, dh_prev"
   ]
  },
  {
   "cell_type": "code",
   "execution_count": 18,
   "metadata": {},
   "outputs": [],
   "source": [
    "## 이어서 Time RNN 계층을 구현할 차례이다."
   ]
  },
  {
   "cell_type": "markdown",
   "metadata": {},
   "source": [
    "### Time RNN 계층 구현"
   ]
  },
  {
   "cell_type": "code",
   "execution_count": 1,
   "metadata": {},
   "outputs": [],
   "source": [
    "## Time RNN 계층은 T개의 RNN 계층으로 구성된다.\n",
    "## RNN 계층 T개를 연결한 신경망이다."
   ]
  },
  {
   "cell_type": "code",
   "execution_count": 16,
   "metadata": {},
   "outputs": [],
   "source": [
    "class TimeRNN:\n",
    "    def __init__(self, Wx, Wh, b, stateful = False): ## 앞의 계층에서 은닉 상태를 이어 받는지 유무\n",
    "        self.params = [Wx, Wh, b]\n",
    "        self.grads = [np.zeros_like(Wx), np.zeros_like(Wh), np.zeros_like(b)]\n",
    "        self.layers = None ## 여러개의 RNN 계층을 리스트로 저장하는 용도\n",
    "        \n",
    "        self.h, self.dh = None, None ## h는 forward()불렀을 때 마지막 RNN 계층의 은닉 상태를 저장, \n",
    "                                      ## dh는 backward()불렀을 때 하나 앞 블록의 은닉 상태의 기울기 저장\n",
    "        self.stateful = stateful\n",
    "        \n",
    "    def set_state(self, h):\n",
    "        self.h = h\n",
    "        \n",
    "    def reset_state(self):\n",
    "        self.h = None\n",
    "    \n",
    "    \n",
    "    def forward(self, xs):\n",
    "        Wx, Wh, b = self.params \n",
    "        N, T, D = xs.shape ## 미니배치 크기 N, 입력벡터 차원 D, T개 분량의 시계열 데이터\n",
    "        D, H = Wx.shape \n",
    "        \n",
    "        self.layers = []\n",
    "        hs = np.empty((N, T, H), dtype = 'f')\n",
    "        \n",
    "        if not self.stateful or self.h is None:  ## (Not a) OR ( b )  --> 은닉상태를 이어 받는 경우 h를 영행렬로 초기화\n",
    "            self.h = np.zeros((N, H), dtype = 'f')\n",
    "            \n",
    "        for t in range(T):\n",
    "            layer = RNN(*self.params)\n",
    "            self.h = layer.forward(xs[:, t, :], self.h)\n",
    "            hs[:, t, :] = self.h\n",
    "            self.layers.append(layer)\n",
    "            \n",
    "        return hs\n",
    "\n",
    "    \n",
    "    def backward(self,dhs):\n",
    "        Wx, Wh, b = self.params\n",
    "        N, T, H = dhs.shape\n",
    "        D, H = Wx.shape\n",
    "        \n",
    "        dxs = np.empty((N, T, D), dtype = 'f')\n",
    "        dh = 0\n",
    "        grads = [0, 0, 0]\n",
    "        \n",
    "        for t in reversed(range(T)):\n",
    "            layer = self.layers[t]\n",
    "            dx, dh = layer.backward(dhs[:, t, :] + dh) ## 합산된 기울기\n",
    "            dxs[:, t, :] = dx\n",
    "            \n",
    "            for i, grad in enumerate(layer.grads):\n",
    "                grads[i] += grad\n",
    "                \n",
    "        for i, grad in enumerate(grads):\n",
    "            self.grads[i][...] = grad\n",
    "            \n",
    "        self.dh = dh\n",
    "        \n",
    "        return dxs\n",
    "            "
   ]
  },
  {
   "cell_type": "markdown",
   "metadata": {},
   "source": [
    "# 4. 시계열 데이터 처리 계층 구현"
   ]
  },
  {
   "cell_type": "code",
   "execution_count": 17,
   "metadata": {},
   "outputs": [],
   "source": [
    "## 이번 장의 목표는 RNN을 사용하여 '언어 모델'을 구현하는 것이다. \n",
    "## 여기서는 RNN 계층을 수직방향으로 몇 개 더 쌓아볼 것이다.\n",
    "## 또 RNN을 사용한 언어 모델은 RNN Language Model 이므로 RNNLM이라고 할 것이다."
   ]
  },
  {
   "cell_type": "markdown",
   "metadata": {},
   "source": [
    "### RNNLM의 전체 그림"
   ]
  },
  {
   "cell_type": "code",
   "execution_count": 1,
   "metadata": {},
   "outputs": [],
   "source": [
    "## w(t) --> Embedding --> RNN --> Affine --> Softmax --> y(t)"
   ]
  },
  {
   "cell_type": "code",
   "execution_count": 2,
   "metadata": {},
   "outputs": [],
   "source": [
    "## 입력 데이터는 단어 ID 배열이다.\n",
    "## 첫 단어로 ID가 0인 'you'가 입력된다. softmax 계층이 출력하는 확률분포를 보면 'say'에서 가장 높게 나온다.\n",
    "## 이처럼 제대로 예측하려면 좋은 가중치(잘 학습된 가중치)를 사용해야한다.\n",
    "## 두 번째 단어인 'say'를 입력하면 'goodbye'와 'hello'에서 높게 나온다. \n",
    "## 여기서 주목할 것은 RNN 계층은 'you say'라는 맥락을 기억하고 있다.\n",
    "## 즉, RNN은 'you say'라는 과거의 정보를 응집된 은닉상태 벡터로 저장해놓고 있다.\n",
    "## RNNLM은 지금까지 입력된 단어를 기억하고 그것을 바탕으로 다음에 출현할 단어를 예측한다."
   ]
  },
  {
   "cell_type": "markdown",
   "metadata": {},
   "source": [
    "### Time 계층 구현"
   ]
  },
  {
   "cell_type": "code",
   "execution_count": 5,
   "metadata": {},
   "outputs": [],
   "source": [
    "## T개 분의 시계열 데이터를 한 번에 처리하는 계층을 Time XX 계층이라고 부른다."
   ]
  },
  {
   "cell_type": "code",
   "execution_count": 6,
   "metadata": {},
   "outputs": [],
   "source": [
    "class TimeEmbedding:\n",
    "    def __init__(self, W):\n",
    "        self.params = [W]\n",
    "        self.grads = [np.zeros_like(W)]\n",
    "        self.layers = None\n",
    "        self.W = W\n",
    "\n",
    "    def forward(self, xs):\n",
    "        N, T = xs.shape\n",
    "        V, D = self.W.shape\n",
    "\n",
    "        out = np.empty((N, T, D), dtype='f')\n",
    "        self.layers = []\n",
    "\n",
    "        for t in range(T):\n",
    "            layer = Embedding(self.W)\n",
    "            out[:, t, :] = layer.forward(xs[:, t])\n",
    "            self.layers.append(layer)\n",
    "\n",
    "        return out\n",
    "\n",
    "    def backward(self, dout):\n",
    "        N, T, D = dout.shape\n",
    "\n",
    "        grad = 0\n",
    "        for t in range(T):\n",
    "            layer = self.layers[t]\n",
    "            layer.backward(dout[:, t, :])\n",
    "            grad += layer.grads[0]\n",
    "\n",
    "        self.grads[0][...] = grad\n",
    "        return None"
   ]
  },
  {
   "cell_type": "code",
   "execution_count": 7,
   "metadata": {},
   "outputs": [],
   "source": [
    "class TimeRNN:\n",
    "    def __init__(self, Wx, Wh, b, stateful=False):\n",
    "        self.params = [Wx, Wh, b]\n",
    "        self.grads = [np.zeros_like(Wx), np.zeros_like(Wh), np.zeros_like(b)]\n",
    "        self.layers = None\n",
    "\n",
    "        self.h, self.dh = None, None\n",
    "        self.stateful = stateful\n",
    "\n",
    "    def forward(self, xs):\n",
    "        Wx, Wh, b = self.params\n",
    "        N, T, D = xs.shape\n",
    "        D, H = Wx.shape\n",
    "\n",
    "        self.layers = []\n",
    "        hs = np.empty((N, T, H), dtype='f')\n",
    "\n",
    "        if not self.stateful or self.h is None:\n",
    "            self.h = np.zeros((N, H), dtype='f')\n",
    "\n",
    "        for t in range(T):\n",
    "            layer = RNN(*self.params)\n",
    "            self.h = layer.forward(xs[:, t, :], self.h)\n",
    "            hs[:, t, :] = self.h\n",
    "            self.layers.append(layer)\n",
    "\n",
    "        return hs\n",
    "\n",
    "    def backward(self, dhs):\n",
    "        Wx, Wh, b = self.params\n",
    "        N, T, H = dhs.shape\n",
    "        D, H = Wx.shape\n",
    "\n",
    "        dxs = np.empty((N, T, D), dtype='f')\n",
    "        dh = 0\n",
    "        grads = [0, 0, 0]\n",
    "        for t in reversed(range(T)):\n",
    "            layer = self.layers[t]\n",
    "            dx, dh = layer.backward(dhs[:, t, :] + dh)\n",
    "            dxs[:, t, :] = dx\n",
    "\n",
    "            for i, grad in enumerate(layer.grads):\n",
    "                grads[i] += grad\n",
    "\n",
    "        for i, grad in enumerate(grads):\n",
    "            self.grads[i][...] = grad\n",
    "        self.dh = dh\n",
    "\n",
    "        return dxs\n",
    "\n",
    "    def set_state(self, h):\n",
    "        self.h = h\n",
    "\n",
    "    def reset_state(self):\n",
    "        self.h = None\n"
   ]
  },
  {
   "cell_type": "code",
   "execution_count": 8,
   "metadata": {},
   "outputs": [],
   "source": [
    "class TimeAffine:\n",
    "    def __init__(self, W, b):\n",
    "        self.params = [W, b]\n",
    "        self.grads = [np.zeros_like(W), np.zeros_like(b)]\n",
    "        self.x = None\n",
    "\n",
    "    def forward(self, x):\n",
    "        N, T, D = x.shape\n",
    "        W, b = self.params\n",
    "\n",
    "        rx = x.reshape(N*T, -1)\n",
    "        out = np.dot(rx, W) + b\n",
    "        self.x = x\n",
    "        return out.reshape(N, T, -1)\n",
    "\n",
    "    def backward(self, dout):\n",
    "        x = self.x\n",
    "        N, T, D = x.shape\n",
    "        W, b = self.params\n",
    "\n",
    "        dout = dout.reshape(N*T, -1)\n",
    "        rx = x.reshape(N*T, -1)\n",
    "\n",
    "        db = np.sum(dout, axis=0)\n",
    "        dW = np.dot(rx.T, dout)\n",
    "        dx = np.dot(dout, W.T)\n",
    "        dx = dx.reshape(*x.shape)\n",
    "\n",
    "        self.grads[0][...] = dW\n",
    "        self.grads[1][...] = db\n",
    "\n",
    "        return dx"
   ]
  },
  {
   "cell_type": "code",
   "execution_count": 1,
   "metadata": {},
   "outputs": [],
   "source": [
    "class TimeSoftmaxWithLoss:\n",
    "    def __init__(self):\n",
    "        self.params, self.grads = [], []\n",
    "        self.cache = None\n",
    "        self.ignore_label = -1\n",
    "\n",
    "    def forward(self, xs, ts):\n",
    "        N, T, V = xs.shape\n",
    "\n",
    "        if ts.ndim == 3:  # 정답 레이블이 원핫 벡터인 경우\n",
    "            ts = ts.argmax(axis=2)\n",
    "\n",
    "        mask = (ts != self.ignore_label)\n",
    "\n",
    "        # 배치용과 시계열용을 정리(reshape)\n",
    "        xs = xs.reshape(N * T, V)\n",
    "        ts = ts.reshape(N * T)\n",
    "        mask = mask.reshape(N * T)\n",
    "\n",
    "        ys = softmax(xs)\n",
    "        ls = np.log(ys[np.arange(N * T), ts])\n",
    "        ls *= mask  # ignore_label에 해당하는 데이터는 손실을 0으로 설정\n",
    "        loss = -np.sum(ls)\n",
    "        loss /= mask.sum()\n",
    "\n",
    "        self.cache = (ts, ys, mask, (N, T, V))\n",
    "        return loss\n",
    "\n",
    "    def backward(self, dout=1):\n",
    "        ts, ys, mask, (N, T, V) = self.cache\n",
    "\n",
    "        dx = ys\n",
    "        dx[np.arange(N * T), ts] -= 1\n",
    "        dx *= dout\n",
    "        dx /= mask.sum()\n",
    "        dx *= mask[:, np.newaxis]  # ignore_label에 해당하는 데이터는 기울기를 0으로 설정\n",
    "\n",
    "        dx = dx.reshape((N, T, V))\n",
    "\n",
    "        return dx"
   ]
  },
  {
   "cell_type": "markdown",
   "metadata": {},
   "source": [
    "### RNNLM 학습과 평가"
   ]
  },
  {
   "cell_type": "code",
   "execution_count": 10,
   "metadata": {},
   "outputs": [],
   "source": [
    "## RNNLM에서 사용하는 신경망을 SimpleRnnlm이라는 이름의 클래스로 구현해보자"
   ]
  },
  {
   "cell_type": "code",
   "execution_count": 14,
   "metadata": {},
   "outputs": [],
   "source": [
    "import sys\n",
    "sys.path.append('..')\n",
    "import numpy as np\n",
    "from common.time_layers import *\n",
    "\n",
    "class SimpleRnnlm:\n",
    "    def __init__(self, vocab_size, wordvec_size, hidden_size):\n",
    "        V, D, H = vocab_size, wordvec_size, hidden_size\n",
    "        rn = np.random.randn\n",
    "        \n",
    "        # 가중치 초기화\n",
    "        embed_W = (rn(V, D) / 100).astype('f')       ## 표준편차 0.01 분포 초깃값\n",
    "        rnn_Wx = (rn(D, H) / np.sqrt(D)).astype('f') ## Xavier 초깃값\n",
    "        rnn_Wh = (rn(H, H) / np.sqrt(H)).astype('f') ## Xavier 초깃값\n",
    "        rnn_b = np.zeros(H).astype('f')\n",
    "        affine_W = (rn(H, V) / np.sqrt(H)).astype('f') ## Xavier 초깃값\n",
    "        affine_b = np.zeros(V).astype('f')\n",
    "        \n",
    "        # 계층 생성\n",
    "        self.layers = [\n",
    "            TimeEmbedding(embed_W),\n",
    "            TimeRNN(rnn_Wx, rnn_Wh, rnn_b, stateful = True), ## Truncated BPTT 학습이라 가정하여 stateful = True 설정\n",
    "            TimeAffine(affine_W, affine_b)\n",
    "        ]\n",
    "        self.loss_layer = TimeSoftmaxWithLoss()\n",
    "        self.rnn_layer = self.layers[1]\n",
    "        \n",
    "        # 모든 가중치와 기울기를 리스트에 모은다\n",
    "        self.params, self.grads = [], []\n",
    "        for layer in self.layers:\n",
    "            self.params += layer.params\n",
    "            self.grads += layer.grads\n",
    "            \n",
    "            \n",
    "    def forward(self, xs, ts):\n",
    "        for layer in self.layers:\n",
    "            xs = layer.forward(xs)\n",
    "        loss = self.loss_layer.forward(xs, ts)\n",
    "        return loss\n",
    "    \n",
    "    def backward(self, dout = 1):\n",
    "        dout = self.loss_layer.backward(dout)\n",
    "        for layer in reversed(self.layers):\n",
    "            dout = layer.backward(dout)\n",
    "        return dout\n",
    "    \n",
    "    def reset_state(self):\n",
    "        self.rnn_layer.reset_state()  ## 신경망의 상태를 초기화하는 메서드"
   ]
  },
  {
   "cell_type": "markdown",
   "metadata": {},
   "source": [
    "### 언어 모델의 평가"
   ]
  },
  {
   "cell_type": "code",
   "execution_count": 16,
   "metadata": {},
   "outputs": [],
   "source": [
    "## 언어 모델은 주어진 과거 단어로부터 다음에 출현할 단어의 확률분포를 출력한다.\n",
    "## 이때 언어 모델의 예측 성능을 평가하는 척도로 퍼플렉서티(Perplexity, 혼란도)를 자주 이용한다.\n",
    "## 퍼플렉서티는 간단히 말하면 확률의 역수이다. \n",
    "## 모델 1에 you라는 단어를 주니 say의 확률이 0.8로 나왔고 정답도 say라면 퍼플렉서티는 1 / 0.8 = 1.25이다.\n",
    "## 모델 2에 you라는 단어를 주니 say의 확률이 0.2로 나왔다. 이 때 퍼플렉서티는 1 / 0.2 = 5\n",
    "## 따라서 퍼플렉서티는 낮을수록 좋다는 것을 알 수 있다."
   ]
  },
  {
   "cell_type": "code",
   "execution_count": 17,
   "metadata": {},
   "outputs": [],
   "source": [
    "## 퍼플렉서티는 직관적으로 분기 수(number of bunches)로 해석할 수 있다.\n",
    "## 분기 수란 다음에 취할 수 있는 선택사항의 수를 의미하는데, 분기 수가 1.25라는 것은 다음에 출현할 수 있는 단어 후보를\n",
    "## 1개로 좁혔다는 뜻이다. 반면 5일때는 단어 후보가 5개나 남았다는 것을 의미한다."
   ]
  },
  {
   "cell_type": "code",
   "execution_count": 18,
   "metadata": {},
   "outputs": [],
   "source": [
    "## 입력 데이터(단어)가 여러 개일 때는 L = - 1/N sum(sum(tlogy))\n",
    "## Perplexity = exp(L)로 계산한다.\n",
    "## N은 데이터 총 개수이고, t는 원핫 벡터로 나타낸 정답 레이블, y는 확률분포를 나타낸다.\n",
    "## 정리하면 퍼플렉서티가 작아질수록 분기수가 줄어 좋은 모델이 된다."
   ]
  },
  {
   "cell_type": "code",
   "execution_count": 20,
   "metadata": {},
   "outputs": [],
   "source": [
    "## 이제 위에서 구현한 신경망에 데이터를 주고 학습을 수행해보자\n",
    "## PTB 데이터 셋을 이용하는데, 이번에 사용할 RNNLM은 전부 다 사용하면 좋은 결과를 얻기 힘들기 때문에\n",
    "## 처음 1000개 단어만 사용한다."
   ]
  },
  {
   "cell_type": "code",
   "execution_count": 23,
   "metadata": {},
   "outputs": [
    {
     "name": "stdout",
     "output_type": "stream",
     "text": [
      "말뭉치 크기: 1000, 어휘 수: 418\n",
      "| 에폭 1 | 퍼플렉서티 412.32\n",
      "| 에폭 2 | 퍼플렉서티 327.29\n",
      "| 에폭 3 | 퍼플렉서티 235.56\n",
      "| 에폭 4 | 퍼플렉서티 219.29\n",
      "| 에폭 5 | 퍼플렉서티 209.33\n",
      "| 에폭 6 | 퍼플렉서티 203.33\n",
      "| 에폭 7 | 퍼플렉서티 200.07\n",
      "| 에폭 8 | 퍼플렉서티 197.48\n",
      "| 에폭 9 | 퍼플렉서티 191.97\n",
      "| 에폭 10 | 퍼플렉서티 192.56\n",
      "| 에폭 11 | 퍼플렉서티 188.31\n",
      "| 에폭 12 | 퍼플렉서티 192.78\n",
      "| 에폭 13 | 퍼플렉서티 189.26\n",
      "| 에폭 14 | 퍼플렉서티 189.60\n",
      "| 에폭 15 | 퍼플렉서티 188.94\n",
      "| 에폭 16 | 퍼플렉서티 185.95\n",
      "| 에폭 17 | 퍼플렉서티 183.40\n",
      "| 에폭 18 | 퍼플렉서티 179.13\n",
      "| 에폭 19 | 퍼플렉서티 178.99\n",
      "| 에폭 20 | 퍼플렉서티 180.48\n",
      "| 에폭 21 | 퍼플렉서티 179.54\n",
      "| 에폭 22 | 퍼플렉서티 174.08\n",
      "| 에폭 23 | 퍼플렉서티 172.84\n",
      "| 에폭 24 | 퍼플렉서티 173.82\n",
      "| 에폭 25 | 퍼플렉서티 172.20\n",
      "| 에폭 26 | 퍼플렉서티 169.71\n",
      "| 에폭 27 | 퍼플렉서티 163.28\n",
      "| 에폭 28 | 퍼플렉서티 163.29\n",
      "| 에폭 29 | 퍼플렉서티 160.63\n",
      "| 에폭 30 | 퍼플렉서티 153.49\n",
      "| 에폭 31 | 퍼플렉서티 153.71\n",
      "| 에폭 32 | 퍼플렉서티 148.26\n",
      "| 에폭 33 | 퍼플렉서티 149.47\n",
      "| 에폭 34 | 퍼플렉서티 144.25\n",
      "| 에폭 35 | 퍼플렉서티 142.35\n",
      "| 에폭 36 | 퍼플렉서티 136.80\n",
      "| 에폭 37 | 퍼플렉서티 132.92\n",
      "| 에폭 38 | 퍼플렉서티 128.33\n",
      "| 에폭 39 | 퍼플렉서티 121.67\n",
      "| 에폭 40 | 퍼플렉서티 119.69\n",
      "| 에폭 41 | 퍼플렉서티 118.36\n",
      "| 에폭 42 | 퍼플렉서티 112.54\n",
      "| 에폭 43 | 퍼플렉서티 106.90\n",
      "| 에폭 44 | 퍼플렉서티 101.65\n",
      "| 에폭 45 | 퍼플렉서티 99.55\n",
      "| 에폭 46 | 퍼플렉서티 98.30\n",
      "| 에폭 47 | 퍼플렉서티 92.16\n",
      "| 에폭 48 | 퍼플렉서티 87.86\n",
      "| 에폭 49 | 퍼플렉서티 83.37\n",
      "| 에폭 50 | 퍼플렉서티 79.59\n",
      "| 에폭 51 | 퍼플렉서티 75.10\n",
      "| 에폭 52 | 퍼플렉서티 71.68\n",
      "| 에폭 53 | 퍼플렉서티 68.09\n",
      "| 에폭 54 | 퍼플렉서티 65.36\n",
      "| 에폭 55 | 퍼플렉서티 61.97\n",
      "| 에폭 56 | 퍼플렉서티 58.58\n",
      "| 에폭 57 | 퍼플렉서티 55.67\n",
      "| 에폭 58 | 퍼플렉서티 51.95\n",
      "| 에폭 59 | 퍼플렉서티 48.30\n",
      "| 에폭 60 | 퍼플렉서티 46.14\n",
      "| 에폭 61 | 퍼플렉서티 44.33\n",
      "| 에폭 62 | 퍼플렉서티 41.95\n",
      "| 에폭 63 | 퍼플렉서티 37.38\n",
      "| 에폭 64 | 퍼플렉서티 36.71\n",
      "| 에폭 65 | 퍼플렉서티 35.07\n",
      "| 에폭 66 | 퍼플렉서티 33.00\n",
      "| 에폭 67 | 퍼플렉서티 30.84\n",
      "| 에폭 68 | 퍼플렉서티 28.67\n",
      "| 에폭 69 | 퍼플렉서티 27.44\n",
      "| 에폭 70 | 퍼플렉서티 26.13\n",
      "| 에폭 71 | 퍼플렉서티 24.48\n",
      "| 에폭 72 | 퍼플렉서티 23.86\n",
      "| 에폭 73 | 퍼플렉서티 22.63\n",
      "| 에폭 74 | 퍼플렉서티 20.98\n",
      "| 에폭 75 | 퍼플렉서티 20.33\n",
      "| 에폭 76 | 퍼플렉서티 18.31\n",
      "| 에폭 77 | 퍼플렉서티 17.56\n",
      "| 에폭 78 | 퍼플렉서티 16.81\n",
      "| 에폭 79 | 퍼플렉서티 16.08\n",
      "| 에폭 80 | 퍼플렉서티 14.40\n",
      "| 에폭 81 | 퍼플렉서티 14.15\n",
      "| 에폭 82 | 퍼플렉서티 13.73\n",
      "| 에폭 83 | 퍼플렉서티 12.62\n",
      "| 에폭 84 | 퍼플렉서티 12.18\n",
      "| 에폭 85 | 퍼플렉서티 11.36\n",
      "| 에폭 86 | 퍼플렉서티 11.18\n",
      "| 에폭 87 | 퍼플렉서티 10.46\n",
      "| 에폭 88 | 퍼플렉서티 9.71\n",
      "| 에폭 89 | 퍼플렉서티 9.30\n",
      "| 에폭 90 | 퍼플렉서티 9.19\n",
      "| 에폭 91 | 퍼플렉서티 8.78\n",
      "| 에폭 92 | 퍼플렉서티 8.17\n",
      "| 에폭 93 | 퍼플렉서티 7.90\n",
      "| 에폭 94 | 퍼플렉서티 7.22\n",
      "| 에폭 95 | 퍼플렉서티 6.95\n",
      "| 에폭 96 | 퍼플렉서티 6.81\n",
      "| 에폭 97 | 퍼플렉서티 6.81\n",
      "| 에폭 98 | 퍼플렉서티 6.15\n",
      "| 에폭 99 | 퍼플렉서티 6.10\n",
      "| 에폭 100 | 퍼플렉서티 5.61\n"
     ]
    },
    {
     "data": {
      "image/png": "[encoded data removed]",
      "text/plain": [
       "<Figure size 432x288 with 1 Axes>"
      ]
     },
     "metadata": {
      "needs_background": "light"
     },
     "output_type": "display_data"
    }
   ],
   "source": [
    "# coding: utf-8\n",
    "import sys\n",
    "sys.path.append('..')\n",
    "import matplotlib.pyplot as plt\n",
    "import numpy as np\n",
    "from common.optimizer import SGD\n",
    "from dataset import ptb\n",
    "from ch05.simple_rnnlm import SimpleRnnlm\n",
    "\n",
    "\n",
    "# 하이퍼파라미터 설정\n",
    "batch_size = 10\n",
    "wordvec_size = 100\n",
    "hidden_size = 100 # RNN의 은닉 상태 벡터의 원소 수\n",
    "time_size = 5     # Truncated BPTT가 한 번에 펼치는 시간 크기\n",
    "lr = 0.1\n",
    "max_epoch = 100\n",
    "\n",
    "# 학습 데이터 읽기(전체 중 1000개만)\n",
    "corpus, word_to_id, id_to_word = ptb.load_data('train')\n",
    "corpus_size = 1000\n",
    "corpus = corpus[:corpus_size]\n",
    "vocab_size = int(max(corpus) + 1)\n",
    "\n",
    "xs = corpus[:-1]  # 입력\n",
    "ts = corpus[1:]   # 출력(정답 레이블)\n",
    "data_size = len(xs)\n",
    "print('말뭉치 크기: %d, 어휘 수: %d' % (corpus_size, vocab_size))\n",
    "\n",
    "# 학습 시 사용하는 변수\n",
    "max_iters = data_size // (batch_size * time_size)\n",
    "time_idx = 0\n",
    "total_loss = 0\n",
    "loss_count = 0\n",
    "ppl_list = []\n",
    "\n",
    "# 모델 생성\n",
    "model = SimpleRnnlm(vocab_size, wordvec_size, hidden_size)\n",
    "optimizer = SGD(lr)\n",
    "\n",
    "# 미니배치의 각 샘플의 읽기 시작 위치를 계산\n",
    "jump = (corpus_size - 1) // batch_size\n",
    "offsets = [i * jump for i in range(batch_size)]\n",
    "\n",
    "for epoch in range(max_epoch):\n",
    "    for iter in range(max_iters):\n",
    "        # 미니배치 취득\n",
    "        batch_x = np.empty((batch_size, time_size), dtype='i')\n",
    "        batch_t = np.empty((batch_size, time_size), dtype='i')\n",
    "        for t in range(time_size):\n",
    "            for i, offset in enumerate(offsets):\n",
    "                batch_x[i, t] = xs[(offset + time_idx) % data_size]\n",
    "                batch_t[i, t] = ts[(offset + time_idx) % data_size]\n",
    "            time_idx += 1\n",
    "\n",
    "        # 기울기를 구하여 매개변수 갱신\n",
    "        loss = model.forward(batch_x, batch_t)\n",
    "        model.backward()\n",
    "        optimizer.update(model.params, model.grads)\n",
    "        total_loss += loss\n",
    "        loss_count += 1\n",
    "\n",
    "    # 에폭마다 퍼플렉서티 평가\n",
    "    ppl = np.exp(total_loss / loss_count)\n",
    "    print('| 에폭 %d | 퍼플렉서티 %.2f'\n",
    "          % (epoch+1, ppl))\n",
    "    ppl_list.append(float(ppl))\n",
    "    total_loss, loss_count = 0, 0\n",
    "\n",
    "# 그래프 그리기\n",
    "x = np.arange(len(ppl_list))\n",
    "plt.plot(x, ppl_list, label='train')\n",
    "plt.xlabel('epochs')\n",
    "plt.ylabel('perplexity')\n",
    "plt.show()\n"
   ]
  },
  {
   "cell_type": "code",
   "execution_count": 24,
   "metadata": {},
   "outputs": [],
   "source": [
    "## 현재의 모델로는 큰 말뭉치에는 전혀 대응할 수 없다. 이런 문제는 다음 장에서 개선한다."
   ]
  },
  {
   "cell_type": "code",
   "execution_count": 25,
   "metadata": {},
   "outputs": [],
   "source": [
    "## 방금의 학습을 수행하는 RnnlmTrainer 클래스를 제공\n",
    "## 이 클래스는 방금 수행한 RNNLM 학습을 클래스 안으로 숨겨준다."
   ]
  },
  {
   "cell_type": "code",
   "execution_count": 27,
   "metadata": {},
   "outputs": [
    {
     "name": "stdout",
     "output_type": "stream",
     "text": [
      "| 에폭 1 |  반복 1 / 19 | 시간 0[s] | 퍼플렉서티 417.93\n",
      "| 에폭 2 |  반복 1 / 19 | 시간 0[s] | 퍼플렉서티 353.88\n",
      "| 에폭 3 |  반복 1 / 19 | 시간 0[s] | 퍼플렉서티 248.56\n",
      "| 에폭 4 |  반복 1 / 19 | 시간 0[s] | 퍼플렉서티 217.86\n",
      "| 에폭 5 |  반복 1 / 19 | 시간 0[s] | 퍼플렉서티 209.83\n",
      "| 에폭 6 |  반복 1 / 19 | 시간 0[s] | 퍼플렉서티 208.10\n",
      "| 에폭 7 |  반복 1 / 19 | 시간 0[s] | 퍼플렉서티 200.56\n",
      "| 에폭 8 |  반복 1 / 19 | 시간 0[s] | 퍼플렉서티 200.17\n",
      "| 에폭 9 |  반복 1 / 19 | 시간 0[s] | 퍼플렉서티 195.02\n",
      "| 에폭 10 |  반복 1 / 19 | 시간 0[s] | 퍼플렉서티 190.87\n",
      "| 에폭 11 |  반복 1 / 19 | 시간 0[s] | 퍼플렉서티 193.52\n",
      "| 에폭 12 |  반복 1 / 19 | 시간 0[s] | 퍼플렉서티 189.48\n",
      "| 에폭 13 |  반복 1 / 19 | 시간 0[s] | 퍼플렉서티 192.86\n",
      "| 에폭 14 |  반복 1 / 19 | 시간 0[s] | 퍼플렉서티 187.29\n",
      "| 에폭 15 |  반복 1 / 19 | 시간 0[s] | 퍼플렉서티 186.96\n",
      "| 에폭 16 |  반복 1 / 19 | 시간 0[s] | 퍼플렉서티 191.19\n",
      "| 에폭 17 |  반복 1 / 19 | 시간 0[s] | 퍼플렉서티 189.34\n",
      "| 에폭 18 |  반복 1 / 19 | 시간 1[s] | 퍼플렉서티 184.66\n",
      "| 에폭 19 |  반복 1 / 19 | 시간 1[s] | 퍼플렉서티 181.16\n",
      "| 에폭 20 |  반복 1 / 19 | 시간 1[s] | 퍼플렉서티 181.58\n",
      "| 에폭 21 |  반복 1 / 19 | 시간 1[s] | 퍼플렉서티 178.03\n",
      "| 에폭 22 |  반복 1 / 19 | 시간 1[s] | 퍼플렉서티 178.09\n",
      "| 에폭 23 |  반복 1 / 19 | 시간 1[s] | 퍼플렉서티 180.76\n",
      "| 에폭 24 |  반복 1 / 19 | 시간 1[s] | 퍼플렉서티 177.41\n",
      "| 에폭 25 |  반복 1 / 19 | 시간 1[s] | 퍼플렉서티 170.76\n",
      "| 에폭 26 |  반복 1 / 19 | 시간 1[s] | 퍼플렉서티 173.66\n",
      "| 에폭 27 |  반복 1 / 19 | 시간 1[s] | 퍼플렉서티 169.35\n",
      "| 에폭 28 |  반복 1 / 19 | 시간 1[s] | 퍼플렉서티 170.17\n",
      "| 에폭 29 |  반복 1 / 19 | 시간 1[s] | 퍼플렉서티 166.75\n",
      "| 에폭 30 |  반복 1 / 19 | 시간 1[s] | 퍼플렉서티 160.94\n",
      "| 에폭 31 |  반복 1 / 19 | 시간 1[s] | 퍼플렉서티 157.99\n",
      "| 에폭 32 |  반복 1 / 19 | 시간 1[s] | 퍼플렉서티 153.23\n",
      "| 에폭 33 |  반복 1 / 19 | 시간 2[s] | 퍼플렉서티 152.71\n",
      "| 에폭 34 |  반복 1 / 19 | 시간 2[s] | 퍼플렉서티 150.07\n",
      "| 에폭 35 |  반복 1 / 19 | 시간 2[s] | 퍼플렉서티 145.42\n",
      "| 에폭 36 |  반복 1 / 19 | 시간 2[s] | 퍼플렉서티 141.32\n",
      "| 에폭 37 |  반복 1 / 19 | 시간 2[s] | 퍼플렉서티 142.00\n",
      "| 에폭 38 |  반복 1 / 19 | 시간 2[s] | 퍼플렉서티 132.21\n",
      "| 에폭 39 |  반복 1 / 19 | 시간 2[s] | 퍼플렉서티 129.97\n",
      "| 에폭 40 |  반복 1 / 19 | 시간 2[s] | 퍼플렉서티 124.50\n",
      "| 에폭 41 |  반복 1 / 19 | 시간 2[s] | 퍼플렉서티 120.13\n",
      "| 에폭 42 |  반복 1 / 19 | 시간 2[s] | 퍼플렉서티 119.87\n",
      "| 에폭 43 |  반복 1 / 19 | 시간 2[s] | 퍼플렉서티 113.55\n",
      "| 에폭 44 |  반복 1 / 19 | 시간 2[s] | 퍼플렉서티 108.42\n",
      "| 에폭 45 |  반복 1 / 19 | 시간 3[s] | 퍼플렉서티 103.00\n",
      "| 에폭 46 |  반복 1 / 19 | 시간 3[s] | 퍼플렉서티 100.13\n",
      "| 에폭 47 |  반복 1 / 19 | 시간 3[s] | 퍼플렉서티 96.89\n",
      "| 에폭 48 |  반복 1 / 19 | 시간 3[s] | 퍼플렉서티 92.60\n",
      "| 에폭 49 |  반복 1 / 19 | 시간 3[s] | 퍼플렉서티 89.24\n",
      "| 에폭 50 |  반복 1 / 19 | 시간 3[s] | 퍼플렉서티 84.66\n",
      "| 에폭 51 |  반복 1 / 19 | 시간 3[s] | 퍼플렉서티 81.92\n",
      "| 에폭 52 |  반복 1 / 19 | 시간 3[s] | 퍼플렉서티 76.04\n",
      "| 에폭 53 |  반복 1 / 19 | 시간 3[s] | 퍼플렉서티 74.40\n",
      "| 에폭 54 |  반복 1 / 19 | 시간 3[s] | 퍼플렉서티 70.05\n",
      "| 에폭 55 |  반복 1 / 19 | 시간 3[s] | 퍼플렉서티 66.33\n",
      "| 에폭 56 |  반복 1 / 19 | 시간 3[s] | 퍼플렉서티 63.65\n",
      "| 에폭 57 |  반복 1 / 19 | 시간 3[s] | 퍼플렉서티 62.90\n",
      "| 에폭 58 |  반복 1 / 19 | 시간 3[s] | 퍼플렉서티 57.52\n",
      "| 에폭 59 |  반복 1 / 19 | 시간 3[s] | 퍼플렉서티 54.43\n",
      "| 에폭 60 |  반복 1 / 19 | 시간 3[s] | 퍼플렉서티 51.33\n",
      "| 에폭 61 |  반복 1 / 19 | 시간 4[s] | 퍼플렉서티 47.45\n",
      "| 에폭 62 |  반복 1 / 19 | 시간 4[s] | 퍼플렉서티 44.83\n",
      "| 에폭 63 |  반복 1 / 19 | 시간 4[s] | 퍼플렉서티 43.87\n",
      "| 에폭 64 |  반복 1 / 19 | 시간 4[s] | 퍼플렉서티 40.59\n",
      "| 에폭 65 |  반복 1 / 19 | 시간 4[s] | 퍼플렉서티 37.59\n",
      "| 에폭 66 |  반복 1 / 19 | 시간 4[s] | 퍼플렉서티 36.14\n",
      "| 에폭 67 |  반복 1 / 19 | 시간 4[s] | 퍼플렉서티 33.98\n",
      "| 에폭 68 |  반복 1 / 19 | 시간 4[s] | 퍼플렉서티 31.85\n",
      "| 에폭 69 |  반복 1 / 19 | 시간 4[s] | 퍼플렉서티 30.77\n",
      "| 에폭 70 |  반복 1 / 19 | 시간 4[s] | 퍼플렉서티 28.93\n",
      "| 에폭 71 |  반복 1 / 19 | 시간 4[s] | 퍼플렉서티 27.17\n",
      "| 에폭 72 |  반복 1 / 19 | 시간 4[s] | 퍼플렉서티 25.52\n",
      "| 에폭 73 |  반복 1 / 19 | 시간 4[s] | 퍼플렉서티 24.73\n",
      "| 에폭 74 |  반복 1 / 19 | 시간 4[s] | 퍼플렉서티 23.39\n",
      "| 에폭 75 |  반복 1 / 19 | 시간 4[s] | 퍼플렉서티 21.88\n",
      "| 에폭 76 |  반복 1 / 19 | 시간 4[s] | 퍼플렉서티 21.04\n",
      "| 에폭 77 |  반복 1 / 19 | 시간 5[s] | 퍼플렉서티 19.48\n",
      "| 에폭 78 |  반복 1 / 19 | 시간 5[s] | 퍼플렉서티 18.17\n",
      "| 에폭 79 |  반복 1 / 19 | 시간 5[s] | 퍼플렉서티 17.63\n",
      "| 에폭 80 |  반복 1 / 19 | 시간 5[s] | 퍼플렉서티 16.86\n",
      "| 에폭 81 |  반복 1 / 19 | 시간 5[s] | 퍼플렉서티 15.68\n",
      "| 에폭 82 |  반복 1 / 19 | 시간 5[s] | 퍼플렉서티 14.72\n",
      "| 에폭 83 |  반복 1 / 19 | 시간 5[s] | 퍼플렉서티 14.24\n",
      "| 에폭 84 |  반복 1 / 19 | 시간 5[s] | 퍼플렉서티 14.29\n",
      "| 에폭 85 |  반복 1 / 19 | 시간 5[s] | 퍼플렉서티 13.08\n",
      "| 에폭 86 |  반복 1 / 19 | 시간 5[s] | 퍼플렉서티 12.02\n",
      "| 에폭 87 |  반복 1 / 19 | 시간 5[s] | 퍼플렉서티 11.66\n",
      "| 에폭 88 |  반복 1 / 19 | 시간 5[s] | 퍼플렉서티 10.65\n",
      "| 에폭 89 |  반복 1 / 19 | 시간 5[s] | 퍼플렉서티 10.73\n",
      "| 에폭 90 |  반복 1 / 19 | 시간 5[s] | 퍼플렉서티 10.46\n",
      "| 에폭 91 |  반복 1 / 19 | 시간 6[s] | 퍼플렉서티 9.59\n",
      "| 에폭 92 |  반복 1 / 19 | 시간 6[s] | 퍼플렉서티 9.20\n",
      "| 에폭 93 |  반복 1 / 19 | 시간 6[s] | 퍼플렉서티 8.87\n",
      "| 에폭 94 |  반복 1 / 19 | 시간 6[s] | 퍼플렉서티 8.43\n",
      "| 에폭 95 |  반복 1 / 19 | 시간 6[s] | 퍼플렉서티 8.08\n",
      "| 에폭 96 |  반복 1 / 19 | 시간 6[s] | 퍼플렉서티 7.79\n",
      "| 에폭 97 |  반복 1 / 19 | 시간 6[s] | 퍼플렉서티 7.55\n",
      "| 에폭 98 |  반복 1 / 19 | 시간 6[s] | 퍼플렉서티 7.25\n",
      "| 에폭 99 |  반복 1 / 19 | 시간 6[s] | 퍼플렉서티 6.45\n",
      "| 에폭 100 |  반복 1 / 19 | 시간 6[s] | 퍼플렉서티 6.26\n"
     ]
    },
    {
     "name": "stderr",
     "output_type": "stream",
     "text": [
      "C:\\Users\\LoteeYoon\\Anaconda3\\lib\\site-packages\\matplotlib\\backends\\backend_agg.py:211: RuntimeWarning: Glyph 48152 missing from current font.\n",
      "  font.set_text(s, 0.0, flags=flags)\n",
      "C:\\Users\\LoteeYoon\\Anaconda3\\lib\\site-packages\\matplotlib\\backends\\backend_agg.py:211: RuntimeWarning: Glyph 48373 missing from current font.\n",
      "  font.set_text(s, 0.0, flags=flags)\n",
      "C:\\Users\\LoteeYoon\\Anaconda3\\lib\\site-packages\\matplotlib\\backends\\backend_agg.py:180: RuntimeWarning: Glyph 48152 missing from current font.\n",
      "  font.set_text(s, 0, flags=flags)\n",
      "C:\\Users\\LoteeYoon\\Anaconda3\\lib\\site-packages\\matplotlib\\backends\\backend_agg.py:180: RuntimeWarning: Glyph 48373 missing from current font.\n",
      "  font.set_text(s, 0, flags=flags)\n",
      "C:\\Users\\LoteeYoon\\Anaconda3\\lib\\site-packages\\matplotlib\\backends\\backend_agg.py:211: RuntimeWarning: Glyph 54140 missing from current font.\n",
      "  font.set_text(s, 0.0, flags=flags)\n",
      "C:\\Users\\LoteeYoon\\Anaconda3\\lib\\site-packages\\matplotlib\\backends\\backend_agg.py:211: RuntimeWarning: Glyph 54540 missing from current font.\n",
      "  font.set_text(s, 0.0, flags=flags)\n",
      "C:\\Users\\LoteeYoon\\Anaconda3\\lib\\site-packages\\matplotlib\\backends\\backend_agg.py:211: RuntimeWarning: Glyph 47113 missing from current font.\n",
      "  font.set_text(s, 0.0, flags=flags)\n",
      "C:\\Users\\LoteeYoon\\Anaconda3\\lib\\site-packages\\matplotlib\\backends\\backend_agg.py:211: RuntimeWarning: Glyph 49436 missing from current font.\n",
      "  font.set_text(s, 0.0, flags=flags)\n",
      "C:\\Users\\LoteeYoon\\Anaconda3\\lib\\site-packages\\matplotlib\\backends\\backend_agg.py:211: RuntimeWarning: Glyph 54000 missing from current font.\n",
      "  font.set_text(s, 0.0, flags=flags)\n",
      "C:\\Users\\LoteeYoon\\Anaconda3\\lib\\site-packages\\matplotlib\\backends\\backend_agg.py:180: RuntimeWarning: Glyph 54140 missing from current font.\n",
      "  font.set_text(s, 0, flags=flags)\n",
      "C:\\Users\\LoteeYoon\\Anaconda3\\lib\\site-packages\\matplotlib\\backends\\backend_agg.py:180: RuntimeWarning: Glyph 54540 missing from current font.\n",
      "  font.set_text(s, 0, flags=flags)\n",
      "C:\\Users\\LoteeYoon\\Anaconda3\\lib\\site-packages\\matplotlib\\backends\\backend_agg.py:180: RuntimeWarning: Glyph 47113 missing from current font.\n",
      "  font.set_text(s, 0, flags=flags)\n",
      "C:\\Users\\LoteeYoon\\Anaconda3\\lib\\site-packages\\matplotlib\\backends\\backend_agg.py:180: RuntimeWarning: Glyph 49436 missing from current font.\n",
      "  font.set_text(s, 0, flags=flags)\n",
      "C:\\Users\\LoteeYoon\\Anaconda3\\lib\\site-packages\\matplotlib\\backends\\backend_agg.py:180: RuntimeWarning: Glyph 54000 missing from current font.\n",
      "  font.set_text(s, 0, flags=flags)\n"
     ]
    },
    {
     "data": {
      "image/png": "[encoded data removed]",
      "text/plain": [
       "<Figure size 432x288 with 1 Axes>"
      ]
     },
     "metadata": {
      "needs_background": "light"
     },
     "output_type": "display_data"
    }
   ],
   "source": [
    "# coding: utf-8\n",
    "import sys\n",
    "sys.path.append('..')\n",
    "from common.optimizer import SGD\n",
    "from common.trainer import RnnlmTrainer\n",
    "from dataset import ptb\n",
    "from ch05.simple_rnnlm import SimpleRnnlm\n",
    "\n",
    "\n",
    "# 하이퍼파라미터 설정\n",
    "batch_size = 10\n",
    "wordvec_size = 100\n",
    "hidden_size = 100  # RNN의 은닉 상태 벡터의 원소 수\n",
    "time_size = 5  # RNN을 펼치는 크기\n",
    "lr = 0.1\n",
    "max_epoch = 100\n",
    "\n",
    "# 학습 데이터 읽기\n",
    "corpus, word_to_id, id_to_word = ptb.load_data('train')\n",
    "corpus_size = 1000  # 테스트 데이터셋을 작게 설정\n",
    "corpus = corpus[:corpus_size]\n",
    "vocab_size = int(max(corpus) + 1)\n",
    "xs = corpus[:-1]  # 입력\n",
    "ts = corpus[1:]  # 출력（정답 레이블）\n",
    "\n",
    "# 모델 생성\n",
    "model = SimpleRnnlm(vocab_size, wordvec_size, hidden_size)\n",
    "optimizer = SGD(lr)\n",
    "trainer = RnnlmTrainer(model, optimizer)\n",
    "\n",
    "trainer.fit(xs, ts, max_epoch, batch_size, time_size)\n",
    "trainer.plot()\n"
   ]
  },
  {
   "cell_type": "code",
   "execution_count": null,
   "metadata": {},
   "outputs": [],
   "source": []
  }
 ],
 "metadata": {
  "kernelspec": {
   "display_name": "Python 3",
   "language": "python",
   "name": "python3"
  },
  "language_info": {
   "codemirror_mode": {
    "name": "ipython",
    "version": 3
   },
   "file_extension": ".py",
   "mimetype": "text/x-python",
   "name": "python",
   "nbconvert_exporter": "python",
   "pygments_lexer": "ipython3",
   "version": "3.7.5"
  }
 },
 "nbformat": 4,
 "nbformat_minor": 4
}
