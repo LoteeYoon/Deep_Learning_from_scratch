{
 "cells": [
  {
   "cell_type": "code",
   "execution_count": 1,
   "metadata": {},
   "outputs": [],
   "source": [
    "## 5장에서 본 RNN은 순환경로를 포함하며 과거의 정보를 기억할 수 있었다.\n",
    "## 구조가 단순하고 구현도 쉽지만 성능이 좋지 못하다.\n",
    "## 시계열 데이터에서 시간적으로 멀리 떨어진, 장기(Long Term)의존 관계를 잘 학습하지 못한다."
   ]
  },
  {
   "cell_type": "code",
   "execution_count": 2,
   "metadata": {},
   "outputs": [],
   "source": [
    "## 요즘에는 단순 RNN 대신 LSTM, GRU이 주로 쓰인다.\n",
    "## LSTM, GRU에는 게이트(gate)라는 구조가 더해져 있는데, 이 게이트 덕분에 시계열 데이터의 장기 의존 관계를 학습할 수 있다."
   ]
  },
  {
   "cell_type": "markdown",
   "metadata": {},
   "source": [
    "# 1. RNN의 문제점"
   ]
  },
  {
   "cell_type": "code",
   "execution_count": 3,
   "metadata": {},
   "outputs": [],
   "source": [
    "## RNN은 장기 의존 관계 학습이 어려운데, 그 이유는 BPTT에서 기울기 소실 또는 기울기 폭발이 일어나기 때문이다."
   ]
  },
  {
   "cell_type": "markdown",
   "metadata": {},
   "source": [
    "### 기울기 소실과 기울기 폭발의 원인"
   ]
  },
  {
   "cell_type": "code",
   "execution_count": 4,
   "metadata": {},
   "outputs": [],
   "source": [
    "## 길이가 T인 시계열 데이터를 가정하여 T번째 정답 레이블로부터 전해지는 기울기가 어떻게 변하는지 보자.\n",
    "## RNN 계층에서 시간방향 기울기 전파에만 주목해보자\n",
    "## 시간 방향 기울기에 주목하면 역전파로 전해지는 기울기는 차례로 'tanh', '+', 'MatMul(행렬 곱)' 연산을 통과한다. "
   ]
  },
  {
   "cell_type": "code",
   "execution_count": 5,
   "metadata": {},
   "outputs": [],
   "source": [
    "## '+'의 역전파는 그대로 흘러보낼 뿐이므로 기울기 변화가 없다.\n",
    "## 'tanh'의 경우 미분하면 1 - tanh**2 이다. 그래프를 보면 y값이 0과 1사이이고 x가 0으로부터 멀어질수록 값이 작아진다.\n",
    "## 따라서 역전파에서 기울기가 tanh 노드를 지날 때마다 값은 점점 작아진다.\n",
    "## ReLU를 사용하면 기울기 소실 문제를 줄일 수 있다. 입력 x가 0이상이면 상류의 기울기를 그대로 보내기 때문이다.\n",
    "\n",
    "## 'MatMul' 노드에서 상류로부터 dh라는 기울기가 흘러온다고 하면, 통과 후 dhW(h).T가 된다. 그리고 같은 계산을 시계열 데이터\n",
    "## 시간 크기만큼 반복한다. 여기서 주목할 점은 매번 똑같은 가중치 W(h)가 사용된다는 것이다.\n",
    "## 그러면 어떻게 될까?"
   ]
  },
  {
   "cell_type": "code",
   "execution_count": 10,
   "metadata": {},
   "outputs": [
    {
     "name": "stdout",
     "output_type": "stream",
     "text": [
      "[2.4684068094579303, 3.3357049741610365, 4.783279375373182, 6.279587332087612, 8.080776465019053, 10.251163032292936, 12.936063506609896, 16.276861327786712, 20.45482961834598, 25.688972842084684, 32.25315718048336, 40.48895641683869, 50.8244073070191, 63.79612654485427, 80.07737014308985, 100.5129892205125, 126.16331847536823, 158.35920648258823, 198.7710796761195, 249.495615421267]\n"
     ]
    },
    {
     "data": {
      "image/png": "[encoded data removed]",
      "text/plain": [
       "<Figure size 432x288 with 1 Axes>"
      ]
     },
     "metadata": {
      "needs_background": "light"
     },
     "output_type": "display_data"
    }
   ],
   "source": [
    "import numpy as np\n",
    "import matplotlib.pyplot as plt\n",
    "\n",
    "N = 2\n",
    "H = 3\n",
    "T = 20\n",
    "\n",
    "dh = np.ones((N, H))\n",
    "np.random.seed(3) # 재현할 수 있도록 난수의 시드 고정\n",
    "Wh = np.random.randn(H, H)\n",
    "\n",
    "norm_list = []\n",
    "for t in range(T):  ## matmul 노드 수(T)만큼 dh 갱신\n",
    "    dh = np.matmul(dh, Wh.T)\n",
    "    norm = np.sqrt(np.sum(dh**2)) / N \n",
    "    norm_list.append(norm)  ## 각 단계에서 dh의 크기(norm)을 구해 norm_list에 저장\n",
    "    \n",
    "print(norm_list)\n",
    "\n",
    "# 그래프 그리기\n",
    "plt.plot(np.arange(len(norm_list)), norm_list)\n",
    "plt.xticks([0, 4, 9, 14, 19], [1, 5, 10, 15, 20])\n",
    "plt.xlabel('time step')\n",
    "plt.ylabel('norm')\n",
    "plt.show()"
   ]
  },
  {
   "cell_type": "code",
   "execution_count": 11,
   "metadata": {},
   "outputs": [],
   "source": [
    "## 결과를 보면 시간에 비례해 지수적으로 기울기가 커지는 것을 알 수 있다.\n",
    "## 이것이 바로 기울기 폭발(gradient exploding)이다.\n",
    "## 기울기 폭발이 이러나면 오버플로를 일으켜 NaN(Not a Number)값을 발생시킨다."
   ]
  },
  {
   "cell_type": "code",
   "execution_count": 12,
   "metadata": {},
   "outputs": [
    {
     "name": "stdout",
     "output_type": "stream",
     "text": [
      "[1.2342034047289652, 0.8339262435402591, 0.5979099219216477, 0.39247420825547574, 0.2525242645318454, 0.16017442237957713, 0.10106299614538981, 0.06358148956166684, 0.03995083909833199, 0.025086887541098325, 0.015748611904532892, 0.009884999125204758, 0.006204151282595105, 0.003893806551809953, 0.002443767399386287, 0.0015337065005571365, 0.0009625497320203265, 0.0006040924319556741, 0.00037912574706291106, 0.00023793756048323344]\n"
     ]
    },
    {
     "data": {
      "image/png": "[encoded data removed]",
      "text/plain": [
       "<Figure size 432x288 with 1 Axes>"
      ]
     },
     "metadata": {
      "needs_background": "light"
     },
     "output_type": "display_data"
    }
   ],
   "source": [
    "## Wh의 초깃값을 변경한 뒤 다시 실험을 해보자\n",
    "\n",
    "\n",
    "import numpy as np\n",
    "import matplotlib.pyplot as plt\n",
    "\n",
    "N = 2\n",
    "H = 3\n",
    "T = 20\n",
    "\n",
    "dh = np.ones((N, H))\n",
    "np.random.seed(3) # 재현할 수 있도록 난수의 시드 고정\n",
    "# Wh = np.random.randn(H, H)\n",
    "Wh = np.random.randn(H, H) * 0.5\n",
    "\n",
    "norm_list = []\n",
    "for t in range(T):  ## matmul 노드 수(T)만큼 dh 갱신\n",
    "    dh = np.matmul(dh, Wh.T)\n",
    "    norm = np.sqrt(np.sum(dh**2)) / N \n",
    "    norm_list.append(norm)  ## 각 단계에서 dh의 크기(norm)을 구해 norm_list에 저장\n",
    "    \n",
    "print(norm_list)\n",
    "\n",
    "# 그래프 그리기\n",
    "plt.plot(np.arange(len(norm_list)), norm_list)\n",
    "plt.xticks([0, 4, 9, 14, 19], [1, 5, 10, 15, 20])\n",
    "plt.xlabel('time step')\n",
    "plt.ylabel('norm')\n",
    "plt.show()"
   ]
  },
  {
   "cell_type": "code",
   "execution_count": 13,
   "metadata": {},
   "outputs": [],
   "source": [
    "## 이번에는 지수적으로 감소한다.\n",
    "## 이것이 기울기 소실(gradient vanishing)이다. \n",
    "## 기울기가 계속 작아지다가 매개변수가 더 이상 갱신되지 않게 되므로 학습이 되지 않는다."
   ]
  },
  {
   "cell_type": "code",
   "execution_count": 28,
   "metadata": {},
   "outputs": [],
   "source": [
    "## 이런 지수적인 기울기 변화는 행렬 Wh를 T번 반복해서 곱했기 때문이다. \n",
    "## 스칼라에서는 1보다 크면 증가, 1보다 작으면 감소한다.\n",
    "## 행렬의 경우 특잇값(데이터가 얼마나 퍼져 있는지)이 척도가 된다.\n",
    "## 특잇값 중 최댓값이 1보다 큰지 여부를 보면 기울기가 어떻게 변할 지 알 수 있다."
   ]
  },
  {
   "cell_type": "code",
   "execution_count": 30,
   "metadata": {},
   "outputs": [],
   "source": [
    "## 결국 RNN 신경망에서 'tanh'와 'MatMul' 노드로 인해 기울기 소실과 폭발 문제가 발생한다."
   ]
  },
  {
   "cell_type": "markdown",
   "metadata": {},
   "source": [
    "### 기울기 폭발 대책"
   ]
  },
  {
   "cell_type": "code",
   "execution_count": 16,
   "metadata": {},
   "outputs": [],
   "source": [
    "## 기울기 폭발 대책으로는 전통적인 기법이 있다. \n",
    "## 바로 기울기 클리핑(gradients clipping)이라는 기법이다.\n",
    "\n",
    "## 기울기 크기(norm)이 특정 값(threshold)를 초과하면 기울기를 갱신한다. g = (threshold / norm(g)) * g"
   ]
  },
  {
   "cell_type": "code",
   "execution_count": 27,
   "metadata": {},
   "outputs": [
    {
     "name": "stdout",
     "output_type": "stream",
     "text": [
      "before: [9.7795241  5.02751048 8.29001078 0.74037796 4.78915452 0.6227948\n",
      " 8.84241431 4.45810179 0.68549918]\n",
      "after: [2.24156114 1.15235384 1.90015034 0.16970176 1.09772036 0.14275057\n",
      " 2.02676655 1.02183988 0.15712302]\n"
     ]
    }
   ],
   "source": [
    "# coding: utf-8\n",
    "import numpy as np\n",
    "\n",
    "\n",
    "dW1 = np.random.rand(3, 3) * 10\n",
    "dW2 = np.random.rand(3, 3) * 10\n",
    "grads = [dW1, dW2]\n",
    "max_norm = 5.0\n",
    "\n",
    "\n",
    "def clip_grads(grads, max_norm):\n",
    "    total_norm = 0\n",
    "    for grad in grads:\n",
    "        total_norm += np.sum(grad ** 2)\n",
    "    total_norm = np.sqrt(total_norm)\n",
    "\n",
    "    rate = max_norm / (total_norm + 1e-6)\n",
    "    if rate < 1:\n",
    "        for grad in grads:\n",
    "            grad *= rate\n",
    "\n",
    "\n",
    "print('before:', dW1.flatten())\n",
    "clip_grads(grads, max_norm)\n",
    "print('after:', dW1.flatten())\n"
   ]
  },
  {
   "cell_type": "markdown",
   "metadata": {},
   "source": [
    "# 2. 기울기 소실과 LSTM"
   ]
  },
  {
   "cell_type": "markdown",
   "metadata": {},
   "source": [
    "### LSTM의 인터페이스"
   ]
  },
  {
   "cell_type": "code",
   "execution_count": 31,
   "metadata": {},
   "outputs": [],
   "source": [
    "## LSTM 계층의 인터페이스에는 c라는 경로가 있다\n",
    "## c를 기억 셀(memory cell)이라 하며, LSTM 전용 기억 메커니즘이다.\n",
    "## 기억 셀의 특징은 LSTM 계층 내에서만(같은 층에서만) 주고받는다는 것이다.\n",
    "## 반면, 은닉상태 h는 RNN과 마찬가지로 다른 층으로 출력된다."
   ]
  },
  {
   "cell_type": "markdown",
   "metadata": {},
   "source": [
    "### LSTM 계층 조립하기"
   ]
  },
  {
   "cell_type": "code",
   "execution_count": 1,
   "metadata": {},
   "outputs": [],
   "source": [
    "## LSTM에는 기억 셀 C(t)가 있다. 이 기억 셀에는 시각 t에서의 LSTM의 기억이 저장돼 있는데\n",
    "## 과거로부터 시각 t까지 필요한 모든 정보가 저장돼 있다"
   ]
  },
  {
   "cell_type": "code",
   "execution_count": 2,
   "metadata": {},
   "outputs": [],
   "source": [
    "## 기억 셀 c(t)는 3개의 입력(c(t-1), h(t-1), x(t))으로부터 '어떤 계산'을 수행하여 구할 수 있다. \n",
    "## 여기서 핵심은 갱신된 c(t)를 사용해 은닉 상태 h(t)를 계산한다는 것이다. h(t) = tanh(c(t))\n",
    "## 기억 셀 c(t)와 은닉 상태 h(t)의 원소 수는 같다."
   ]
  },
  {
   "cell_type": "code",
   "execution_count": 3,
   "metadata": {},
   "outputs": [],
   "source": [
    "## LSTM에서 사용하는 게이트는 '열기/닫기' 뿐 아니라 어느 정도 게이트를 열지 정도 또한 조절할 수 있다.\n",
    "## 게이트의 열림 상태는 0 ~ 1 사이의 실수로 나타난다.\n",
    "## 여기서 중요한 것은 게이트를 얼마나 열까라는 것도 데이터로부터 학습한다는 것이다.\n",
    "## 게이트는 게이트 열림 상태를 제어하기 위해 전용 가중치 매개변수를 이용한다. 게이트 열림상태를 구할 때는 시그모이드 함수를 \n",
    "## 사용하는데, 시그모이드 함수 출력이 마침 0 ~ 1사이 실수이기 때문이다."
   ]
  },
  {
   "cell_type": "markdown",
   "metadata": {},
   "source": [
    "### output 게이트"
   ]
  },
  {
   "cell_type": "code",
   "execution_count": 7,
   "metadata": {},
   "outputs": [],
   "source": [
    "## output 게이트의 열림 상태는 입력x(t)와 이전 상태h(t-1)로부터 구한다.\n",
    "## o = sigmoid(x(t)W(x) + h(t-1)W(h) + b)\n",
    "## h(t) = o * tanh(c(t)) --- 여기서 곱은 원소별 곱이며, 하다마르 곱(Hadamard Product)이라고도 한다."
   ]
  },
  {
   "cell_type": "code",
   "execution_count": 8,
   "metadata": {},
   "outputs": [],
   "source": [
    "## tanh의 출력은 -1.0 ~ 1.0의 실수이다. 이 수치를 그 안에 인코딩된 '정보'의 정도를 나타낸다고 볼 수 있다.\n",
    "## sigmoid 출력은 0 ~ 1의 실수이며, 데이터를 얼마나 통과시킬지를 정하는 비율을 뜻한다.\n",
    "## 따라서 게이트에서는 sigmoid가 실질적인 정보를 지니는 데이터에는 tanh함수가 쓰인다."
   ]
  },
  {
   "cell_type": "markdown",
   "metadata": {},
   "source": [
    "### forget 게이트"
   ]
  },
  {
   "cell_type": "code",
   "execution_count": 9,
   "metadata": {},
   "outputs": [],
   "source": [
    "## c(t-1)의 기억 중에서 불필요한 정보를 제거하는 역할을 한다.\n",
    "## f = sigmoid(x(t)W(x) + h(t-1)W(h) + b)\n",
    "## c(t) = f * c(t-1) --- Hadamard product"
   ]
  },
  {
   "cell_type": "markdown",
   "metadata": {},
   "source": [
    "### 새로운 기억 셀"
   ]
  },
  {
   "cell_type": "code",
   "execution_count": 10,
   "metadata": {},
   "outputs": [],
   "source": [
    "## forget게이트를 거치면서 이전 시각의 기억 셀로부터 불필요한 기억을 없앴다.\n",
    "## 그 다음 바로 현재 상태에서 새로 기억해야 할 정보를 기억 셀에 추가해야 한다.\n",
    "## g = tanh(x(t)W(x) + h(t-1)W(h) + b)"
   ]
  },
  {
   "cell_type": "code",
   "execution_count": 11,
   "metadata": {},
   "outputs": [],
   "source": [
    "## (f * c(t-1))+ g = c(t)"
   ]
  },
  {
   "cell_type": "markdown",
   "metadata": {},
   "source": [
    "### input 게이트"
   ]
  },
  {
   "cell_type": "code",
   "execution_count": 12,
   "metadata": {},
   "outputs": [],
   "source": [
    "## 마지막으로 g에 게이트를 하나 추가한다.\n",
    "## input 게이트는 g의 각 원소가 새로 추가되는 정보로써의 가치가 얼마나 큰지를 판단한다.\n",
    "## 새로 추가되는 정보를 적절히 취사선택하는 것이 이 게이트의 역할이다."
   ]
  },
  {
   "cell_type": "code",
   "execution_count": 17,
   "metadata": {},
   "outputs": [],
   "source": [
    "## i = sigmoid(x(t)W(x) + h(t-1)W(h) + b)\n",
    "\n",
    "## (f * c(t-1)) + (g * i) = c(t)\n",
    "## h(t) = o * tanh(c(t))"
   ]
  },
  {
   "cell_type": "markdown",
   "metadata": {},
   "source": [
    "### LSTM 기울기의 흐름"
   ]
  },
  {
   "cell_type": "code",
   "execution_count": 15,
   "metadata": {},
   "outputs": [],
   "source": [
    "## 기억 셀 c의 역전파를 주목하면 기울기 소실을 없애주는 원리를 알 수 있다.\n",
    "## 기억 셀의 역전파에는 '+'와 'x'노드만을 지나게 된다. \n",
    "## '+'노드는 기울기를 그대로 흘릴 뿐이므로 기울기 변화가 없다.\n",
    "## 'x'노드는 RNN에서처럼 행렬곱이 아니라 원소별 곱(아다마르 곱)이고, 매 시각 다른 게이트 값을 이용해 원소별 곱을 한다.\n",
    "## 매번 새로운 게이트 값을 이용하므로 곱셈의 효과가 누적되지 않아 기울기 소실이 일어나지 않는 것이다."
   ]
  },
  {
   "cell_type": "code",
   "execution_count": 16,
   "metadata": {},
   "outputs": [],
   "source": [
    "## 'x'노드의 계산은 forget 게이트가 제어한다. \n",
    "## forget 게이트가 중요하지 않다고 판단한 기억 셀의 원소는 기울기가 작아지고\n",
    "## 중요하다고 판단한 원소는 약화되지 않은 채 전해진다."
   ]
  },
  {
   "cell_type": "markdown",
   "metadata": {},
   "source": [
    "# 3. LSTM 구현"
   ]
  },
  {
   "cell_type": "code",
   "execution_count": 18,
   "metadata": {},
   "outputs": [],
   "source": [
    "## 최초의 한 단계만 처리하는 LSTM 클래스를 구현한 다음 이어서 T개의 단계를 한 번에 처리하는 Time LSTM 클래스를 구현해보자\n",
    "\n",
    "## f = sigmoid(x(t) * W(x)_f + h(t-1) * W(h)_f + b_f)\n",
    "## g = tanh(x(t) * W(x)_g + h(t-1) * w(h)_g + b_g)\n",
    "## i = sigmoid(x(t) * W(x)_i + h(t-1) * W(h)_i + b_i)\n",
    "## o = sigmoid(x(t) * W(x)_o + h(t-1) * W(h)_o + b_o)\n",
    "## c(t) = (f * c(t-1)) + (g * i)\n",
    "## h(t) = o * tanh(c(t))\n",
    "\n",
    "## LSTM에서 수행하는 계산이다.\n",
    "## 여기서 주목할 부분은 네 수식에 포함된 아핀 변환(xw(x) + hw(h) + b)이다. \n",
    "## 각 식의 가중치를 모아 4개의 식을 단 한 번의 아핀 변환으로 계산할 수 있다.\n",
    "## x(t)*[W(x)_f, W(x)_g, W(x)_i, W(x)_o] + h(t-1)*[W(h)_f, W(h)_g, W(h)_i, W(h)_o] + [b_f, b_g, b_i, b_o]"
   ]
  },
  {
   "cell_type": "code",
   "execution_count": 19,
   "metadata": {},
   "outputs": [],
   "source": [
    "## 원래 총 4번의 계산을 한 번으로 마칠 수 있다.\n",
    "## 행렬 라이브러리는 큰 행렬을 한 번에 계산할 때가 훨씬 빠르다."
   ]
  },
  {
   "cell_type": "code",
   "execution_count": 21,
   "metadata": {},
   "outputs": [],
   "source": [
    "class LSTM:\n",
    "    def __init__(self, Wx, Wh, b): ## 4개분의 가중치와 편향이 담겨 있다.\n",
    "        self.params = [Wx, Wh, b]\n",
    "        self.grads = [np.zeros_like(Wx), np.zeros_like(Wh), np.zeros_like(b)]\n",
    "        self.cache = None ## 순전파 때 중간 결과를 보관했다가 역전파 계산에 사용하려는 용도\n",
    "        \n",
    "    def forward(self, x, h_prev, c_prev):\n",
    "        Wx, Wh, b = self.params\n",
    "        N, H = h_prev.shape\n",
    "        \n",
    "        A = np.matmul(x, Wx) + np.matmul(h_prev, Wh) + b\n",
    "        \n",
    "        # slice\n",
    "        f = A[:, :H]\n",
    "        g = A[:, H:2*H]\n",
    "        i = A[:, 2*H:3*H]\n",
    "        o = A[:, 3*H:]\n",
    "        \n",
    "        f = sigmoid(f)\n",
    "        g = np.tanh(g)\n",
    "        i = sigmoid(i)\n",
    "        o = sigmoid(o)\n",
    "        \n",
    "        c_next = f * c_prev + g * i\n",
    "        h_next = o * np.tanh(c_next)\n",
    "        \n",
    "        self.cache = (x, h_prev, c_prev, i, f, g, o, c_next)\n",
    "        return h_next, c_next\n",
    "    \n",
    "    def backward(self, dh_next, dc_next):\n",
    "        Wx, Wh, b = self.params\n",
    "        x, h_prev, c_prev, i, f, g, o, c_next = self.cache\n",
    "\n",
    "        tanh_c_next = np.tanh(c_next)\n",
    "\n",
    "        ds = dc_next + (dh_next * o) * (1 - tanh_c_next ** 2)\n",
    "\n",
    "        dc_prev = ds * f\n",
    "\n",
    "        di = ds * g\n",
    "        df = ds * c_prev\n",
    "        do = dh_next * tanh_c_next\n",
    "        dg = ds * i\n",
    "\n",
    "        di *= i * (1 - i)\n",
    "        df *= f * (1 - f)\n",
    "        do *= o * (1 - o)\n",
    "        dg *= (1 - g ** 2)\n",
    "\n",
    "        dA = np.hstack((df, dg, di, do))\n",
    "\n",
    "        dWh = np.dot(h_prev.T, dA)\n",
    "        dWx = np.dot(x.T, dA)\n",
    "        db = dA.sum(axis=0)\n",
    "\n",
    "        self.grads[0][...] = dWx\n",
    "        self.grads[1][...] = dWh\n",
    "        self.grads[2][...] = db\n",
    "\n",
    "        dx = np.dot(dA, Wx.T)\n",
    "        dh_prev = np.dot(dA, Wh.T)\n",
    "\n",
    "        return dx, dh_prev, dc_prev"
   ]
  },
  {
   "cell_type": "markdown",
   "metadata": {},
   "source": [
    "### Time LSTM 구현"
   ]
  },
  {
   "cell_type": "code",
   "execution_count": 22,
   "metadata": {},
   "outputs": [],
   "source": [
    "class TimeLSTM:\n",
    "    def __init__(self, Wx, Wh, b, stateful = False):\n",
    "        self.params = [Wx, Wh, b]\n",
    "        self.grads = [np.zeros_like(Wx), np.zeros_like(Wh), np.zeros_like(b)]\n",
    "        self.layers = None\n",
    "        self.h, self.c = None, None\n",
    "        self.dh = None\n",
    "        self.stateful = stateful\n",
    "        \n",
    "    def forward(self, xs):\n",
    "        Wx, Wh, b = self.params\n",
    "        N, T, D = xs.shape\n",
    "        H = Wh.shape[0]\n",
    "        \n",
    "        self.layers = []\n",
    "        hs = np.empty((N, T, H), dtype = 'f')\n",
    "        \n",
    "        if not self.stateful or self.h is None: ## stateful = True, self.h = False 일때만 참이다.\n",
    "            self.h = np.zeros((N, H), dtype = 'f')\n",
    "        if not self.stateful or self.c is None:\n",
    "            self.c = np.zeros((N, H), dtype = 'f')\n",
    "            \n",
    "        for t in range(T):\n",
    "            layer = LSTM(*self.params) # T회 반복되는 LSTM에 리스트의 인수들을 추출하여 LSTM 클래스의 __init__() 메서드에 전달한다.\n",
    "            self.h, self.c = layer.forward(xs[:, t, :], self.h, self.c)\n",
    "            hs[:, t, :] = self.h\n",
    "            \n",
    "            self.layers.append(layer)\n",
    "            \n",
    "        return hs\n",
    "    \n",
    "    \n",
    "    def backward(self, dhs):\n",
    "        Wx, Wh, b = self.params\n",
    "        N, T, H = dhs.shape\n",
    "        D = Wx.shape[0]\n",
    "        \n",
    "        dxs = np.empty((N, T, D), dtype = 'f')\n",
    "        dh, dc = 0, 0\n",
    "        \n",
    "        grads = [0, 0, 0]\n",
    "        for t in reversed(range(T)):\n",
    "            layer = self.layers[t]\n",
    "            dx, dh, dc = layer.backward(dhs[:, t, :] + dh, dc)\n",
    "            dxs[:, t, :] = dx\n",
    "            for i, grad in enumerate(layer.grads):\n",
    "                grads[i] += grad\n",
    "                \n",
    "        for i, grad in enumerate(grads):\n",
    "            self.grads[i][...] = grad\n",
    "        \n",
    "        self.dh = dh\n",
    "        return dxs\n",
    "        \n",
    "    def set_state(self, h, c = None):\n",
    "        self.h, self.c = h, c\n",
    "        \n",
    "    def reset_state(self):\n",
    "        self.h, self.c = None, None"
   ]
  },
  {
   "cell_type": "markdown",
   "metadata": {},
   "source": [
    "# 4. LSTM을 사용한 언어모델"
   ]
  },
  {
   "cell_type": "code",
   "execution_count": 23,
   "metadata": {},
   "outputs": [],
   "source": [
    "## 앞 장에서 구현한 언어 모델과의 차이점은 LSTM을 사용한다는 점뿐이다.\n",
    "## 앞의 SimpleRnnlm 클래스와 다르게 여기서 구현할 Rnnlm 클래스는 Time RNN 대신 Time LSTM 계층을 사용한다."
   ]
  },
  {
   "cell_type": "code",
   "execution_count": 24,
   "metadata": {},
   "outputs": [],
   "source": [
    "# coding: utf-8\n",
    "import sys\n",
    "sys.path.append('..')\n",
    "from common.time_layers import *\n",
    "from common.base_model import BaseModel\n",
    "\n",
    "\n",
    "class Rnnlm(BaseModel):\n",
    "    def __init__(self, vocab_size=10000, wordvec_size=100, hidden_size=100):\n",
    "        V, D, H = vocab_size, wordvec_size, hidden_size\n",
    "        rn = np.random.randn\n",
    "\n",
    "        # 가중치 초기화\n",
    "        embed_W = (rn(V, D) / 100).astype('f')\n",
    "        lstm_Wx = (rn(D, 4 * H) / np.sqrt(D)).astype('f')\n",
    "        lstm_Wh = (rn(H, 4 * H) / np.sqrt(H)).astype('f')\n",
    "        lstm_b = np.zeros(4 * H).astype('f')\n",
    "        affine_W = (rn(H, V) / np.sqrt(H)).astype('f')\n",
    "        affine_b = np.zeros(V).astype('f')\n",
    "\n",
    "        # 계층 생성\n",
    "        self.layers = [\n",
    "            TimeEmbedding(embed_W),\n",
    "            TimeLSTM(lstm_Wx, lstm_Wh, lstm_b, stateful=True),\n",
    "            TimeAffine(affine_W, affine_b)\n",
    "        ]\n",
    "        self.loss_layer = TimeSoftmaxWithLoss()\n",
    "        self.lstm_layer = self.layers[1]\n",
    "\n",
    "        # 모든 가중치와 기울기를 리스트에 모은다.\n",
    "        self.params, self.grads = [], []\n",
    "        for layer in self.layers:\n",
    "            self.params += layer.params\n",
    "            self.grads += layer.grads\n",
    "\n",
    "    def predict(self, xs):\n",
    "        for layer in self.layers:\n",
    "            xs = layer.forward(xs)\n",
    "        return xs\n",
    "\n",
    "    def forward(self, xs, ts):\n",
    "        score = self.predict(xs)\n",
    "        loss = self.loss_layer.forward(score, ts)\n",
    "        return loss\n",
    "\n",
    "    def backward(self, dout=1):\n",
    "        dout = self.loss_layer.backward(dout)\n",
    "        for layer in reversed(self.layers):\n",
    "            dout = layer.backward(dout)\n",
    "        return dout\n",
    "\n",
    "    def reset_state(self):\n",
    "        self.lstm_layer.reset_state()\n"
   ]
  },
  {
   "cell_type": "code",
   "execution_count": 25,
   "metadata": {},
   "outputs": [],
   "source": [
    "## 이제 이 언어 모델을 사용해 PTB 데이터셋을 학습해보자.\n",
    "## 이번에는 PTB 데이터셋의 훈련 데이터 전부를 사용해 학습한다."
   ]
  },
  {
   "cell_type": "code",
   "execution_count": 27,
   "metadata": {},
   "outputs": [
    {
     "name": "stdout",
     "output_type": "stream",
     "text": [
      "Downloading ptb.test.txt ... \n",
      "Done\n",
      "| 에폭 1 |  반복 1 / 1327 | 시간 0[s] | 퍼플렉서티 10000.59\n",
      "| 에폭 1 |  반복 21 / 1327 | 시간 7[s] | 퍼플렉서티 2908.31\n",
      "| 에폭 1 |  반복 41 / 1327 | 시간 14[s] | 퍼플렉서티 1228.75\n",
      "| 에폭 1 |  반복 61 / 1327 | 시간 21[s] | 퍼플렉서티 1009.63\n",
      "| 에폭 1 |  반복 81 / 1327 | 시간 28[s] | 퍼플렉서티 793.77\n",
      "| 에폭 1 |  반복 101 / 1327 | 시간 35[s] | 퍼플렉서티 635.68\n",
      "| 에폭 1 |  반복 121 / 1327 | 시간 42[s] | 퍼플렉서티 641.66\n",
      "| 에폭 1 |  반복 141 / 1327 | 시간 49[s] | 퍼플렉서티 605.09\n",
      "| 에폭 1 |  반복 161 / 1327 | 시간 56[s] | 퍼플렉서티 564.05\n",
      "| 에폭 1 |  반복 181 / 1327 | 시간 63[s] | 퍼플렉서티 595.88\n",
      "| 에폭 1 |  반복 201 / 1327 | 시간 70[s] | 퍼플렉서티 505.81\n",
      "| 에폭 1 |  반복 221 / 1327 | 시간 77[s] | 퍼플렉서티 499.37\n",
      "| 에폭 1 |  반복 241 / 1327 | 시간 83[s] | 퍼플렉서티 450.64\n",
      "| 에폭 1 |  반복 261 / 1327 | 시간 90[s] | 퍼플렉서티 464.40\n",
      "| 에폭 1 |  반복 281 / 1327 | 시간 97[s] | 퍼플렉서티 443.63\n",
      "| 에폭 1 |  반복 301 / 1327 | 시간 104[s] | 퍼플렉서티 390.62\n",
      "| 에폭 1 |  반복 321 / 1327 | 시간 111[s] | 퍼플렉서티 350.07\n",
      "| 에폭 1 |  반복 341 / 1327 | 시간 118[s] | 퍼플렉서티 403.87\n",
      "| 에폭 1 |  반복 361 / 1327 | 시간 125[s] | 퍼플렉서티 404.58\n",
      "| 에폭 1 |  반복 381 / 1327 | 시간 132[s] | 퍼플렉서티 337.58\n",
      "| 에폭 1 |  반복 401 / 1327 | 시간 139[s] | 퍼플렉서티 350.53\n",
      "| 에폭 1 |  반복 421 / 1327 | 시간 146[s] | 퍼플렉서티 345.14\n",
      "| 에폭 1 |  반복 441 / 1327 | 시간 153[s] | 퍼플렉서티 332.98\n",
      "| 에폭 1 |  반복 461 / 1327 | 시간 160[s] | 퍼플렉서티 320.60\n",
      "| 에폭 1 |  반복 481 / 1327 | 시간 167[s] | 퍼플렉서티 304.30\n",
      "| 에폭 1 |  반복 501 / 1327 | 시간 173[s] | 퍼플렉서티 315.15\n",
      "| 에폭 1 |  반복 521 / 1327 | 시간 180[s] | 퍼플렉서티 300.88\n",
      "| 에폭 1 |  반복 541 / 1327 | 시간 187[s] | 퍼플렉서티 318.94\n",
      "| 에폭 1 |  반복 561 / 1327 | 시간 194[s] | 퍼플렉서티 283.68\n",
      "| 에폭 1 |  반복 581 / 1327 | 시간 201[s] | 퍼플렉서티 259.96\n",
      "| 에폭 1 |  반복 601 / 1327 | 시간 208[s] | 퍼플렉서티 337.93\n",
      "| 에폭 1 |  반복 621 / 1327 | 시간 215[s] | 퍼플렉서티 309.38\n",
      "| 에폭 1 |  반복 641 / 1327 | 시간 222[s] | 퍼플렉서티 282.43\n",
      "| 에폭 1 |  반복 661 / 1327 | 시간 229[s] | 퍼플렉서티 268.14\n",
      "| 에폭 1 |  반복 681 / 1327 | 시간 236[s] | 퍼플렉서티 225.01\n",
      "| 에폭 1 |  반복 701 / 1327 | 시간 243[s] | 퍼플렉서티 248.92\n",
      "| 에폭 1 |  반복 721 / 1327 | 시간 250[s] | 퍼플렉서티 258.82\n",
      "| 에폭 1 |  반복 741 / 1327 | 시간 258[s] | 퍼플렉서티 218.69\n",
      "| 에폭 1 |  반복 761 / 1327 | 시간 266[s] | 퍼플렉서티 234.22\n",
      "| 에폭 1 |  반복 781 / 1327 | 시간 275[s] | 퍼플렉서티 219.34\n",
      "| 에폭 1 |  반복 801 / 1327 | 시간 282[s] | 퍼플렉서티 242.85\n",
      "| 에폭 1 |  반복 821 / 1327 | 시간 289[s] | 퍼플렉서티 226.06\n",
      "| 에폭 1 |  반복 841 / 1327 | 시간 296[s] | 퍼플렉서티 228.31\n",
      "| 에폭 1 |  반복 861 / 1327 | 시간 303[s] | 퍼플렉서티 222.67\n",
      "| 에폭 1 |  반복 881 / 1327 | 시간 310[s] | 퍼플렉서티 205.26\n",
      "| 에폭 1 |  반복 901 / 1327 | 시간 317[s] | 퍼플렉서티 253.26\n",
      "| 에폭 1 |  반복 921 / 1327 | 시간 324[s] | 퍼플렉서티 228.89\n",
      "| 에폭 1 |  반복 941 / 1327 | 시간 331[s] | 퍼플렉서티 230.01\n",
      "| 에폭 1 |  반복 961 / 1327 | 시간 338[s] | 퍼플렉서티 246.31\n",
      "| 에폭 1 |  반복 981 / 1327 | 시간 345[s] | 퍼플렉서티 228.96\n",
      "| 에폭 1 |  반복 1001 / 1327 | 시간 352[s] | 퍼플렉서티 192.35\n",
      "| 에폭 1 |  반복 1021 / 1327 | 시간 359[s] | 퍼플렉서티 226.38\n",
      "| 에폭 1 |  반복 1041 / 1327 | 시간 366[s] | 퍼플렉서티 208.07\n",
      "| 에폭 1 |  반복 1061 / 1327 | 시간 373[s] | 퍼플렉서티 198.22\n",
      "| 에폭 1 |  반복 1081 / 1327 | 시간 380[s] | 퍼플렉서티 167.83\n",
      "| 에폭 1 |  반복 1101 / 1327 | 시간 387[s] | 퍼플렉서티 190.70\n",
      "| 에폭 1 |  반복 1121 / 1327 | 시간 394[s] | 퍼플렉서티 227.07\n",
      "| 에폭 1 |  반복 1141 / 1327 | 시간 401[s] | 퍼플렉서티 206.67\n",
      "| 에폭 1 |  반복 1161 / 1327 | 시간 409[s] | 퍼플렉서티 199.99\n",
      "| 에폭 1 |  반복 1181 / 1327 | 시간 416[s] | 퍼플렉서티 188.25\n",
      "| 에폭 1 |  반복 1201 / 1327 | 시간 423[s] | 퍼플렉서티 160.80\n",
      "| 에폭 1 |  반복 1221 / 1327 | 시간 431[s] | 퍼플렉서티 158.40\n",
      "| 에폭 1 |  반복 1241 / 1327 | 시간 438[s] | 퍼플렉서티 185.65\n",
      "| 에폭 1 |  반복 1261 / 1327 | 시간 446[s] | 퍼플렉서티 170.69\n",
      "| 에폭 1 |  반복 1281 / 1327 | 시간 454[s] | 퍼플렉서티 177.49\n",
      "| 에폭 1 |  반복 1301 / 1327 | 시간 461[s] | 퍼플렉서티 223.89\n",
      "| 에폭 1 |  반복 1321 / 1327 | 시간 469[s] | 퍼플렉서티 210.95\n",
      "| 에폭 2 |  반복 1 / 1327 | 시간 472[s] | 퍼플렉서티 225.19\n",
      "| 에폭 2 |  반복 21 / 1327 | 시간 479[s] | 퍼플렉서티 203.30\n",
      "| 에폭 2 |  반복 41 / 1327 | 시간 487[s] | 퍼플렉서티 189.23\n",
      "| 에폭 2 |  반복 61 / 1327 | 시간 494[s] | 퍼플렉서티 176.36\n",
      "| 에폭 2 |  반복 81 / 1327 | 시간 501[s] | 퍼플렉서티 157.94\n",
      "| 에폭 2 |  반복 101 / 1327 | 시간 509[s] | 퍼플렉서티 151.70\n",
      "| 에폭 2 |  반복 121 / 1327 | 시간 516[s] | 퍼플렉서티 159.31\n",
      "| 에폭 2 |  반복 141 / 1327 | 시간 524[s] | 퍼플렉서티 175.96\n",
      "| 에폭 2 |  반복 161 / 1327 | 시간 531[s] | 퍼플렉서티 189.69\n",
      "| 에폭 2 |  반복 181 / 1327 | 시간 538[s] | 퍼플렉서티 201.51\n",
      "| 에폭 2 |  반복 201 / 1327 | 시간 546[s] | 퍼플렉서티 185.77\n",
      "| 에폭 2 |  반복 221 / 1327 | 시간 553[s] | 퍼플렉서티 182.75\n",
      "| 에폭 2 |  반복 241 / 1327 | 시간 561[s] | 퍼플렉서티 175.59\n",
      "| 에폭 2 |  반복 261 / 1327 | 시간 569[s] | 퍼플렉서티 185.14\n",
      "| 에폭 2 |  반복 281 / 1327 | 시간 576[s] | 퍼플렉서티 183.68\n",
      "| 에폭 2 |  반복 301 / 1327 | 시간 584[s] | 퍼플렉서티 166.13\n",
      "| 에폭 2 |  반복 321 / 1327 | 시간 591[s] | 퍼플렉서티 136.34\n",
      "| 에폭 2 |  반복 341 / 1327 | 시간 598[s] | 퍼플렉서티 170.81\n",
      "| 에폭 2 |  반복 361 / 1327 | 시간 605[s] | 퍼플렉서티 196.16\n",
      "| 에폭 2 |  반복 381 / 1327 | 시간 613[s] | 퍼플렉서티 152.48\n",
      "| 에폭 2 |  반복 401 / 1327 | 시간 620[s] | 퍼플렉서티 167.53\n",
      "| 에폭 2 |  반복 421 / 1327 | 시간 628[s] | 퍼플렉서티 153.90\n",
      "| 에폭 2 |  반복 441 / 1327 | 시간 635[s] | 퍼플렉서티 162.98\n",
      "| 에폭 2 |  반복 461 / 1327 | 시간 642[s] | 퍼플렉서티 156.03\n",
      "| 에폭 2 |  반복 481 / 1327 | 시간 650[s] | 퍼플렉서티 154.82\n",
      "| 에폭 2 |  반복 501 / 1327 | 시간 657[s] | 퍼플렉서티 169.60\n",
      "| 에폭 2 |  반복 521 / 1327 | 시간 665[s] | 퍼플렉서티 173.58\n",
      "| 에폭 2 |  반복 541 / 1327 | 시간 673[s] | 퍼플렉서티 173.19\n",
      "| 에폭 2 |  반복 561 / 1327 | 시간 680[s] | 퍼플렉서티 153.78\n",
      "| 에폭 2 |  반복 581 / 1327 | 시간 687[s] | 퍼플렉서티 137.08\n",
      "| 에폭 2 |  반복 601 / 1327 | 시간 694[s] | 퍼플렉서티 188.45\n",
      "| 에폭 2 |  반복 621 / 1327 | 시간 701[s] | 퍼플렉서티 180.59\n",
      "| 에폭 2 |  반복 641 / 1327 | 시간 709[s] | 퍼플렉서티 163.50\n",
      "| 에폭 2 |  반복 661 / 1327 | 시간 716[s] | 퍼플렉서티 153.91\n",
      "| 에폭 2 |  반복 681 / 1327 | 시간 724[s] | 퍼플렉서티 127.31\n",
      "| 에폭 2 |  반복 701 / 1327 | 시간 731[s] | 퍼플렉서티 149.74\n",
      "| 에폭 2 |  반복 721 / 1327 | 시간 739[s] | 퍼플렉서티 157.79\n",
      "| 에폭 2 |  반복 741 / 1327 | 시간 747[s] | 퍼플렉서티 131.54\n",
      "| 에폭 2 |  반복 761 / 1327 | 시간 754[s] | 퍼플렉서티 129.46\n",
      "| 에폭 2 |  반복 781 / 1327 | 시간 761[s] | 퍼플렉서티 134.63\n",
      "| 에폭 2 |  반복 801 / 1327 | 시간 769[s] | 퍼플렉서티 146.18\n",
      "| 에폭 2 |  반복 821 / 1327 | 시간 777[s] | 퍼플렉서티 141.67\n",
      "| 에폭 2 |  반복 841 / 1327 | 시간 784[s] | 퍼플렉서티 143.37\n",
      "| 에폭 2 |  반복 861 / 1327 | 시간 792[s] | 퍼플렉서티 146.25\n",
      "| 에폭 2 |  반복 881 / 1327 | 시간 800[s] | 퍼플렉서티 128.57\n",
      "| 에폭 2 |  반복 901 / 1327 | 시간 807[s] | 퍼플렉서티 164.95\n",
      "| 에폭 2 |  반복 921 / 1327 | 시간 815[s] | 퍼플렉서티 145.87\n",
      "| 에폭 2 |  반복 941 / 1327 | 시간 822[s] | 퍼플렉서티 154.26\n",
      "| 에폭 2 |  반복 961 / 1327 | 시간 830[s] | 퍼플렉서티 162.56\n",
      "| 에폭 2 |  반복 981 / 1327 | 시간 837[s] | 퍼플렉서티 151.08\n",
      "| 에폭 2 |  반복 1001 / 1327 | 시간 845[s] | 퍼플렉서티 131.09\n",
      "| 에폭 2 |  반복 1021 / 1327 | 시간 853[s] | 퍼플렉서티 155.17\n",
      "| 에폭 2 |  반복 1041 / 1327 | 시간 860[s] | 퍼플렉서티 142.57\n",
      "| 에폭 2 |  반복 1061 / 1327 | 시간 868[s] | 퍼플렉서티 127.58\n",
      "| 에폭 2 |  반복 1081 / 1327 | 시간 875[s] | 퍼플렉서티 110.11\n",
      "| 에폭 2 |  반복 1101 / 1327 | 시간 882[s] | 퍼플렉서티 118.51\n",
      "| 에폭 2 |  반복 1121 / 1327 | 시간 890[s] | 퍼플렉서티 152.46\n",
      "| 에폭 2 |  반복 1141 / 1327 | 시간 898[s] | 퍼플렉서티 138.99\n",
      "| 에폭 2 |  반복 1161 / 1327 | 시간 905[s] | 퍼플렉서티 132.56\n",
      "| 에폭 2 |  반복 1181 / 1327 | 시간 912[s] | 퍼플렉서티 133.20\n",
      "| 에폭 2 |  반복 1201 / 1327 | 시간 919[s] | 퍼플렉서티 110.77\n",
      "| 에폭 2 |  반복 1221 / 1327 | 시간 926[s] | 퍼플렉서티 108.87\n",
      "| 에폭 2 |  반복 1241 / 1327 | 시간 933[s] | 퍼플렉서티 129.27\n",
      "| 에폭 2 |  반복 1261 / 1327 | 시간 940[s] | 퍼플렉서티 122.35\n",
      "| 에폭 2 |  반복 1281 / 1327 | 시간 948[s] | 퍼플렉서티 121.17\n",
      "| 에폭 2 |  반복 1301 / 1327 | 시간 955[s] | 퍼플렉서티 157.21\n",
      "| 에폭 2 |  반복 1321 / 1327 | 시간 962[s] | 퍼플렉서티 152.05\n",
      "| 에폭 3 |  반복 1 / 1327 | 시간 965[s] | 퍼플렉서티 161.64\n",
      "| 에폭 3 |  반복 21 / 1327 | 시간 973[s] | 퍼플렉서티 142.68\n",
      "| 에폭 3 |  반복 41 / 1327 | 시간 980[s] | 퍼플렉서티 134.74\n",
      "| 에폭 3 |  반복 61 / 1327 | 시간 988[s] | 퍼플렉서티 127.36\n",
      "| 에폭 3 |  반복 81 / 1327 | 시간 995[s] | 퍼플렉서티 114.71\n",
      "| 에폭 3 |  반복 101 / 1327 | 시간 1003[s] | 퍼플렉서티 104.72\n",
      "| 에폭 3 |  반복 121 / 1327 | 시간 1010[s] | 퍼플렉서티 115.97\n",
      "| 에폭 3 |  반복 141 / 1327 | 시간 1018[s] | 퍼플렉서티 125.42\n",
      "| 에폭 3 |  반복 161 / 1327 | 시간 1026[s] | 퍼플렉서티 140.97\n",
      "| 에폭 3 |  반복 181 / 1327 | 시간 1033[s] | 퍼플렉서티 151.15\n",
      "| 에폭 3 |  반복 201 / 1327 | 시간 1040[s] | 퍼플렉서티 141.83\n",
      "| 에폭 3 |  반복 221 / 1327 | 시간 1048[s] | 퍼플렉서티 139.60\n",
      "| 에폭 3 |  반복 241 / 1327 | 시간 1055[s] | 퍼플렉서티 131.73\n",
      "| 에폭 3 |  반복 261 / 1327 | 시간 1063[s] | 퍼플렉서티 137.97\n",
      "| 에폭 3 |  반복 281 / 1327 | 시간 1070[s] | 퍼플렉서티 140.76\n",
      "| 에폭 3 |  반복 301 / 1327 | 시간 1078[s] | 퍼플렉서티 122.72\n",
      "| 에폭 3 |  반복 321 / 1327 | 시간 1085[s] | 퍼플렉서티 101.38\n",
      "| 에폭 3 |  반복 341 / 1327 | 시간 1093[s] | 퍼플렉서티 123.30\n",
      "| 에폭 3 |  반복 361 / 1327 | 시간 1100[s] | 퍼플렉서티 150.79\n",
      "| 에폭 3 |  반복 381 / 1327 | 시간 1107[s] | 퍼플렉서티 112.89\n",
      "| 에폭 3 |  반복 401 / 1327 | 시간 1115[s] | 퍼플렉서티 129.34\n",
      "| 에폭 3 |  반복 421 / 1327 | 시간 1122[s] | 퍼플렉서티 112.91\n",
      "| 에폭 3 |  반복 441 / 1327 | 시간 1129[s] | 퍼플렉서티 124.07\n",
      "| 에폭 3 |  반복 461 / 1327 | 시간 1136[s] | 퍼플렉서티 117.40\n",
      "| 에폭 3 |  반복 481 / 1327 | 시간 1144[s] | 퍼플렉서티 118.23\n",
      "| 에폭 3 |  반복 501 / 1327 | 시간 1152[s] | 퍼플렉서티 128.60\n"
     ]
    },
    {
     "name": "stdout",
     "output_type": "stream",
     "text": [
      "| 에폭 3 |  반복 521 / 1327 | 시간 1159[s] | 퍼플렉서티 137.35\n",
      "| 에폭 3 |  반복 541 / 1327 | 시간 1167[s] | 퍼플렉서티 136.23\n",
      "| 에폭 3 |  반복 561 / 1327 | 시간 1174[s] | 퍼플렉서티 117.43\n",
      "| 에폭 3 |  반복 581 / 1327 | 시간 1182[s] | 퍼플렉서티 103.12\n",
      "| 에폭 3 |  반복 601 / 1327 | 시간 1190[s] | 퍼플렉서티 145.83\n",
      "| 에폭 3 |  반복 621 / 1327 | 시간 1197[s] | 퍼플렉서티 140.79\n",
      "| 에폭 3 |  반복 641 / 1327 | 시간 1205[s] | 퍼플렉서티 126.73\n",
      "| 에폭 3 |  반복 661 / 1327 | 시간 1212[s] | 퍼플렉서티 120.88\n",
      "| 에폭 3 |  반복 681 / 1327 | 시간 1220[s] | 퍼플렉서티 98.76\n",
      "| 에폭 3 |  반복 701 / 1327 | 시간 1227[s] | 퍼플렉서티 117.20\n",
      "| 에폭 3 |  반복 721 / 1327 | 시간 1235[s] | 퍼플렉서티 124.96\n",
      "| 에폭 3 |  반복 741 / 1327 | 시간 1242[s] | 퍼플렉서티 106.44\n",
      "| 에폭 3 |  반복 761 / 1327 | 시간 1250[s] | 퍼플렉서티 101.71\n",
      "| 에폭 3 |  반복 781 / 1327 | 시간 1257[s] | 퍼플렉서티 103.90\n",
      "| 에폭 3 |  반복 801 / 1327 | 시간 1264[s] | 퍼플렉서티 114.34\n",
      "| 에폭 3 |  반복 821 / 1327 | 시간 1271[s] | 퍼플렉서티 115.53\n",
      "| 에폭 3 |  반복 841 / 1327 | 시간 1278[s] | 퍼플렉서티 113.17\n",
      "| 에폭 3 |  반복 861 / 1327 | 시간 1286[s] | 퍼플렉서티 120.21\n",
      "| 에폭 3 |  반복 881 / 1327 | 시간 1294[s] | 퍼플렉서티 104.53\n",
      "| 에폭 3 |  반복 901 / 1327 | 시간 1301[s] | 퍼플렉서티 131.09\n",
      "| 에폭 3 |  반복 921 / 1327 | 시간 1308[s] | 퍼플렉서티 118.30\n",
      "| 에폭 3 |  반복 941 / 1327 | 시간 1315[s] | 퍼플렉서티 127.21\n",
      "| 에폭 3 |  반복 961 / 1327 | 시간 1322[s] | 퍼플렉서티 131.44\n",
      "| 에폭 3 |  반복 981 / 1327 | 시간 1330[s] | 퍼플렉서티 122.37\n",
      "| 에폭 3 |  반복 1001 / 1327 | 시간 1337[s] | 퍼플렉서티 109.21\n",
      "| 에폭 3 |  반복 1021 / 1327 | 시간 1345[s] | 퍼플렉서티 127.71\n",
      "| 에폭 3 |  반복 1041 / 1327 | 시간 1352[s] | 퍼플렉서티 117.45\n",
      "| 에폭 3 |  반복 1061 / 1327 | 시간 1360[s] | 퍼플렉서티 101.92\n",
      "| 에폭 3 |  반복 1081 / 1327 | 시간 1367[s] | 퍼플렉서티 87.80\n",
      "| 에폭 3 |  반복 1101 / 1327 | 시간 1374[s] | 퍼플렉서티 93.42\n",
      "| 에폭 3 |  반복 1121 / 1327 | 시간 1381[s] | 퍼플렉서티 121.81\n",
      "| 에폭 3 |  반복 1141 / 1327 | 시간 1388[s] | 퍼플렉서티 112.35\n",
      "| 에폭 3 |  반복 1161 / 1327 | 시간 1395[s] | 퍼플렉서티 105.35\n",
      "| 에폭 3 |  반복 1181 / 1327 | 시간 1402[s] | 퍼플렉서티 110.74\n",
      "| 에폭 3 |  반복 1201 / 1327 | 시간 1409[s] | 퍼플렉서티 92.79\n",
      "| 에폭 3 |  반복 1221 / 1327 | 시간 1417[s] | 퍼플렉서티 88.08\n",
      "| 에폭 3 |  반복 1241 / 1327 | 시간 1424[s] | 퍼플렉서티 104.53\n",
      "| 에폭 3 |  반복 1261 / 1327 | 시간 1431[s] | 퍼플렉서티 104.16\n",
      "| 에폭 3 |  반복 1281 / 1327 | 시간 1438[s] | 퍼플렉서티 100.24\n",
      "| 에폭 3 |  반복 1301 / 1327 | 시간 1445[s] | 퍼플렉서티 128.09\n",
      "| 에폭 3 |  반복 1321 / 1327 | 시간 1453[s] | 퍼플렉서티 125.51\n",
      "| 에폭 4 |  반복 1 / 1327 | 시간 1455[s] | 퍼플렉서티 134.43\n",
      "| 에폭 4 |  반복 21 / 1327 | 시간 1463[s] | 퍼플렉서티 122.82\n",
      "| 에폭 4 |  반복 41 / 1327 | 시간 1470[s] | 퍼플렉서티 106.54\n",
      "| 에폭 4 |  반복 61 / 1327 | 시간 1477[s] | 퍼플렉서티 107.63\n",
      "| 에폭 4 |  반복 81 / 1327 | 시간 1485[s] | 퍼플렉서티 94.11\n",
      "| 에폭 4 |  반복 101 / 1327 | 시간 1492[s] | 퍼플렉서티 85.22\n",
      "| 에폭 4 |  반복 121 / 1327 | 시간 1500[s] | 퍼플렉서티 95.25\n",
      "| 에폭 4 |  반복 141 / 1327 | 시간 1507[s] | 퍼플렉서티 104.39\n",
      "| 에폭 4 |  반복 161 / 1327 | 시간 1514[s] | 퍼플렉서티 118.28\n",
      "| 에폭 4 |  반복 181 / 1327 | 시간 1522[s] | 퍼플렉서티 129.12\n",
      "| 에폭 4 |  반복 201 / 1327 | 시간 1529[s] | 퍼플렉서티 120.83\n",
      "| 에폭 4 |  반복 221 / 1327 | 시간 1536[s] | 퍼플렉서티 120.99\n",
      "| 에폭 4 |  반복 241 / 1327 | 시간 1543[s] | 퍼플렉서티 113.49\n",
      "| 에폭 4 |  반복 261 / 1327 | 시간 1551[s] | 퍼플렉서티 113.52\n",
      "| 에폭 4 |  반복 281 / 1327 | 시간 1558[s] | 퍼플렉서티 120.47\n",
      "| 에폭 4 |  반복 301 / 1327 | 시간 1566[s] | 퍼플렉서티 103.06\n",
      "| 에폭 4 |  반복 321 / 1327 | 시간 1572[s] | 퍼플렉서티 84.01\n",
      "| 에폭 4 |  반복 341 / 1327 | 시간 1580[s] | 퍼플렉서티 99.65\n",
      "| 에폭 4 |  반복 361 / 1327 | 시간 1588[s] | 퍼플렉서티 126.75\n",
      "| 에폭 4 |  반복 381 / 1327 | 시간 1596[s] | 퍼플렉서티 96.52\n",
      "| 에폭 4 |  반복 401 / 1327 | 시간 1604[s] | 퍼플렉서티 109.87\n",
      "| 에폭 4 |  반복 421 / 1327 | 시간 1611[s] | 퍼플렉서티 92.95\n",
      "| 에폭 4 |  반복 441 / 1327 | 시간 1619[s] | 퍼플렉서티 103.02\n",
      "| 에폭 4 |  반복 461 / 1327 | 시간 1627[s] | 퍼플렉서티 99.91\n",
      "| 에폭 4 |  반복 481 / 1327 | 시간 1634[s] | 퍼플렉서티 102.16\n",
      "| 에폭 4 |  반복 501 / 1327 | 시간 1641[s] | 퍼플렉서티 107.62\n",
      "| 에폭 4 |  반복 521 / 1327 | 시간 1648[s] | 퍼플렉서티 115.62\n",
      "| 에폭 4 |  반복 541 / 1327 | 시간 1655[s] | 퍼플렉서티 113.59\n",
      "| 에폭 4 |  반복 561 / 1327 | 시간 1663[s] | 퍼플렉서티 101.84\n",
      "| 에폭 4 |  반복 581 / 1327 | 시간 1670[s] | 퍼플렉서티 86.46\n",
      "| 에폭 4 |  반복 601 / 1327 | 시간 1678[s] | 퍼플렉서티 124.38\n",
      "| 에폭 4 |  반복 621 / 1327 | 시간 1685[s] | 퍼플렉서티 120.03\n",
      "| 에폭 4 |  반복 641 / 1327 | 시간 1692[s] | 퍼플렉서티 108.21\n",
      "| 에폭 4 |  반복 661 / 1327 | 시간 1699[s] | 퍼플렉서티 102.63\n",
      "| 에폭 4 |  반복 681 / 1327 | 시간 1706[s] | 퍼플렉서티 84.73\n",
      "| 에폭 4 |  반복 701 / 1327 | 시간 1713[s] | 퍼플렉서티 101.12\n",
      "| 에폭 4 |  반복 721 / 1327 | 시간 1720[s] | 퍼플렉서티 106.46\n",
      "| 에폭 4 |  반복 741 / 1327 | 시간 1727[s] | 퍼플렉서티 94.74\n",
      "| 에폭 4 |  반복 761 / 1327 | 시간 1734[s] | 퍼플렉서티 87.91\n",
      "| 에폭 4 |  반복 781 / 1327 | 시간 1740[s] | 퍼플렉서티 86.67\n",
      "| 에폭 4 |  반복 801 / 1327 | 시간 1748[s] | 퍼플렉서티 98.12\n",
      "| 에폭 4 |  반복 821 / 1327 | 시간 1756[s] | 퍼플렉서티 102.36\n",
      "| 에폭 4 |  반복 841 / 1327 | 시간 1764[s] | 퍼플렉서티 97.77\n",
      "| 에폭 4 |  반복 861 / 1327 | 시간 1771[s] | 퍼플렉서티 104.67\n",
      "| 에폭 4 |  반복 881 / 1327 | 시간 1778[s] | 퍼플렉서티 90.84\n",
      "| 에폭 4 |  반복 901 / 1327 | 시간 1786[s] | 퍼플렉서티 115.23\n",
      "| 에폭 4 |  반복 921 / 1327 | 시간 1793[s] | 퍼플렉서티 102.42\n",
      "| 에폭 4 |  반복 941 / 1327 | 시간 1800[s] | 퍼플렉서티 113.78\n",
      "| 에폭 4 |  반복 961 / 1327 | 시간 1808[s] | 퍼플렉서티 112.88\n",
      "| 에폭 4 |  반복 981 / 1327 | 시간 1816[s] | 퍼플렉서티 106.19\n",
      "| 에폭 4 |  반복 1001 / 1327 | 시간 1824[s] | 퍼플렉서티 96.99\n",
      "| 에폭 4 |  반복 1021 / 1327 | 시간 1831[s] | 퍼플렉서티 112.07\n",
      "| 에폭 4 |  반복 1041 / 1327 | 시간 1838[s] | 퍼플렉서티 104.01\n",
      "| 에폭 4 |  반복 1061 / 1327 | 시간 1845[s] | 퍼플렉서티 87.83\n",
      "| 에폭 4 |  반복 1081 / 1327 | 시간 1852[s] | 퍼플렉서티 77.84\n",
      "| 에폭 4 |  반복 1101 / 1327 | 시간 1859[s] | 퍼플렉서티 77.55\n",
      "| 에폭 4 |  반복 1121 / 1327 | 시간 1865[s] | 퍼플렉서티 103.94\n",
      "| 에폭 4 |  반복 1141 / 1327 | 시간 1872[s] | 퍼플렉서티 99.14\n",
      "| 에폭 4 |  반복 1161 / 1327 | 시간 1879[s] | 퍼플렉서티 90.99\n",
      "| 에폭 4 |  반복 1181 / 1327 | 시간 1886[s] | 퍼플렉서티 95.91\n",
      "| 에폭 4 |  반복 1201 / 1327 | 시간 1893[s] | 퍼플렉서티 83.10\n",
      "| 에폭 4 |  반복 1221 / 1327 | 시간 1900[s] | 퍼플렉서티 74.90\n",
      "| 에폭 4 |  반복 1241 / 1327 | 시간 1907[s] | 퍼플렉서티 91.00\n",
      "| 에폭 4 |  반복 1261 / 1327 | 시간 1914[s] | 퍼플렉서티 92.79\n",
      "| 에폭 4 |  반복 1281 / 1327 | 시간 1921[s] | 퍼플렉서티 88.90\n",
      "| 에폭 4 |  반복 1301 / 1327 | 시간 1928[s] | 퍼플렉서티 109.75\n",
      "| 에폭 4 |  반복 1321 / 1327 | 시간 1935[s] | 퍼플렉서티 109.17\n"
     ]
    },
    {
     "name": "stderr",
     "output_type": "stream",
     "text": [
      "C:\\Users\\LoteeYoon\\Anaconda3\\lib\\site-packages\\matplotlib\\backends\\backend_agg.py:211: RuntimeWarning: Glyph 48152 missing from current font.\n",
      "  font.set_text(s, 0.0, flags=flags)\n",
      "C:\\Users\\LoteeYoon\\Anaconda3\\lib\\site-packages\\matplotlib\\backends\\backend_agg.py:211: RuntimeWarning: Glyph 48373 missing from current font.\n",
      "  font.set_text(s, 0.0, flags=flags)\n",
      "C:\\Users\\LoteeYoon\\Anaconda3\\lib\\site-packages\\matplotlib\\backends\\backend_agg.py:180: RuntimeWarning: Glyph 48152 missing from current font.\n",
      "  font.set_text(s, 0, flags=flags)\n",
      "C:\\Users\\LoteeYoon\\Anaconda3\\lib\\site-packages\\matplotlib\\backends\\backend_agg.py:180: RuntimeWarning: Glyph 48373 missing from current font.\n",
      "  font.set_text(s, 0, flags=flags)\n",
      "C:\\Users\\LoteeYoon\\Anaconda3\\lib\\site-packages\\matplotlib\\backends\\backend_agg.py:211: RuntimeWarning: Glyph 54140 missing from current font.\n",
      "  font.set_text(s, 0.0, flags=flags)\n",
      "C:\\Users\\LoteeYoon\\Anaconda3\\lib\\site-packages\\matplotlib\\backends\\backend_agg.py:211: RuntimeWarning: Glyph 54540 missing from current font.\n",
      "  font.set_text(s, 0.0, flags=flags)\n",
      "C:\\Users\\LoteeYoon\\Anaconda3\\lib\\site-packages\\matplotlib\\backends\\backend_agg.py:211: RuntimeWarning: Glyph 47113 missing from current font.\n",
      "  font.set_text(s, 0.0, flags=flags)\n",
      "C:\\Users\\LoteeYoon\\Anaconda3\\lib\\site-packages\\matplotlib\\backends\\backend_agg.py:211: RuntimeWarning: Glyph 49436 missing from current font.\n",
      "  font.set_text(s, 0.0, flags=flags)\n",
      "C:\\Users\\LoteeYoon\\Anaconda3\\lib\\site-packages\\matplotlib\\backends\\backend_agg.py:211: RuntimeWarning: Glyph 54000 missing from current font.\n",
      "  font.set_text(s, 0.0, flags=flags)\n",
      "C:\\Users\\LoteeYoon\\Anaconda3\\lib\\site-packages\\matplotlib\\backends\\backend_agg.py:180: RuntimeWarning: Glyph 54140 missing from current font.\n",
      "  font.set_text(s, 0, flags=flags)\n",
      "C:\\Users\\LoteeYoon\\Anaconda3\\lib\\site-packages\\matplotlib\\backends\\backend_agg.py:180: RuntimeWarning: Glyph 54540 missing from current font.\n",
      "  font.set_text(s, 0, flags=flags)\n",
      "C:\\Users\\LoteeYoon\\Anaconda3\\lib\\site-packages\\matplotlib\\backends\\backend_agg.py:180: RuntimeWarning: Glyph 47113 missing from current font.\n",
      "  font.set_text(s, 0, flags=flags)\n",
      "C:\\Users\\LoteeYoon\\Anaconda3\\lib\\site-packages\\matplotlib\\backends\\backend_agg.py:180: RuntimeWarning: Glyph 49436 missing from current font.\n",
      "  font.set_text(s, 0, flags=flags)\n",
      "C:\\Users\\LoteeYoon\\Anaconda3\\lib\\site-packages\\matplotlib\\backends\\backend_agg.py:180: RuntimeWarning: Glyph 54000 missing from current font.\n",
      "  font.set_text(s, 0, flags=flags)\n"
     ]
    },
    {
     "data": {
      "image/png": "[encoded data removed]",
      "text/plain": [
       "<Figure size 432x288 with 1 Axes>"
      ]
     },
     "metadata": {
      "needs_background": "light"
     },
     "output_type": "display_data"
    },
    {
     "name": "stdout",
     "output_type": "stream",
     "text": [
      "퍼플렉서티 평가 중 ...\n",
      "234 / 235\n",
      "테스트 퍼플렉서티:  135.08001375233533\n"
     ]
    }
   ],
   "source": [
    "# coding: utf-8\n",
    "import sys\n",
    "sys.path.append('..')\n",
    "from common.optimizer import SGD\n",
    "from common.trainer import RnnlmTrainer\n",
    "from common.util import eval_perplexity\n",
    "from dataset import ptb\n",
    "from ch06.rnnlm import Rnnlm\n",
    "\n",
    "\n",
    "# 하이퍼파라미터 설정\n",
    "batch_size = 20\n",
    "wordvec_size = 100\n",
    "hidden_size = 100  # RNN의 은닉 상태 벡터의 원소 수\n",
    "time_size = 35     # RNN을 펼치는 크기\n",
    "lr = 20.0\n",
    "max_epoch = 4\n",
    "max_grad = 0.25\n",
    "\n",
    "# 학습 데이터 읽기\n",
    "corpus, word_to_id, id_to_word = ptb.load_data('train')\n",
    "corpus_test, _, _ = ptb.load_data('test')\n",
    "vocab_size = len(word_to_id)\n",
    "xs = corpus[:-1]\n",
    "ts = corpus[1:]\n",
    "\n",
    "# 모델 생성\n",
    "model = Rnnlm(vocab_size, wordvec_size, hidden_size)\n",
    "optimizer = SGD(lr)\n",
    "trainer = RnnlmTrainer(model, optimizer)\n",
    "\n",
    "# 기울기 클리핑을 적용하여 학습\n",
    "trainer.fit(xs, ts, max_epoch, batch_size, time_size, max_grad,\n",
    "            eval_interval=20)\n",
    "trainer.plot(ylim=(0, 500))\n",
    "\n",
    "# 테스트 데이터로 평가\n",
    "model.reset_state()\n",
    "ppl_test = eval_perplexity(model, corpus_test)\n",
    "print('테스트 퍼플렉서티: ', ppl_test)\n",
    "\n",
    "# 매개변수 저장\n",
    "model.save_params()\n"
   ]
  },
  {
   "cell_type": "code",
   "execution_count": 28,
   "metadata": {},
   "outputs": [],
   "source": [
    "## 매 20번째 반복의 퍼플렉서티 값이 출려되었다.\n",
    "## 그림에서 첫 번째 퍼플렉서티의 값이 10000.59인데, 이는 다음에 나올 수 있는 후보 단어 수를 10000개 정도로 좁혔다는 뜻이다.\n",
    "## 이번 데이터 셋의 어휘 수가 10000개이므로 아직 아무 것도 학습하지 않은 상태라는 뜻이다.\n",
    "\n",
    "## 이번 실험에서 총 4에폭(반복으로 환산하면 1327 * 4회)의 학습을 수행했다.\n",
    "## 퍼플렉서티가 순조롭게 낮아져서 최종적으로 100정도가 되었다.\n",
    "## 그리고 테스트 데이터로 수행한 최종 평가는 약 135이다.\n",
    "## 2017년 기준 최첨단 연구에서 PTB 데이터셋의 퍼플렉서티가 60을 밑돌고 있다.\n",
    "## 우리 모델은 아직 개선할 여지가 많다는 방증이다.\n",
    "## 다음 절에서 현재의 RNNLM을 한 층 더 개선할 계획이다."
   ]
  },
  {
   "cell_type": "markdown",
   "metadata": {},
   "source": [
    "# 5. RNNLM 추가 개선"
   ]
  },
  {
   "cell_type": "markdown",
   "metadata": {},
   "source": [
    "### LSTM 계층 다층화"
   ]
  },
  {
   "cell_type": "code",
   "execution_count": 29,
   "metadata": {},
   "outputs": [],
   "source": [
    "## RNNLM으로 정확한 모델을 만들고자 한다면 LSTM 계층을 깊게 쌓아 효과를 볼 수 있다.\n",
    "## 지금까지 우리는 LSTM 계층을 1층만 사용했지만 2층, 3층 식으로 여러 겹 쌓으면 언어 모델의 정확도가 향상된다.\n",
    "## 층수는 하이퍼파라미터에 관한 문제이다. \n",
    "## 데이터의 양이나 문제의 복잡도에 따라 적절하게 결정해야한다."
   ]
  },
  {
   "cell_type": "markdown",
   "metadata": {},
   "source": [
    "### 드롭아웃에 의한 과적합 억제"
   ]
  },
  {
   "cell_type": "code",
   "execution_count": 30,
   "metadata": {},
   "outputs": [],
   "source": [
    "## LSTM 계층을 다층화하면 시계열 데이터의 복잡한 의존 관계를 학습할 수 있을 것이라 기대할 수 있다.\n",
    "## 층을 깊게 하면 표현력이 풍부한 모델을 만들 수 있으나 종종 과적합(overfitting)을 일으킨다.\n",
    "## 불행하게도 RNN은 일반적인 피드포워드 신경망보다 쉽게 과적합을 일으킨다."
   ]
  },
  {
   "cell_type": "code",
   "execution_count": 31,
   "metadata": {},
   "outputs": [],
   "source": [
    "## 과적합을 억제하는 전통적인 방법은 '훈련 데이터 양 늘리기'와 '모델의 복잡도 줄이기'가 있다. \n",
    "## 그 외에는 모델의 복잡도에 페널티를 주는 '정규화(Normalization)'도 효과적이다.\n",
    "## 또 '드롭아웃(Dropout)' 방법도 있다. \n",
    "## 이번 절에서는 드롭아웃에 관해 살펴보고 적용해보자"
   ]
  },
  {
   "cell_type": "code",
   "execution_count": 32,
   "metadata": {},
   "outputs": [],
   "source": [
    "## 드롭아웃 계층을 시계열 방향으로 삽입하는 것은 좋은 방법이 아니다.\n",
    "## 시계열 방향으로 넣으면 시간이 흐름에 따라 정보가 사라질 수 있다.\n",
    "## 흐르는 시간에 비례해 드롭아웃에 의한 노이즈가 축적되기 때문이다."
   ]
  },
  {
   "cell_type": "code",
   "execution_count": 33,
   "metadata": {},
   "outputs": [],
   "source": [
    "## 그렇다면 드롭아웃 계층을 깊이 방향으로 삽입하는 방법을 생각해보자\n",
    "## 이렇게 하면 시간 방향으로 아무리 진행해도 정보를 잃지 않는다.\n",
    "## 드롭아웃이 시간과는 독립적으로 깊이 방향에만 영향을 주기 때문이다.\n",
    "## 그러나 최근 연구에서 '변형된 드롭아웃'을 제안했고, 시간 방향으로 적용하는 것에 성공했다.\n",
    "## 변형 드롭아웃은 깊이 방향은 물론 시간 방향도 적용가능하기 때문에 모델 정확도를 한 층 더 향상시킬 수 있다.\n",
    "\n",
    "## 구조를 보면 같은 계층의 드롭아웃들은 같은 마스크를 공유한다.\n",
    "## 마스크(mask)란 데이터의 통과/차단을 결정하는 이진 형태의 무작위 패턴이다.\n",
    "## 같은 계층의 드롭아웃끼리 마스크를 공유함으로써 마스크가 고정된다.\n",
    "## 그 결과 정보를 잃게 되는 방법도 고정되므로, 일반적인 드롭아웃 때와 달리 정보를 지수적으로 잃게 되는 사태는 피할 수 있다.\n",
    "## 그러나 이 책에서는 일반 드롭아웃을 적용한다."
   ]
  },
  {
   "cell_type": "markdown",
   "metadata": {},
   "source": [
    "### 가중치 공유"
   ]
  },
  {
   "cell_type": "code",
   "execution_count": 34,
   "metadata": {},
   "outputs": [],
   "source": [
    "## 언어 모델을 개선하는 아주 간단한 트릭 중 가중치 공유(weight tying)가 있다.\n",
    "## 이는 가중치를 공유하는 효과를 준다\n",
    "## 예 : Embedding 계층과 Softmax 앞의 Affine 계층이 가중치를 공유한다.\n",
    "## 두 계층이 가중치를 공유함으로써 학습하는 매개변수 수가 크게 줄어드는 동시에 정확도도 향상된다."
   ]
  },
  {
   "cell_type": "code",
   "execution_count": 35,
   "metadata": {},
   "outputs": [],
   "source": [
    "## 어휘 수가 V, LSTM 은닉 상태 차원 수가 H라고 하면\n",
    "## Embedding 계층의 가중치 형상이 V x H가 되고, Affine 계층의 가중치 형상은 H x V가 된다.\n",
    "## 가중치 공유를 적용하려면 Embedding 계층의 가중치를 전치하여 Affine 계층의 가중치로 설정하기만 하면 된다."
   ]
  },
  {
   "cell_type": "markdown",
   "metadata": {},
   "source": [
    "### 개선된 RNNLM 구현"
   ]
  },
  {
   "cell_type": "code",
   "execution_count": 36,
   "metadata": {},
   "outputs": [],
   "source": [
    "## 개선점 3가지 : 다층화(2층), 드롭아웃 사용(깊이방향), 가중치공유(Embedding & Affine)"
   ]
  },
  {
   "cell_type": "code",
   "execution_count": 37,
   "metadata": {},
   "outputs": [],
   "source": [
    "# coding: utf-8\n",
    "import sys\n",
    "sys.path.append('..')\n",
    "from common.time_layers import *\n",
    "from common.np import *  # import numpy as np\n",
    "from common.base_model import BaseModel\n",
    "\n",
    "\n",
    "class BetterRnnlm(BaseModel):\n",
    "    def __init__(self, vocab_size=10000, wordvec_size=650,\n",
    "                 hidden_size=650, dropout_ratio=0.5):\n",
    "        V, D, H = vocab_size, wordvec_size, hidden_size\n",
    "        rn = np.random.randn\n",
    "\n",
    "        embed_W = (rn(V, D) / 100).astype('f')\n",
    "        lstm_Wx1 = (rn(D, 4 * H) / np.sqrt(D)).astype('f')\n",
    "        lstm_Wh1 = (rn(H, 4 * H) / np.sqrt(H)).astype('f')\n",
    "        lstm_b1 = np.zeros(4 * H).astype('f')\n",
    "        lstm_Wx2 = (rn(H, 4 * H) / np.sqrt(H)).astype('f')\n",
    "        lstm_Wh2 = (rn(H, 4 * H) / np.sqrt(H)).astype('f')\n",
    "        lstm_b2 = np.zeros(4 * H).astype('f')\n",
    "        affine_b = np.zeros(V).astype('f')\n",
    "\n",
    "        self.layers = [\n",
    "            TimeEmbedding(embed_W),\n",
    "            TimeDropout(dropout_ratio),\n",
    "            TimeLSTM(lstm_Wx1, lstm_Wh1, lstm_b1, stateful=True),\n",
    "            TimeDropout(dropout_ratio),\n",
    "            TimeLSTM(lstm_Wx2, lstm_Wh2, lstm_b2, stateful=True),\n",
    "            TimeDropout(dropout_ratio),\n",
    "            TimeAffine(embed_W.T, affine_b)  # weight tying!!\n",
    "        ]\n",
    "        self.loss_layer = TimeSoftmaxWithLoss()\n",
    "        self.lstm_layers = [self.layers[2], self.layers[4]]\n",
    "        self.drop_layers = [self.layers[1], self.layers[3], self.layers[5]]\n",
    "\n",
    "        self.params, self.grads = [], []\n",
    "        for layer in self.layers:\n",
    "            self.params += layer.params\n",
    "            self.grads += layer.grads\n",
    "\n",
    "    def predict(self, xs, train_flg=False):\n",
    "        for layer in self.drop_layers:\n",
    "            layer.train_flg = train_flg\n",
    "\n",
    "        for layer in self.layers:\n",
    "            xs = layer.forward(xs)\n",
    "        return xs\n",
    "\n",
    "    def forward(self, xs, ts, train_flg=True):\n",
    "        score = self.predict(xs, train_flg)\n",
    "        loss = self.loss_layer.forward(score, ts)\n",
    "        return loss\n",
    "\n",
    "    def backward(self, dout=1):\n",
    "        dout = self.loss_layer.backward(dout)\n",
    "        for layer in reversed(self.layers):\n",
    "            dout = layer.backward(dout)\n",
    "        return dout\n",
    "\n",
    "    def reset_state(self):\n",
    "        for layer in self.lstm_layers:\n",
    "            layer.reset_state()\n"
   ]
  },
  {
   "cell_type": "code",
   "execution_count": 40,
   "metadata": {},
   "outputs": [
    {
     "name": "stdout",
     "output_type": "stream",
     "text": [
      "Downloading ptb.valid.txt ... \n",
      "Done\n",
      "| 에폭 1 |  반복 1 / 1327 | 시간 3[s] | 퍼플렉서티 9999.90\n",
      "| 에폭 1 |  반복 21 / 1327 | 시간 68[s] | 퍼플렉서티 3552.73\n",
      "| 에폭 1 |  반복 41 / 1327 | 시간 133[s] | 퍼플렉서티 1730.79\n",
      "| 에폭 1 |  반복 61 / 1327 | 시간 200[s] | 퍼플렉서티 1312.40\n",
      "| 에폭 1 |  반복 81 / 1327 | 시간 273[s] | 퍼플렉서티 1062.90\n",
      "| 에폭 1 |  반복 101 / 1327 | 시간 353[s] | 퍼플렉서티 817.14\n",
      "| 에폭 1 |  반복 121 / 1327 | 시간 422[s] | 퍼플렉서티 750.50\n",
      "| 에폭 1 |  반복 141 / 1327 | 시간 489[s] | 퍼플렉서티 743.99\n",
      "| 에폭 1 |  반복 161 / 1327 | 시간 556[s] | 퍼플렉서티 698.02\n",
      "| 에폭 1 |  반복 181 / 1327 | 시간 624[s] | 퍼플렉서티 684.90\n",
      "| 에폭 1 |  반복 201 / 1327 | 시간 691[s] | 퍼플렉서티 590.70\n",
      "| 에폭 1 |  반복 221 / 1327 | 시간 760[s] | 퍼플렉서티 564.81\n",
      "| 에폭 1 |  반복 241 / 1327 | 시간 829[s] | 퍼플렉서티 508.62\n"
     ]
    },
    {
     "ename": "KeyboardInterrupt",
     "evalue": "",
     "output_type": "error",
     "traceback": [
      "\u001b[1;31m---------------------------------------------------------------------------\u001b[0m",
      "\u001b[1;31mKeyboardInterrupt\u001b[0m                         Traceback (most recent call last)",
      "\u001b[1;32m<ipython-input-40-9628cdd3a895>\u001b[0m in \u001b[0;36m<module>\u001b[1;34m\u001b[0m\n\u001b[0;32m     47\u001b[0m \u001b[1;32mfor\u001b[0m \u001b[0mepoch\u001b[0m \u001b[1;32min\u001b[0m \u001b[0mrange\u001b[0m\u001b[1;33m(\u001b[0m\u001b[0mmax_epoch\u001b[0m\u001b[1;33m)\u001b[0m\u001b[1;33m:\u001b[0m\u001b[1;33m\u001b[0m\u001b[1;33m\u001b[0m\u001b[0m\n\u001b[0;32m     48\u001b[0m     trainer.fit(xs, ts, max_epoch=1, batch_size=batch_size,\n\u001b[1;32m---> 49\u001b[1;33m                 time_size=time_size, max_grad=max_grad)\n\u001b[0m\u001b[0;32m     50\u001b[0m \u001b[1;33m\u001b[0m\u001b[0m\n\u001b[0;32m     51\u001b[0m     \u001b[0mmodel\u001b[0m\u001b[1;33m.\u001b[0m\u001b[0mreset_state\u001b[0m\u001b[1;33m(\u001b[0m\u001b[1;33m)\u001b[0m\u001b[1;33m\u001b[0m\u001b[1;33m\u001b[0m\u001b[0m\n",
      "\u001b[1;32mD:\\MyProject\\밑바닥 2\\common\\trainer.py\u001b[0m in \u001b[0;36mfit\u001b[1;34m(self, xs, ts, max_epoch, batch_size, time_size, max_grad, eval_interval)\u001b[0m\n\u001b[0;32m    109\u001b[0m                 \u001b[1;31m# 기울기를 구해 매개변수 갱신\u001b[0m\u001b[1;33m\u001b[0m\u001b[1;33m\u001b[0m\u001b[1;33m\u001b[0m\u001b[0m\n\u001b[0;32m    110\u001b[0m                 \u001b[0mloss\u001b[0m \u001b[1;33m=\u001b[0m \u001b[0mmodel\u001b[0m\u001b[1;33m.\u001b[0m\u001b[0mforward\u001b[0m\u001b[1;33m(\u001b[0m\u001b[0mbatch_x\u001b[0m\u001b[1;33m,\u001b[0m \u001b[0mbatch_t\u001b[0m\u001b[1;33m)\u001b[0m\u001b[1;33m\u001b[0m\u001b[1;33m\u001b[0m\u001b[0m\n\u001b[1;32m--> 111\u001b[1;33m                 \u001b[0mmodel\u001b[0m\u001b[1;33m.\u001b[0m\u001b[0mbackward\u001b[0m\u001b[1;33m(\u001b[0m\u001b[1;33m)\u001b[0m\u001b[1;33m\u001b[0m\u001b[1;33m\u001b[0m\u001b[0m\n\u001b[0m\u001b[0;32m    112\u001b[0m                 \u001b[0mparams\u001b[0m\u001b[1;33m,\u001b[0m \u001b[0mgrads\u001b[0m \u001b[1;33m=\u001b[0m \u001b[0mremove_duplicate\u001b[0m\u001b[1;33m(\u001b[0m\u001b[0mmodel\u001b[0m\u001b[1;33m.\u001b[0m\u001b[0mparams\u001b[0m\u001b[1;33m,\u001b[0m \u001b[0mmodel\u001b[0m\u001b[1;33m.\u001b[0m\u001b[0mgrads\u001b[0m\u001b[1;33m)\u001b[0m  \u001b[1;31m# 공유된 가중치를 하나로 모음\u001b[0m\u001b[1;33m\u001b[0m\u001b[1;33m\u001b[0m\u001b[0m\n\u001b[0;32m    113\u001b[0m                 \u001b[1;32mif\u001b[0m \u001b[0mmax_grad\u001b[0m \u001b[1;32mis\u001b[0m \u001b[1;32mnot\u001b[0m \u001b[1;32mNone\u001b[0m\u001b[1;33m:\u001b[0m\u001b[1;33m\u001b[0m\u001b[1;33m\u001b[0m\u001b[0m\n",
      "\u001b[1;32mD:\\MyProject\\밑바닥 2\\ch06\\better_rnnlm.py\u001b[0m in \u001b[0;36mbackward\u001b[1;34m(self, dout)\u001b[0m\n\u001b[0;32m     64\u001b[0m         \u001b[0mdout\u001b[0m \u001b[1;33m=\u001b[0m \u001b[0mself\u001b[0m\u001b[1;33m.\u001b[0m\u001b[0mloss_layer\u001b[0m\u001b[1;33m.\u001b[0m\u001b[0mbackward\u001b[0m\u001b[1;33m(\u001b[0m\u001b[0mdout\u001b[0m\u001b[1;33m)\u001b[0m\u001b[1;33m\u001b[0m\u001b[1;33m\u001b[0m\u001b[0m\n\u001b[0;32m     65\u001b[0m         \u001b[1;32mfor\u001b[0m \u001b[0mlayer\u001b[0m \u001b[1;32min\u001b[0m \u001b[0mreversed\u001b[0m\u001b[1;33m(\u001b[0m\u001b[0mself\u001b[0m\u001b[1;33m.\u001b[0m\u001b[0mlayers\u001b[0m\u001b[1;33m)\u001b[0m\u001b[1;33m:\u001b[0m\u001b[1;33m\u001b[0m\u001b[1;33m\u001b[0m\u001b[0m\n\u001b[1;32m---> 66\u001b[1;33m             \u001b[0mdout\u001b[0m \u001b[1;33m=\u001b[0m \u001b[0mlayer\u001b[0m\u001b[1;33m.\u001b[0m\u001b[0mbackward\u001b[0m\u001b[1;33m(\u001b[0m\u001b[0mdout\u001b[0m\u001b[1;33m)\u001b[0m\u001b[1;33m\u001b[0m\u001b[1;33m\u001b[0m\u001b[0m\n\u001b[0m\u001b[0;32m     67\u001b[0m         \u001b[1;32mreturn\u001b[0m \u001b[0mdout\u001b[0m\u001b[1;33m\u001b[0m\u001b[1;33m\u001b[0m\u001b[0m\n\u001b[0;32m     68\u001b[0m \u001b[1;33m\u001b[0m\u001b[0m\n",
      "\u001b[1;32mD:\\MyProject\\밑바닥 2\\common\\time_layers.py\u001b[0m in \u001b[0;36mbackward\u001b[1;34m(self, dout)\u001b[0m\n\u001b[0;32m    254\u001b[0m             \u001b[0mlayer\u001b[0m \u001b[1;33m=\u001b[0m \u001b[0mself\u001b[0m\u001b[1;33m.\u001b[0m\u001b[0mlayers\u001b[0m\u001b[1;33m[\u001b[0m\u001b[0mt\u001b[0m\u001b[1;33m]\u001b[0m\u001b[1;33m\u001b[0m\u001b[1;33m\u001b[0m\u001b[0m\n\u001b[0;32m    255\u001b[0m             \u001b[0mlayer\u001b[0m\u001b[1;33m.\u001b[0m\u001b[0mbackward\u001b[0m\u001b[1;33m(\u001b[0m\u001b[0mdout\u001b[0m\u001b[1;33m[\u001b[0m\u001b[1;33m:\u001b[0m\u001b[1;33m,\u001b[0m \u001b[0mt\u001b[0m\u001b[1;33m,\u001b[0m \u001b[1;33m:\u001b[0m\u001b[1;33m]\u001b[0m\u001b[1;33m)\u001b[0m\u001b[1;33m\u001b[0m\u001b[1;33m\u001b[0m\u001b[0m\n\u001b[1;32m--> 256\u001b[1;33m             \u001b[0mgrad\u001b[0m \u001b[1;33m+=\u001b[0m \u001b[0mlayer\u001b[0m\u001b[1;33m.\u001b[0m\u001b[0mgrads\u001b[0m\u001b[1;33m[\u001b[0m\u001b[1;36m0\u001b[0m\u001b[1;33m]\u001b[0m\u001b[1;33m\u001b[0m\u001b[1;33m\u001b[0m\u001b[0m\n\u001b[0m\u001b[0;32m    257\u001b[0m \u001b[1;33m\u001b[0m\u001b[0m\n\u001b[0;32m    258\u001b[0m         \u001b[0mself\u001b[0m\u001b[1;33m.\u001b[0m\u001b[0mgrads\u001b[0m\u001b[1;33m[\u001b[0m\u001b[1;36m0\u001b[0m\u001b[1;33m]\u001b[0m\u001b[1;33m[\u001b[0m\u001b[1;33m...\u001b[0m\u001b[1;33m]\u001b[0m \u001b[1;33m=\u001b[0m \u001b[0mgrad\u001b[0m\u001b[1;33m\u001b[0m\u001b[1;33m\u001b[0m\u001b[0m\n",
      "\u001b[1;31mKeyboardInterrupt\u001b[0m: "
     ]
    }
   ],
   "source": [
    "## 개선된 RNNLM 학습\n",
    "\n",
    "# coding: utf-8\n",
    "import sys\n",
    "sys.path.append('..')\n",
    "from common import config\n",
    "# GPU에서 실행하려면 아래 주석을 해제하세요(CuPy 필요).\n",
    "# ==============================================\n",
    "# config.GPU = True\n",
    "# ==============================================\n",
    "from common.optimizer import SGD\n",
    "from common.trainer import RnnlmTrainer\n",
    "from common.util import eval_perplexity, to_gpu\n",
    "from dataset import ptb\n",
    "from ch06.better_rnnlm import BetterRnnlm\n",
    "\n",
    "\n",
    "# 하이퍼파라미터 설정\n",
    "batch_size = 20\n",
    "wordvec_size = 650\n",
    "hidden_size = 650\n",
    "time_size = 35\n",
    "lr = 20.0\n",
    "max_epoch = 40\n",
    "max_grad = 0.25\n",
    "dropout = 0.5\n",
    "\n",
    "# 학습 데이터 읽기\n",
    "corpus, word_to_id, id_to_word = ptb.load_data('train')\n",
    "corpus_val, _, _ = ptb.load_data('val')\n",
    "corpus_test, _, _ = ptb.load_data('test')\n",
    "\n",
    "if config.GPU:\n",
    "    corpus = to_gpu(corpus)\n",
    "    corpus_val = to_gpu(corpus_val)\n",
    "    corpus_test = to_gpu(corpus_test)\n",
    "\n",
    "vocab_size = len(word_to_id)\n",
    "xs = corpus[:-1]\n",
    "ts = corpus[1:]\n",
    "\n",
    "model = BetterRnnlm(vocab_size, wordvec_size, hidden_size, dropout)\n",
    "optimizer = SGD(lr)\n",
    "trainer = RnnlmTrainer(model, optimizer)\n",
    "\n",
    "best_ppl = float('inf')\n",
    "for epoch in range(max_epoch):\n",
    "    trainer.fit(xs, ts, max_epoch=1, batch_size=batch_size,\n",
    "                time_size=time_size, max_grad=max_grad)\n",
    "\n",
    "    model.reset_state()\n",
    "    ppl = eval_perplexity(model, corpus_val)\n",
    "    print('검증 퍼플렉서티: ', ppl)\n",
    "\n",
    "    if best_ppl > ppl:\n",
    "        best_ppl = ppl\n",
    "        model.save_params()\n",
    "    else:\n",
    "        lr /= 4.0\n",
    "        optimizer.lr = lr\n",
    "\n",
    "    model.reset_state()\n",
    "    print('-' * 50)\n",
    "\n",
    "\n",
    "# 테스트 데이터로 평가\n",
    "model.reset_state()\n",
    "ppl_test = eval_perplexity(model, corpus_test)\n",
    "print('테스트 퍼플렉서티: ', ppl_test)\n"
   ]
  },
  {
   "cell_type": "code",
   "execution_count": 41,
   "metadata": {},
   "outputs": [],
   "source": [
    "## 학습 후 테스트 데이터로 얻은 최종 퍼플렉서티는 75정도가 된다.\n",
    "## 개선 전 135이었음을 생각하면 상당히 개선되었다고 할 수 있다."
   ]
  },
  {
   "cell_type": "code",
   "execution_count": null,
   "metadata": {},
   "outputs": [],
   "source": []
  }
 ],
 "metadata": {
  "kernelspec": {
   "display_name": "Python 3",
   "language": "python",
   "name": "python3"
  },
  "language_info": {
   "codemirror_mode": {
    "name": "ipython",
    "version": 3
   },
   "file_extension": ".py",
   "mimetype": "text/x-python",
   "name": "python",
   "nbconvert_exporter": "python",
   "pygments_lexer": "ipython3",
   "version": "3.7.5"
  }
 },
 "nbformat": 4,
 "nbformat_minor": 4
}
