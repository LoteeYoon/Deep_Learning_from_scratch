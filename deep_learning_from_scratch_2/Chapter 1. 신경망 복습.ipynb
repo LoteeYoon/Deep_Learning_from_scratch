{
 "cells": [
  {
   "cell_type": "code",
   "execution_count": 2,
   "metadata": {},
   "outputs": [
    {
     "name": "stdout",
     "output_type": "stream",
     "text": [
      "<class 'numpy.ndarray'>\n"
     ]
    }
   ],
   "source": [
    "import numpy as np\n",
    "\n",
    "x = np.array([1, 2, 3])\n",
    "print(x.__class__)"
   ]
  },
  {
   "cell_type": "code",
   "execution_count": 3,
   "metadata": {},
   "outputs": [
    {
     "data": {
      "text/plain": [
       "(3,)"
      ]
     },
     "execution_count": 3,
     "metadata": {},
     "output_type": "execute_result"
    }
   ],
   "source": [
    "x.shape"
   ]
  },
  {
   "cell_type": "code",
   "execution_count": 4,
   "metadata": {},
   "outputs": [
    {
     "data": {
      "text/plain": [
       "1"
      ]
     },
     "execution_count": 4,
     "metadata": {},
     "output_type": "execute_result"
    }
   ],
   "source": [
    "x.ndim"
   ]
  },
  {
   "cell_type": "code",
   "execution_count": 17,
   "metadata": {},
   "outputs": [
    {
     "data": {
      "text/plain": [
       "(1, 3)"
      ]
     },
     "execution_count": 17,
     "metadata": {},
     "output_type": "execute_result"
    }
   ],
   "source": [
    "x = x.reshape(1,-1)\n",
    "x.shape"
   ]
  },
  {
   "cell_type": "code",
   "execution_count": 18,
   "metadata": {},
   "outputs": [
    {
     "data": {
      "text/plain": [
       "2"
      ]
     },
     "execution_count": 18,
     "metadata": {},
     "output_type": "execute_result"
    }
   ],
   "source": [
    "x.ndim"
   ]
  },
  {
   "cell_type": "code",
   "execution_count": 19,
   "metadata": {},
   "outputs": [
    {
     "data": {
      "text/plain": [
       "(2, 3)"
      ]
     },
     "execution_count": 19,
     "metadata": {},
     "output_type": "execute_result"
    }
   ],
   "source": [
    "W = np.array([[1, 2, 3], [4, 5, 6]])\n",
    "W.shape"
   ]
  },
  {
   "cell_type": "code",
   "execution_count": 20,
   "metadata": {},
   "outputs": [
    {
     "data": {
      "text/plain": [
       "2"
      ]
     },
     "execution_count": 20,
     "metadata": {},
     "output_type": "execute_result"
    }
   ],
   "source": [
    "W.ndim"
   ]
  },
  {
   "cell_type": "code",
   "execution_count": 24,
   "metadata": {},
   "outputs": [],
   "source": [
    "## 행렬의 원소별 연산"
   ]
  },
  {
   "cell_type": "code",
   "execution_count": 25,
   "metadata": {},
   "outputs": [],
   "source": [
    "X = np.array([[0, 1, 2], [3, 4, 5]])\n",
    "W = np.array([[1, 2, 3], [4, 5, 6]])"
   ]
  },
  {
   "cell_type": "code",
   "execution_count": 26,
   "metadata": {},
   "outputs": [
    {
     "data": {
      "text/plain": [
       "array([[ 1,  3,  5],\n",
       "       [ 7,  9, 11]])"
      ]
     },
     "execution_count": 26,
     "metadata": {},
     "output_type": "execute_result"
    }
   ],
   "source": [
    "W + X"
   ]
  },
  {
   "cell_type": "code",
   "execution_count": 27,
   "metadata": {},
   "outputs": [
    {
     "data": {
      "text/plain": [
       "array([[ 0,  2,  6],\n",
       "       [12, 20, 30]])"
      ]
     },
     "execution_count": 27,
     "metadata": {},
     "output_type": "execute_result"
    }
   ],
   "source": [
    "W * X"
   ]
  },
  {
   "cell_type": "code",
   "execution_count": 28,
   "metadata": {},
   "outputs": [],
   "source": [
    "## 브로드캐스트 ( 형상이 다른 배열끼리 연산)"
   ]
  },
  {
   "cell_type": "code",
   "execution_count": 30,
   "metadata": {},
   "outputs": [
    {
     "data": {
      "text/plain": [
       "array([[10, 20],\n",
       "       [30, 40]])"
      ]
     },
     "execution_count": 30,
     "metadata": {},
     "output_type": "execute_result"
    }
   ],
   "source": [
    "## 스칼라 값 10이 2 x 2 행렬로 확장된 후 원소별 연산 \n",
    "A = np.array([[1, 2], [3, 4]])\n",
    "A * 10"
   ]
  },
  {
   "cell_type": "code",
   "execution_count": 31,
   "metadata": {},
   "outputs": [
    {
     "data": {
      "text/plain": [
       "array([[10, 40],\n",
       "       [30, 80]])"
      ]
     },
     "execution_count": 31,
     "metadata": {},
     "output_type": "execute_result"
    }
   ],
   "source": [
    "## 1차원 배열 b가 2차원 배열 A와 형상이 같아지도록 확장\n",
    "A = np.array([[1, 2], [3, 4]])\n",
    "b = np.array([10, 20])\n",
    "A * b"
   ]
  },
  {
   "cell_type": "code",
   "execution_count": 35,
   "metadata": {},
   "outputs": [],
   "source": [
    "## 벡터 내적과 행렬 곱\n",
    "## 벡터 내적에는 np.dot()을, 행렬 곱에는 np.matmul()으로 구분하여 사용하는 편이 좋다."
   ]
  },
  {
   "cell_type": "code",
   "execution_count": 36,
   "metadata": {},
   "outputs": [
    {
     "data": {
      "text/plain": [
       "32"
      ]
     },
     "execution_count": 36,
     "metadata": {},
     "output_type": "execute_result"
    }
   ],
   "source": [
    "# 벡터 내적\n",
    "a = np.array([1, 2, 3])\n",
    "b = np.array([4, 5, 6])\n",
    "np.dot(a, b)"
   ]
  },
  {
   "cell_type": "code",
   "execution_count": 37,
   "metadata": {},
   "outputs": [
    {
     "data": {
      "text/plain": [
       "array([[19, 22],\n",
       "       [43, 50]])"
      ]
     },
     "execution_count": 37,
     "metadata": {},
     "output_type": "execute_result"
    }
   ],
   "source": [
    "# 행렬 곱\n",
    "A = np.array([[1, 2], [3, 4]])\n",
    "B = np.array([[5, 6], [7, 8]])\n",
    "np.matmul(A, B)"
   ]
  },
  {
   "cell_type": "code",
   "execution_count": 38,
   "metadata": {},
   "outputs": [],
   "source": [
    "import numpy as np\n",
    "W1 = np.random.randn(2, 4)\n",
    "b1 = np.random.randn(4)\n",
    "x = np.random.randn(10, 2)\n",
    "h = np.matmul(x, W1) + b1"
   ]
  },
  {
   "cell_type": "code",
   "execution_count": 39,
   "metadata": {},
   "outputs": [],
   "source": [
    "def sigmoid(x):\n",
    "    return 1 / (1 + np.exp(-x))"
   ]
  },
  {
   "cell_type": "code",
   "execution_count": 40,
   "metadata": {},
   "outputs": [],
   "source": [
    "a = sigmoid(h)"
   ]
  },
  {
   "cell_type": "code",
   "execution_count": 43,
   "metadata": {},
   "outputs": [
    {
     "data": {
      "text/plain": [
       "array([[0.87328754, 0.11686536, 0.9826303 , 0.24433646],\n",
       "       [0.79486935, 0.28187652, 0.86790569, 0.31375872],\n",
       "       [0.37285308, 0.65737132, 0.79915754, 0.11503799],\n",
       "       [0.83686398, 0.09311924, 0.99644089, 0.12538877],\n",
       "       [0.87497231, 0.25277949, 0.70448071, 0.51090966],\n",
       "       [0.33196794, 0.72861686, 0.67241807, 0.12614076],\n",
       "       [0.78529429, 0.20753743, 0.96702314, 0.20175257],\n",
       "       [0.3568118 , 0.82257349, 0.20066086, 0.25340198],\n",
       "       [0.84966087, 0.15730435, 0.9675686 , 0.25979021],\n",
       "       [0.44914256, 0.57422409, 0.85185068, 0.12649136]])"
      ]
     },
     "execution_count": 43,
     "metadata": {},
     "output_type": "execute_result"
    }
   ],
   "source": [
    "a"
   ]
  },
  {
   "cell_type": "code",
   "execution_count": 46,
   "metadata": {},
   "outputs": [],
   "source": [
    "## 순전파 구현\n",
    "## 밑바닥 1와 다르게 활성화 함수 구현할 때 생성자 인스턴스 변수에 파라미터 리스트를 추가한다.\n",
    "import numpy as np\n",
    "\n",
    "class Sigmoid:\n",
    "    def __init__(self):\n",
    "        self.params = []\n",
    "        \n",
    "    def forward(self, x):\n",
    "        return 1 / (1 + np.exp(-x))"
   ]
  },
  {
   "cell_type": "code",
   "execution_count": 47,
   "metadata": {},
   "outputs": [],
   "source": [
    "class Affine:\n",
    "    def __init__(self, W, b):\n",
    "        self.params = [W, b]\n",
    "        \n",
    "    def forward(self, x):\n",
    "        W, b = self.params\n",
    "        out = np.matmul(x, W) + b\n",
    "        return out"
   ]
  },
  {
   "cell_type": "code",
   "execution_count": 49,
   "metadata": {},
   "outputs": [],
   "source": [
    "class TwoLayerNet:\n",
    "    def __init__(self, input_size, hidden_size, output_size):\n",
    "        I, H, O = input_size, hidden_size, output_size\n",
    "        \n",
    "        # 가중치와 편향 초기화\n",
    "        W1 = np.random.randn(I, H)\n",
    "        b1 = np.random.randn(H)\n",
    "        W2 = np.random.randn(H, O)\n",
    "        b2 = np.random.randn(O)\n",
    "        \n",
    "        # 계층 생성\n",
    "        self.layers = [\n",
    "            Affine(W1, b1),\n",
    "            Sigmoid(),\n",
    "            Affine(W2, b2)\n",
    "        ]\n",
    "    \n",
    "        # 모든 가중치를 리스트에 모은다\n",
    "        self.params = []\n",
    "        for layer in self.layers:\n",
    "            self.params += layer.params\n",
    "            \n",
    "    def predict(self, x):\n",
    "        for layer in self.layers:\n",
    "            x = layer.forward(x)\n",
    "        return x"
   ]
  },
  {
   "cell_type": "code",
   "execution_count": 50,
   "metadata": {},
   "outputs": [],
   "source": [
    "x = np.random.randn(10, 2)\n",
    "model = TwoLayerNet(2, 4, 3)\n",
    "s = model.predict(x)"
   ]
  },
  {
   "cell_type": "code",
   "execution_count": 52,
   "metadata": {},
   "outputs": [
    {
     "data": {
      "text/plain": [
       "(10, 3)"
      ]
     },
     "execution_count": 52,
     "metadata": {},
     "output_type": "execute_result"
    }
   ],
   "source": [
    "s.shape"
   ]
  },
  {
   "cell_type": "code",
   "execution_count": 53,
   "metadata": {},
   "outputs": [],
   "source": [
    "# Repeat 노드\n",
    "\n",
    "import numpy as np\n",
    "\n",
    "D, N = 8, 7\n",
    "x = np.random.randn(1, D)\n",
    "y = np.repeat(x, N, axis = 0)\n",
    "dy = np.random.randn(N, D)\n",
    "dx = np.sum(dy, axis = 0, keepdims = True)"
   ]
  },
  {
   "cell_type": "code",
   "execution_count": 56,
   "metadata": {},
   "outputs": [
    {
     "name": "stdout",
     "output_type": "stream",
     "text": [
      "[[-0.39057529  0.51532945 -0.66633237  1.31315897 -0.10683937  1.52597722\n",
      "  -0.73383412  1.51474359]]\n"
     ]
    }
   ],
   "source": [
    "print(x)"
   ]
  },
  {
   "cell_type": "code",
   "execution_count": 57,
   "metadata": {},
   "outputs": [
    {
     "name": "stdout",
     "output_type": "stream",
     "text": [
      "[[-0.39057529  0.51532945 -0.66633237  1.31315897 -0.10683937  1.52597722\n",
      "  -0.73383412  1.51474359]\n",
      " [-0.39057529  0.51532945 -0.66633237  1.31315897 -0.10683937  1.52597722\n",
      "  -0.73383412  1.51474359]\n",
      " [-0.39057529  0.51532945 -0.66633237  1.31315897 -0.10683937  1.52597722\n",
      "  -0.73383412  1.51474359]\n",
      " [-0.39057529  0.51532945 -0.66633237  1.31315897 -0.10683937  1.52597722\n",
      "  -0.73383412  1.51474359]\n",
      " [-0.39057529  0.51532945 -0.66633237  1.31315897 -0.10683937  1.52597722\n",
      "  -0.73383412  1.51474359]\n",
      " [-0.39057529  0.51532945 -0.66633237  1.31315897 -0.10683937  1.52597722\n",
      "  -0.73383412  1.51474359]\n",
      " [-0.39057529  0.51532945 -0.66633237  1.31315897 -0.10683937  1.52597722\n",
      "  -0.73383412  1.51474359]]\n"
     ]
    }
   ],
   "source": [
    "print(y)"
   ]
  },
  {
   "cell_type": "code",
   "execution_count": 58,
   "metadata": {},
   "outputs": [
    {
     "name": "stdout",
     "output_type": "stream",
     "text": [
      "[[-1.48802386 -0.36247714  0.67944377  0.46148554  0.39210312  0.96041136\n",
      "  -0.2319583   1.03504079]\n",
      " [ 0.49408099 -0.44191606  0.66216099 -0.63919528  0.52278544 -0.02201221\n",
      "  -0.62155243 -1.70142517]\n",
      " [-0.21844582 -0.55775246 -0.27753567  0.17359992  0.35613869 -0.41732783\n",
      "  -0.45293185 -0.0384613 ]\n",
      " [-1.82927866  1.22801374  0.5563393  -1.55174628  0.52721912  0.02822953\n",
      "   0.66636463 -0.183143  ]\n",
      " [-0.20889549 -0.42179014 -0.70778023  0.81407298  0.01017384 -0.95741959\n",
      "  -0.80708055 -0.84899719]\n",
      " [-0.58789656 -1.31931831 -0.34055907 -0.83478446  0.23923975  1.2198923\n",
      "  -1.52610802 -1.06919416]\n",
      " [ 0.33757348 -0.54574498 -0.26303337  0.92261947 -0.12491158  1.08765579\n",
      "  -1.50050387 -1.11392973]]\n"
     ]
    }
   ],
   "source": [
    "print(dy)"
   ]
  },
  {
   "cell_type": "code",
   "execution_count": 59,
   "metadata": {},
   "outputs": [
    {
     "name": "stdout",
     "output_type": "stream",
     "text": [
      "[[-3.50088592 -2.42098536  0.30903572 -0.65394813  1.92274839  1.89942933\n",
      "  -4.47377038 -3.92010976]]\n"
     ]
    }
   ],
   "source": [
    "print(dx)"
   ]
  },
  {
   "cell_type": "code",
   "execution_count": 60,
   "metadata": {},
   "outputs": [],
   "source": [
    "## Sum 노드\n",
    "\n",
    "import numpy as np\n",
    "D, N = 8, 7\n",
    "x = np.random.randn(N, D)\n",
    "y = np.sum(x, axis = 0, keepdims = True)\n",
    "dy = np.random.randn(1, D)\n",
    "dx = np.repeat(dy, N, axis = 0)"
   ]
  },
  {
   "cell_type": "code",
   "execution_count": 61,
   "metadata": {},
   "outputs": [
    {
     "name": "stdout",
     "output_type": "stream",
     "text": [
      "[[ 1.26544784 -0.69062701 -0.02928905 -1.97934254  0.2090217   0.11450821\n",
      "  -0.65209705  1.67730007]\n",
      " [ 0.53668938  2.25919912 -0.49890359  1.10880378 -0.71134848  1.40232631\n",
      "   1.04556121  1.53862463]\n",
      " [ 0.01916842  1.11051244 -0.78700061 -0.76751875  0.65486671 -0.69350337\n",
      "  -1.22538984  0.13835155]\n",
      " [ 1.98014256 -0.43934384 -0.45774402 -0.14716533  1.02219861  0.48575982\n",
      "   1.40375697  0.42061162]\n",
      " [-1.28012276  0.58734384 -0.82416312  1.31000071  0.04509168 -0.02452623\n",
      "  -0.13779119 -0.55547679]\n",
      " [ 0.19408446 -0.8603617   1.45748618  0.40499001 -1.13946673 -0.67194076\n",
      "  -1.15608416  2.08820775]\n",
      " [-1.7931803  -1.43133493  0.04474614  1.6241199   0.24692001 -1.02996594\n",
      "  -1.17237211  1.35004327]]\n"
     ]
    }
   ],
   "source": [
    "print(x)"
   ]
  },
  {
   "cell_type": "code",
   "execution_count": 62,
   "metadata": {},
   "outputs": [
    {
     "name": "stdout",
     "output_type": "stream",
     "text": [
      "[[ 0.9222296   0.53538791 -1.09486807  1.55388778  0.32728351 -0.41734195\n",
      "  -1.89441618  6.6576621 ]]\n"
     ]
    }
   ],
   "source": [
    "print(y)"
   ]
  },
  {
   "cell_type": "code",
   "execution_count": 63,
   "metadata": {},
   "outputs": [
    {
     "name": "stdout",
     "output_type": "stream",
     "text": [
      "[[-1.98179073  0.12848877  0.13169351 -0.26796905 -0.13315339 -0.40564309\n",
      "  -0.52891818 -0.32545131]]\n"
     ]
    }
   ],
   "source": [
    "print(dy)"
   ]
  },
  {
   "cell_type": "code",
   "execution_count": 64,
   "metadata": {},
   "outputs": [
    {
     "name": "stdout",
     "output_type": "stream",
     "text": [
      "[[-1.98179073  0.12848877  0.13169351 -0.26796905 -0.13315339 -0.40564309\n",
      "  -0.52891818 -0.32545131]\n",
      " [-1.98179073  0.12848877  0.13169351 -0.26796905 -0.13315339 -0.40564309\n",
      "  -0.52891818 -0.32545131]\n",
      " [-1.98179073  0.12848877  0.13169351 -0.26796905 -0.13315339 -0.40564309\n",
      "  -0.52891818 -0.32545131]\n",
      " [-1.98179073  0.12848877  0.13169351 -0.26796905 -0.13315339 -0.40564309\n",
      "  -0.52891818 -0.32545131]\n",
      " [-1.98179073  0.12848877  0.13169351 -0.26796905 -0.13315339 -0.40564309\n",
      "  -0.52891818 -0.32545131]\n",
      " [-1.98179073  0.12848877  0.13169351 -0.26796905 -0.13315339 -0.40564309\n",
      "  -0.52891818 -0.32545131]\n",
      " [-1.98179073  0.12848877  0.13169351 -0.26796905 -0.13315339 -0.40564309\n",
      "  -0.52891818 -0.32545131]]\n"
     ]
    }
   ],
   "source": [
    "print(dx)"
   ]
  },
  {
   "cell_type": "code",
   "execution_count": 12,
   "metadata": {},
   "outputs": [],
   "source": [
    "## MatMul 노드의 역전파 \n",
    "\n",
    "class MatMul:\n",
    "        def __init__(self, W):\n",
    "            self.params = [W]\n",
    "            self.grads = [np.zeros_like(W)]\n",
    "            self.x = None\n",
    "            \n",
    "        def forward(self, x):\n",
    "            W, = self.params\n",
    "            out = np.matmul(x, W)\n",
    "            self.x = x\n",
    "            return out\n",
    "        \n",
    "        def backward(self, dout):\n",
    "            W, = self.params\n",
    "            dx = np.matmul(dout, W.T)\n",
    "            dW = np.matmul(self.x.T, dout)\n",
    "            self.grads[0][...] = dW  ## [...] 생략 기호를 사용하여 깊은복사\n",
    "            return dx"
   ]
  },
  {
   "cell_type": "code",
   "execution_count": 14,
   "metadata": {},
   "outputs": [],
   "source": [
    "class Sigmoid:\n",
    "    def __init__(self):\n",
    "        self.params, self.grads = [], []\n",
    "        self.out = None\n",
    "        \n",
    "    def forward(self, x):\n",
    "        out = 1 / (1 + np.exp(-x))\n",
    "        self.out = out\n",
    "        return out\n",
    "    \n",
    "    def backward(self, dout):\n",
    "        dx = dout * (1.0 - self.out) * self.out\n",
    "        return dx"
   ]
  },
  {
   "cell_type": "code",
   "execution_count": 15,
   "metadata": {},
   "outputs": [],
   "source": [
    "class Affine:\n",
    "    def __init__(self, W, b):\n",
    "        self.params = [W, b]\n",
    "        self.grads = [np.zeros_like(W), np.zeros_like(b)]\n",
    "        self.x = None\n",
    "        \n",
    "    def forward(self, x):\n",
    "        W, b = self.params\n",
    "        out = np.matmul(x, W) + b\n",
    "        self.x = x\n",
    "        return out\n",
    "    \n",
    "    def backward(self, dout):\n",
    "        W, b = self.params\n",
    "        dx = np.matmul(dout, W.T)\n",
    "        dW = np.matmul(self.x.T, dout)\n",
    "        db = np.sum(dout, axis = 0)\n",
    "        \n",
    "        self.grads[0][...] = dW\n",
    "        self.grads[1][...] = db\n",
    "        return dx"
   ]
  },
  {
   "cell_type": "code",
   "execution_count": 18,
   "metadata": {},
   "outputs": [],
   "source": [
    "# spiral.py\n",
    "import numpy as np\n",
    "\n",
    "def load_data(seed=1984):\n",
    "    np.random.seed(seed)\n",
    "    N = 100  # 클래스당 샘플 수\n",
    "    DIM = 2  # 데이터 요소 수\n",
    "    CLS_NUM = 3  # 클래스 수\n",
    "\n",
    "    x = np.zeros((N*CLS_NUM, DIM))\n",
    "    t = np.zeros((N*CLS_NUM, CLS_NUM), dtype=np.int)\n",
    "\n",
    "    for j in range(CLS_NUM):\n",
    "        for i in range(N): # N*j, N*(j+1)):\n",
    "            rate = i / N\n",
    "            radius = 1.0*rate\n",
    "            theta = j*4.0 + 4.0*rate + np.random.randn()*0.2\n",
    "\n",
    "            ix = N*j + i\n",
    "            x[ix] = np.array([radius*np.sin(theta),\n",
    "                              radius*np.cos(theta)]).flatten()\n",
    "            t[ix, j] = 1\n",
    "\n",
    "    return x, t"
   ]
  },
  {
   "cell_type": "code",
   "execution_count": 19,
   "metadata": {},
   "outputs": [
    {
     "name": "stdout",
     "output_type": "stream",
     "text": [
      "x (300, 2)\n",
      "t (300, 3)\n"
     ]
    },
    {
     "data": {
      "image/png": "[encoded data removed]",
      "text/plain": [
       "<Figure size 432x288 with 1 Axes>"
      ]
     },
     "metadata": {
      "needs_background": "light"
     },
     "output_type": "display_data"
    }
   ],
   "source": [
    "## 스파이럴 데이터셋\n",
    "\n",
    "import sys\n",
    "sys.path.append('..')\n",
    "from dataset import spiral\n",
    "import matplotlib.pyplot as plt\n",
    "\n",
    "x, t = spiral.load_data()\n",
    "print('x', x.shape)\n",
    "print('t', t.shape)\n",
    "\n",
    "N = 100\n",
    "CLS_NUM = 3\n",
    "markers = ['o', 'x', '^']\n",
    "for i in range(CLS_NUM):\n",
    "    plt.scatter(x[i*N:(i+1)*N, 0], x[i*N:(i+1)*N, 1], s=40, marker=markers[i])\n",
    "plt.show()"
   ]
  },
  {
   "cell_type": "code",
   "execution_count": 20,
   "metadata": {},
   "outputs": [],
   "source": [
    "# coding: utf-8\n",
    "import sys\n",
    "sys.path.append('..')  # 부모 디렉터리의 파일을 가져올 수 있도록 설정\n",
    "import numpy as np\n",
    "from common.layers import Affine, Sigmoid, SoftmaxWithLoss\n",
    "\n",
    "\n",
    "class TwoLayerNet:\n",
    "    def __init__(self, input_size, hidden_size, output_size):\n",
    "        I, H, O = input_size, hidden_size, output_size\n",
    "\n",
    "        # 가중치와 편향 초기화\n",
    "        W1 = 0.01 * np.random.randn(I, H)\n",
    "        b1 = np.zeros(H)\n",
    "        W2 = 0.01 * np.random.randn(H, O)\n",
    "        b2 = np.zeros(O)\n",
    "\n",
    "        # 계층 생성\n",
    "        self.layers = [\n",
    "            Affine(W1, b1),\n",
    "            Sigmoid(),\n",
    "            Affine(W2, b2)\n",
    "        ]\n",
    "        self.loss_layer = SoftmaxWithLoss()\n",
    "\n",
    "        # 모든 가중치와 기울기를 리스트에 모은다.\n",
    "        self.params, self.grads = [], []\n",
    "        for layer in self.layers:\n",
    "            self.params += layer.params\n",
    "            self.grads += layer.grads\n",
    "\n",
    "    def predict(self, x):\n",
    "        for layer in self.layers:\n",
    "            x = layer.forward(x)\n",
    "        return x\n",
    "\n",
    "    def forward(self, x, t):\n",
    "        score = self.predict(x)\n",
    "        loss = self.loss_layer.forward(score, t)\n",
    "        return loss\n",
    "\n",
    "    def backward(self, dout=1):\n",
    "        dout = self.loss_layer.backward(dout)\n",
    "        for layer in reversed(self.layers):\n",
    "            dout = layer.backward(dout)\n",
    "        return dout"
   ]
  },
  {
   "cell_type": "code",
   "execution_count": 23,
   "metadata": {},
   "outputs": [
    {
     "name": "stdout",
     "output_type": "stream",
     "text": [
      "| 에폭 1 |  반복 10 / 10 | 손실 1.13\n",
      "| 에폭 2 |  반복 10 / 10 | 손실 1.13\n",
      "| 에폭 3 |  반복 10 / 10 | 손실 1.12\n",
      "| 에폭 4 |  반복 10 / 10 | 손실 1.12\n",
      "| 에폭 5 |  반복 10 / 10 | 손실 1.11\n",
      "| 에폭 6 |  반복 10 / 10 | 손실 1.14\n",
      "| 에폭 7 |  반복 10 / 10 | 손실 1.16\n",
      "| 에폭 8 |  반복 10 / 10 | 손실 1.11\n",
      "| 에폭 9 |  반복 10 / 10 | 손실 1.12\n",
      "| 에폭 10 |  반복 10 / 10 | 손실 1.13\n",
      "| 에폭 11 |  반복 10 / 10 | 손실 1.12\n",
      "| 에폭 12 |  반복 10 / 10 | 손실 1.11\n",
      "| 에폭 13 |  반복 10 / 10 | 손실 1.09\n",
      "| 에폭 14 |  반복 10 / 10 | 손실 1.08\n",
      "| 에폭 15 |  반복 10 / 10 | 손실 1.04\n",
      "| 에폭 16 |  반복 10 / 10 | 손실 1.03\n",
      "| 에폭 17 |  반복 10 / 10 | 손실 0.96\n",
      "| 에폭 18 |  반복 10 / 10 | 손실 0.92\n",
      "| 에폭 19 |  반복 10 / 10 | 손실 0.92\n",
      "| 에폭 20 |  반복 10 / 10 | 손실 0.87\n",
      "| 에폭 21 |  반복 10 / 10 | 손실 0.85\n",
      "| 에폭 22 |  반복 10 / 10 | 손실 0.82\n",
      "| 에폭 23 |  반복 10 / 10 | 손실 0.79\n",
      "| 에폭 24 |  반복 10 / 10 | 손실 0.78\n",
      "| 에폭 25 |  반복 10 / 10 | 손실 0.82\n",
      "| 에폭 26 |  반복 10 / 10 | 손실 0.78\n",
      "| 에폭 27 |  반복 10 / 10 | 손실 0.76\n",
      "| 에폭 28 |  반복 10 / 10 | 손실 0.76\n",
      "| 에폭 29 |  반복 10 / 10 | 손실 0.78\n",
      "| 에폭 30 |  반복 10 / 10 | 손실 0.75\n",
      "| 에폭 31 |  반복 10 / 10 | 손실 0.78\n",
      "| 에폭 32 |  반복 10 / 10 | 손실 0.77\n",
      "| 에폭 33 |  반복 10 / 10 | 손실 0.77\n",
      "| 에폭 34 |  반복 10 / 10 | 손실 0.78\n",
      "| 에폭 35 |  반복 10 / 10 | 손실 0.75\n",
      "| 에폭 36 |  반복 10 / 10 | 손실 0.74\n",
      "| 에폭 37 |  반복 10 / 10 | 손실 0.76\n",
      "| 에폭 38 |  반복 10 / 10 | 손실 0.76\n",
      "| 에폭 39 |  반복 10 / 10 | 손실 0.73\n",
      "| 에폭 40 |  반복 10 / 10 | 손실 0.75\n",
      "| 에폭 41 |  반복 10 / 10 | 손실 0.76\n",
      "| 에폭 42 |  반복 10 / 10 | 손실 0.76\n",
      "| 에폭 43 |  반복 10 / 10 | 손실 0.76\n",
      "| 에폭 44 |  반복 10 / 10 | 손실 0.74\n",
      "| 에폭 45 |  반복 10 / 10 | 손실 0.75\n",
      "| 에폭 46 |  반복 10 / 10 | 손실 0.73\n",
      "| 에폭 47 |  반복 10 / 10 | 손실 0.72\n",
      "| 에폭 48 |  반복 10 / 10 | 손실 0.73\n",
      "| 에폭 49 |  반복 10 / 10 | 손실 0.72\n",
      "| 에폭 50 |  반복 10 / 10 | 손실 0.72\n",
      "| 에폭 51 |  반복 10 / 10 | 손실 0.72\n",
      "| 에폭 52 |  반복 10 / 10 | 손실 0.72\n",
      "| 에폭 53 |  반복 10 / 10 | 손실 0.74\n",
      "| 에폭 54 |  반복 10 / 10 | 손실 0.74\n",
      "| 에폭 55 |  반복 10 / 10 | 손실 0.72\n",
      "| 에폭 56 |  반복 10 / 10 | 손실 0.72\n",
      "| 에폭 57 |  반복 10 / 10 | 손실 0.71\n",
      "| 에폭 58 |  반복 10 / 10 | 손실 0.70\n",
      "| 에폭 59 |  반복 10 / 10 | 손실 0.72\n",
      "| 에폭 60 |  반복 10 / 10 | 손실 0.70\n",
      "| 에폭 61 |  반복 10 / 10 | 손실 0.71\n",
      "| 에폭 62 |  반복 10 / 10 | 손실 0.72\n",
      "| 에폭 63 |  반복 10 / 10 | 손실 0.70\n",
      "| 에폭 64 |  반복 10 / 10 | 손실 0.71\n",
      "| 에폭 65 |  반복 10 / 10 | 손실 0.73\n",
      "| 에폭 66 |  반복 10 / 10 | 손실 0.70\n",
      "| 에폭 67 |  반복 10 / 10 | 손실 0.71\n",
      "| 에폭 68 |  반복 10 / 10 | 손실 0.69\n",
      "| 에폭 69 |  반복 10 / 10 | 손실 0.70\n",
      "| 에폭 70 |  반복 10 / 10 | 손실 0.71\n",
      "| 에폭 71 |  반복 10 / 10 | 손실 0.68\n",
      "| 에폭 72 |  반복 10 / 10 | 손실 0.69\n",
      "| 에폭 73 |  반복 10 / 10 | 손실 0.67\n",
      "| 에폭 74 |  반복 10 / 10 | 손실 0.68\n",
      "| 에폭 75 |  반복 10 / 10 | 손실 0.67\n",
      "| 에폭 76 |  반복 10 / 10 | 손실 0.66\n",
      "| 에폭 77 |  반복 10 / 10 | 손실 0.69\n",
      "| 에폭 78 |  반복 10 / 10 | 손실 0.64\n",
      "| 에폭 79 |  반복 10 / 10 | 손실 0.68\n",
      "| 에폭 80 |  반복 10 / 10 | 손실 0.64\n",
      "| 에폭 81 |  반복 10 / 10 | 손실 0.64\n",
      "| 에폭 82 |  반복 10 / 10 | 손실 0.66\n",
      "| 에폭 83 |  반복 10 / 10 | 손실 0.62\n",
      "| 에폭 84 |  반복 10 / 10 | 손실 0.62\n",
      "| 에폭 85 |  반복 10 / 10 | 손실 0.61\n",
      "| 에폭 86 |  반복 10 / 10 | 손실 0.60\n",
      "| 에폭 87 |  반복 10 / 10 | 손실 0.60\n",
      "| 에폭 88 |  반복 10 / 10 | 손실 0.61\n",
      "| 에폭 89 |  반복 10 / 10 | 손실 0.59\n",
      "| 에폭 90 |  반복 10 / 10 | 손실 0.58\n",
      "| 에폭 91 |  반복 10 / 10 | 손실 0.56\n",
      "| 에폭 92 |  반복 10 / 10 | 손실 0.56\n",
      "| 에폭 93 |  반복 10 / 10 | 손실 0.54\n",
      "| 에폭 94 |  반복 10 / 10 | 손실 0.53\n",
      "| 에폭 95 |  반복 10 / 10 | 손실 0.53\n",
      "| 에폭 96 |  반복 10 / 10 | 손실 0.52\n",
      "| 에폭 97 |  반복 10 / 10 | 손실 0.51\n",
      "| 에폭 98 |  반복 10 / 10 | 손실 0.50\n",
      "| 에폭 99 |  반복 10 / 10 | 손실 0.48\n",
      "| 에폭 100 |  반복 10 / 10 | 손실 0.48\n",
      "| 에폭 101 |  반복 10 / 10 | 손실 0.46\n",
      "| 에폭 102 |  반복 10 / 10 | 손실 0.45\n",
      "| 에폭 103 |  반복 10 / 10 | 손실 0.45\n",
      "| 에폭 104 |  반복 10 / 10 | 손실 0.44\n",
      "| 에폭 105 |  반복 10 / 10 | 손실 0.44\n",
      "| 에폭 106 |  반복 10 / 10 | 손실 0.41\n",
      "| 에폭 107 |  반복 10 / 10 | 손실 0.40\n",
      "| 에폭 108 |  반복 10 / 10 | 손실 0.41\n",
      "| 에폭 109 |  반복 10 / 10 | 손실 0.40\n",
      "| 에폭 110 |  반복 10 / 10 | 손실 0.40\n",
      "| 에폭 111 |  반복 10 / 10 | 손실 0.38\n",
      "| 에폭 112 |  반복 10 / 10 | 손실 0.38\n",
      "| 에폭 113 |  반복 10 / 10 | 손실 0.36\n",
      "| 에폭 114 |  반복 10 / 10 | 손실 0.37\n",
      "| 에폭 115 |  반복 10 / 10 | 손실 0.35\n",
      "| 에폭 116 |  반복 10 / 10 | 손실 0.34\n",
      "| 에폭 117 |  반복 10 / 10 | 손실 0.34\n",
      "| 에폭 118 |  반복 10 / 10 | 손실 0.34\n",
      "| 에폭 119 |  반복 10 / 10 | 손실 0.33\n",
      "| 에폭 120 |  반복 10 / 10 | 손실 0.34\n",
      "| 에폭 121 |  반복 10 / 10 | 손실 0.32\n",
      "| 에폭 122 |  반복 10 / 10 | 손실 0.32\n",
      "| 에폭 123 |  반복 10 / 10 | 손실 0.31\n",
      "| 에폭 124 |  반복 10 / 10 | 손실 0.31\n",
      "| 에폭 125 |  반복 10 / 10 | 손실 0.30\n",
      "| 에폭 126 |  반복 10 / 10 | 손실 0.30\n",
      "| 에폭 127 |  반복 10 / 10 | 손실 0.28\n",
      "| 에폭 128 |  반복 10 / 10 | 손실 0.28\n",
      "| 에폭 129 |  반복 10 / 10 | 손실 0.28\n",
      "| 에폭 130 |  반복 10 / 10 | 손실 0.28\n",
      "| 에폭 131 |  반복 10 / 10 | 손실 0.27\n",
      "| 에폭 132 |  반복 10 / 10 | 손실 0.27\n",
      "| 에폭 133 |  반복 10 / 10 | 손실 0.27\n",
      "| 에폭 134 |  반복 10 / 10 | 손실 0.27\n",
      "| 에폭 135 |  반복 10 / 10 | 손실 0.27\n",
      "| 에폭 136 |  반복 10 / 10 | 손실 0.26\n",
      "| 에폭 137 |  반복 10 / 10 | 손실 0.26\n",
      "| 에폭 138 |  반복 10 / 10 | 손실 0.26\n",
      "| 에폭 139 |  반복 10 / 10 | 손실 0.25\n",
      "| 에폭 140 |  반복 10 / 10 | 손실 0.24\n",
      "| 에폭 141 |  반복 10 / 10 | 손실 0.24\n",
      "| 에폭 142 |  반복 10 / 10 | 손실 0.25\n",
      "| 에폭 143 |  반복 10 / 10 | 손실 0.24\n",
      "| 에폭 144 |  반복 10 / 10 | 손실 0.24\n",
      "| 에폭 145 |  반복 10 / 10 | 손실 0.23\n",
      "| 에폭 146 |  반복 10 / 10 | 손실 0.24\n",
      "| 에폭 147 |  반복 10 / 10 | 손실 0.23\n",
      "| 에폭 148 |  반복 10 / 10 | 손실 0.23\n",
      "| 에폭 149 |  반복 10 / 10 | 손실 0.22\n",
      "| 에폭 150 |  반복 10 / 10 | 손실 0.22\n",
      "| 에폭 151 |  반복 10 / 10 | 손실 0.22\n",
      "| 에폭 152 |  반복 10 / 10 | 손실 0.22\n",
      "| 에폭 153 |  반복 10 / 10 | 손실 0.22\n",
      "| 에폭 154 |  반복 10 / 10 | 손실 0.22\n",
      "| 에폭 155 |  반복 10 / 10 | 손실 0.22\n",
      "| 에폭 156 |  반복 10 / 10 | 손실 0.21\n",
      "| 에폭 157 |  반복 10 / 10 | 손실 0.21\n",
      "| 에폭 158 |  반복 10 / 10 | 손실 0.20\n",
      "| 에폭 159 |  반복 10 / 10 | 손실 0.21\n",
      "| 에폭 160 |  반복 10 / 10 | 손실 0.20\n",
      "| 에폭 161 |  반복 10 / 10 | 손실 0.20\n",
      "| 에폭 162 |  반복 10 / 10 | 손실 0.20\n",
      "| 에폭 163 |  반복 10 / 10 | 손실 0.21\n",
      "| 에폭 164 |  반복 10 / 10 | 손실 0.20\n",
      "| 에폭 165 |  반복 10 / 10 | 손실 0.20\n",
      "| 에폭 166 |  반복 10 / 10 | 손실 0.19\n",
      "| 에폭 167 |  반복 10 / 10 | 손실 0.19\n",
      "| 에폭 168 |  반복 10 / 10 | 손실 0.19\n",
      "| 에폭 169 |  반복 10 / 10 | 손실 0.19\n",
      "| 에폭 170 |  반복 10 / 10 | 손실 0.19\n",
      "| 에폭 171 |  반복 10 / 10 | 손실 0.19\n",
      "| 에폭 172 |  반복 10 / 10 | 손실 0.18\n",
      "| 에폭 173 |  반복 10 / 10 | 손실 0.18\n",
      "| 에폭 174 |  반복 10 / 10 | 손실 0.18\n",
      "| 에폭 175 |  반복 10 / 10 | 손실 0.18\n",
      "| 에폭 176 |  반복 10 / 10 | 손실 0.18\n",
      "| 에폭 177 |  반복 10 / 10 | 손실 0.18\n",
      "| 에폭 178 |  반복 10 / 10 | 손실 0.18\n",
      "| 에폭 179 |  반복 10 / 10 | 손실 0.17\n",
      "| 에폭 180 |  반복 10 / 10 | 손실 0.17\n",
      "| 에폭 181 |  반복 10 / 10 | 손실 0.18\n",
      "| 에폭 182 |  반복 10 / 10 | 손실 0.17\n",
      "| 에폭 183 |  반복 10 / 10 | 손실 0.18\n",
      "| 에폭 184 |  반복 10 / 10 | 손실 0.17\n",
      "| 에폭 185 |  반복 10 / 10 | 손실 0.17\n",
      "| 에폭 186 |  반복 10 / 10 | 손실 0.18\n",
      "| 에폭 187 |  반복 10 / 10 | 손실 0.17\n",
      "| 에폭 188 |  반복 10 / 10 | 손실 0.17\n",
      "| 에폭 189 |  반복 10 / 10 | 손실 0.17\n",
      "| 에폭 190 |  반복 10 / 10 | 손실 0.17\n",
      "| 에폭 191 |  반복 10 / 10 | 손실 0.16\n",
      "| 에폭 192 |  반복 10 / 10 | 손실 0.17\n",
      "| 에폭 193 |  반복 10 / 10 | 손실 0.16\n",
      "| 에폭 194 |  반복 10 / 10 | 손실 0.16\n",
      "| 에폭 195 |  반복 10 / 10 | 손실 0.16\n",
      "| 에폭 196 |  반복 10 / 10 | 손실 0.16\n",
      "| 에폭 197 |  반복 10 / 10 | 손실 0.16\n",
      "| 에폭 198 |  반복 10 / 10 | 손실 0.15\n",
      "| 에폭 199 |  반복 10 / 10 | 손실 0.16\n",
      "| 에폭 200 |  반복 10 / 10 | 손실 0.16\n",
      "| 에폭 201 |  반복 10 / 10 | 손실 0.15\n",
      "| 에폭 202 |  반복 10 / 10 | 손실 0.16\n",
      "| 에폭 203 |  반복 10 / 10 | 손실 0.16\n",
      "| 에폭 204 |  반복 10 / 10 | 손실 0.15\n",
      "| 에폭 205 |  반복 10 / 10 | 손실 0.16\n",
      "| 에폭 206 |  반복 10 / 10 | 손실 0.15\n",
      "| 에폭 207 |  반복 10 / 10 | 손실 0.15\n",
      "| 에폭 208 |  반복 10 / 10 | 손실 0.15\n",
      "| 에폭 209 |  반복 10 / 10 | 손실 0.15\n",
      "| 에폭 210 |  반복 10 / 10 | 손실 0.15\n",
      "| 에폭 211 |  반복 10 / 10 | 손실 0.15\n",
      "| 에폭 212 |  반복 10 / 10 | 손실 0.15\n",
      "| 에폭 213 |  반복 10 / 10 | 손실 0.15\n",
      "| 에폭 214 |  반복 10 / 10 | 손실 0.15\n",
      "| 에폭 215 |  반복 10 / 10 | 손실 0.15\n",
      "| 에폭 216 |  반복 10 / 10 | 손실 0.14\n",
      "| 에폭 217 |  반복 10 / 10 | 손실 0.14\n",
      "| 에폭 218 |  반복 10 / 10 | 손실 0.15\n",
      "| 에폭 219 |  반복 10 / 10 | 손실 0.14\n",
      "| 에폭 220 |  반복 10 / 10 | 손실 0.14\n",
      "| 에폭 221 |  반복 10 / 10 | 손실 0.14\n",
      "| 에폭 222 |  반복 10 / 10 | 손실 0.14\n",
      "| 에폭 223 |  반복 10 / 10 | 손실 0.14\n",
      "| 에폭 224 |  반복 10 / 10 | 손실 0.14\n",
      "| 에폭 225 |  반복 10 / 10 | 손실 0.14\n",
      "| 에폭 226 |  반복 10 / 10 | 손실 0.14\n",
      "| 에폭 227 |  반복 10 / 10 | 손실 0.14\n",
      "| 에폭 228 |  반복 10 / 10 | 손실 0.14\n",
      "| 에폭 229 |  반복 10 / 10 | 손실 0.13\n",
      "| 에폭 230 |  반복 10 / 10 | 손실 0.14\n",
      "| 에폭 231 |  반복 10 / 10 | 손실 0.13\n",
      "| 에폭 232 |  반복 10 / 10 | 손실 0.14\n",
      "| 에폭 233 |  반복 10 / 10 | 손실 0.13\n",
      "| 에폭 234 |  반복 10 / 10 | 손실 0.13\n",
      "| 에폭 235 |  반복 10 / 10 | 손실 0.13\n",
      "| 에폭 236 |  반복 10 / 10 | 손실 0.13\n",
      "| 에폭 237 |  반복 10 / 10 | 손실 0.14\n",
      "| 에폭 238 |  반복 10 / 10 | 손실 0.13\n",
      "| 에폭 239 |  반복 10 / 10 | 손실 0.13\n",
      "| 에폭 240 |  반복 10 / 10 | 손실 0.14\n",
      "| 에폭 241 |  반복 10 / 10 | 손실 0.13\n",
      "| 에폭 242 |  반복 10 / 10 | 손실 0.13\n",
      "| 에폭 243 |  반복 10 / 10 | 손실 0.13\n",
      "| 에폭 244 |  반복 10 / 10 | 손실 0.13\n",
      "| 에폭 245 |  반복 10 / 10 | 손실 0.13\n",
      "| 에폭 246 |  반복 10 / 10 | 손실 0.13\n",
      "| 에폭 247 |  반복 10 / 10 | 손실 0.13\n",
      "| 에폭 248 |  반복 10 / 10 | 손실 0.13\n",
      "| 에폭 249 |  반복 10 / 10 | 손실 0.13\n",
      "| 에폭 250 |  반복 10 / 10 | 손실 0.13\n",
      "| 에폭 251 |  반복 10 / 10 | 손실 0.13\n",
      "| 에폭 252 |  반복 10 / 10 | 손실 0.12\n",
      "| 에폭 253 |  반복 10 / 10 | 손실 0.12\n",
      "| 에폭 254 |  반복 10 / 10 | 손실 0.12\n",
      "| 에폭 255 |  반복 10 / 10 | 손실 0.12\n",
      "| 에폭 256 |  반복 10 / 10 | 손실 0.12\n",
      "| 에폭 257 |  반복 10 / 10 | 손실 0.12\n",
      "| 에폭 258 |  반복 10 / 10 | 손실 0.12\n",
      "| 에폭 259 |  반복 10 / 10 | 손실 0.13\n",
      "| 에폭 260 |  반복 10 / 10 | 손실 0.12\n",
      "| 에폭 261 |  반복 10 / 10 | 손실 0.13\n",
      "| 에폭 262 |  반복 10 / 10 | 손실 0.12\n",
      "| 에폭 263 |  반복 10 / 10 | 손실 0.12\n",
      "| 에폭 264 |  반복 10 / 10 | 손실 0.13\n",
      "| 에폭 265 |  반복 10 / 10 | 손실 0.12\n",
      "| 에폭 266 |  반복 10 / 10 | 손실 0.12\n",
      "| 에폭 267 |  반복 10 / 10 | 손실 0.12\n",
      "| 에폭 268 |  반복 10 / 10 | 손실 0.12\n",
      "| 에폭 269 |  반복 10 / 10 | 손실 0.11\n",
      "| 에폭 270 |  반복 10 / 10 | 손실 0.12\n",
      "| 에폭 271 |  반복 10 / 10 | 손실 0.12\n",
      "| 에폭 272 |  반복 10 / 10 | 손실 0.12\n",
      "| 에폭 273 |  반복 10 / 10 | 손실 0.12\n",
      "| 에폭 274 |  반복 10 / 10 | 손실 0.12\n",
      "| 에폭 275 |  반복 10 / 10 | 손실 0.11\n",
      "| 에폭 276 |  반복 10 / 10 | 손실 0.12\n",
      "| 에폭 277 |  반복 10 / 10 | 손실 0.12\n",
      "| 에폭 278 |  반복 10 / 10 | 손실 0.11\n",
      "| 에폭 279 |  반복 10 / 10 | 손실 0.11\n",
      "| 에폭 280 |  반복 10 / 10 | 손실 0.11\n",
      "| 에폭 281 |  반복 10 / 10 | 손실 0.11\n",
      "| 에폭 282 |  반복 10 / 10 | 손실 0.12\n",
      "| 에폭 283 |  반복 10 / 10 | 손실 0.11\n",
      "| 에폭 284 |  반복 10 / 10 | 손실 0.11\n",
      "| 에폭 285 |  반복 10 / 10 | 손실 0.11\n",
      "| 에폭 286 |  반복 10 / 10 | 손실 0.11\n",
      "| 에폭 287 |  반복 10 / 10 | 손실 0.11\n",
      "| 에폭 288 |  반복 10 / 10 | 손실 0.12\n",
      "| 에폭 289 |  반복 10 / 10 | 손실 0.11\n",
      "| 에폭 290 |  반복 10 / 10 | 손실 0.11\n",
      "| 에폭 291 |  반복 10 / 10 | 손실 0.11\n",
      "| 에폭 292 |  반복 10 / 10 | 손실 0.11\n",
      "| 에폭 293 |  반복 10 / 10 | 손실 0.11\n",
      "| 에폭 294 |  반복 10 / 10 | 손실 0.11\n",
      "| 에폭 295 |  반복 10 / 10 | 손실 0.12\n",
      "| 에폭 296 |  반복 10 / 10 | 손실 0.11\n",
      "| 에폭 297 |  반복 10 / 10 | 손실 0.12\n",
      "| 에폭 298 |  반복 10 / 10 | 손실 0.11\n",
      "| 에폭 299 |  반복 10 / 10 | 손실 0.11\n",
      "| 에폭 300 |  반복 10 / 10 | 손실 0.11\n"
     ]
    },
    {
     "data": {
      "image/png": "[encoded data removed]",
      "text/plain": [
       "<Figure size 432x288 with 1 Axes>"
      ]
     },
     "metadata": {
      "needs_background": "light"
     },
     "output_type": "display_data"
    },
    {
     "data": {
      "image/png": "[encoded data removed]",
      "text/plain": [
       "<Figure size 432x288 with 1 Axes>"
      ]
     },
     "metadata": {
      "needs_background": "light"
     },
     "output_type": "display_data"
    }
   ],
   "source": [
    "# coding: utf-8\n",
    "import sys\n",
    "sys.path.append('..')  # 부모 디렉터리의 파일을 가져올 수 있도록 설정\n",
    "import numpy as np\n",
    "from common.optimizer import SGD\n",
    "from dataset import spiral\n",
    "import matplotlib.pyplot as plt\n",
    "from ch01.two_layer_net import TwoLayerNet\n",
    "\n",
    "\n",
    "# 하이퍼파라미터 설정\n",
    "max_epoch = 300\n",
    "batch_size = 30\n",
    "hidden_size = 10\n",
    "learning_rate = 1.0\n",
    "\n",
    "# 데이터 읽기, 모델과 옵티마이저 생성\n",
    "x, t = spiral.load_data()\n",
    "model = TwoLayerNet(input_size=2, hidden_size=hidden_size, output_size=3)\n",
    "optimizer = SGD(lr=learning_rate)\n",
    "\n",
    "# 학습에 사용하는 변수\n",
    "data_size = len(x)\n",
    "max_iters = data_size // batch_size\n",
    "total_loss = 0\n",
    "loss_count = 0\n",
    "loss_list = []\n",
    "\n",
    "for epoch in range(max_epoch):\n",
    "    # 데이터 뒤섞기\n",
    "    idx = np.random.permutation(data_size)\n",
    "    x = x[idx]\n",
    "    t = t[idx]\n",
    "\n",
    "    for iters in range(max_iters):\n",
    "        batch_x = x[iters*batch_size:(iters+1)*batch_size]\n",
    "        batch_t = t[iters*batch_size:(iters+1)*batch_size]\n",
    "\n",
    "        # 기울기를 구해 매개변수 갱신\n",
    "        loss = model.forward(batch_x, batch_t)\n",
    "        model.backward()\n",
    "        optimizer.update(model.params, model.grads)\n",
    "\n",
    "        total_loss += loss\n",
    "        loss_count += 1\n",
    "\n",
    "        # 정기적으로 학습 경과 출력\n",
    "        if (iters+1) % 10 == 0:\n",
    "            avg_loss = total_loss / loss_count\n",
    "            print('| 에폭 %d |  반복 %d / %d | 손실 %.2f'\n",
    "                  % (epoch + 1, iters + 1, max_iters, avg_loss))\n",
    "            loss_list.append(avg_loss)\n",
    "            total_loss, loss_count = 0, 0\n",
    "\n",
    "\n",
    "# 학습 결과 플롯\n",
    "plt.plot(np.arange(len(loss_list)), loss_list, label='train')\n",
    "plt.xlabel('iterations(x10)')\n",
    "plt.ylabel('loss')\n",
    "plt.show()\n",
    "\n",
    "# 경계 영역 플롯\n",
    "h = 0.001\n",
    "x_min, x_max = x[:, 0].min() - .1, x[:, 0].max() + .1\n",
    "y_min, y_max = x[:, 1].min() - .1, x[:, 1].max() + .1\n",
    "xx, yy = np.meshgrid(np.arange(x_min, x_max, h), np.arange(y_min, y_max, h))\n",
    "X = np.c_[xx.ravel(), yy.ravel()]\n",
    "score = model.predict(X)\n",
    "predict_cls = np.argmax(score, axis=1)\n",
    "Z = predict_cls.reshape(xx.shape)\n",
    "plt.contourf(xx, yy, Z)\n",
    "plt.axis('off')\n",
    "\n",
    "# 데이터점 플롯\n",
    "x, t = spiral.load_data()\n",
    "N = 100\n",
    "CLS_NUM = 3\n",
    "markers = ['o', 'x', '^']\n",
    "for i in range(CLS_NUM):\n",
    "    plt.scatter(x[i*N:(i+1)*N, 0], x[i*N:(i+1)*N, 1], s=40, marker=markers[i])\n",
    "plt.show()\n"
   ]
  },
  {
   "cell_type": "code",
   "execution_count": 30,
   "metadata": {},
   "outputs": [],
   "source": [
    "## trainer.py\n",
    "\n",
    "# coding: utf-8\n",
    "import sys\n",
    "sys.path.append('..')\n",
    "import numpy\n",
    "import time\n",
    "import matplotlib.pyplot as plt\n",
    "from common.np import *  # import numpy as np\n",
    "from common.util import clip_grads\n",
    "\n",
    "\n",
    "class Trainer:\n",
    "    def __init__(self, model, optimizer):\n",
    "        self.model = model\n",
    "        self.optimizer = optimizer\n",
    "        self.loss_list = []\n",
    "        self.eval_interval = None\n",
    "        self.current_epoch = 0\n",
    "\n",
    "    def fit(self, x, t, max_epoch=10, batch_size=32, max_grad=None, eval_interval=20):\n",
    "        data_size = len(x)\n",
    "        max_iters = data_size // batch_size\n",
    "        self.eval_interval = eval_interval\n",
    "        model, optimizer = self.model, self.optimizer\n",
    "        total_loss = 0\n",
    "        loss_count = 0\n",
    "\n",
    "        start_time = time.time()\n",
    "        for epoch in range(max_epoch):\n",
    "            # 뒤섞기\n",
    "            idx = numpy.random.permutation(numpy.arange(data_size))\n",
    "            x = x[idx]\n",
    "            t = t[idx]\n",
    "\n",
    "            for iters in range(max_iters):\n",
    "                batch_x = x[iters*batch_size:(iters+1)*batch_size]\n",
    "                batch_t = t[iters*batch_size:(iters+1)*batch_size]\n",
    "\n",
    "                # 기울기 구해 매개변수 갱신\n",
    "                loss = model.forward(batch_x, batch_t)\n",
    "                model.backward()\n",
    "                params, grads = remove_duplicate(model.params, model.grads)  # 공유된 가중치를 하나로 모음\n",
    "                if max_grad is not None:\n",
    "                    clip_grads(grads, max_grad)\n",
    "                optimizer.update(params, grads)\n",
    "                total_loss += loss\n",
    "                loss_count += 1\n",
    "\n",
    "                # 평가\n",
    "                if (eval_interval is not None) and (iters % eval_interval) == 0:\n",
    "                    avg_loss = total_loss / loss_count\n",
    "                    elapsed_time = time.time() - start_time\n",
    "                    print('| 에폭 %d |  반복 %d / %d | 시간 %d[s] | 손실 %.2f'\n",
    "                          % (self.current_epoch + 1, iters + 1, max_iters, elapsed_time, avg_loss))\n",
    "                    self.loss_list.append(float(avg_loss))\n",
    "                    total_loss, loss_count = 0, 0\n",
    "\n",
    "            self.current_epoch += 1\n",
    "\n",
    "    def plot(self, ylim=None):\n",
    "        x = numpy.arange(len(self.loss_list))\n",
    "        if ylim is not None:\n",
    "            plt.ylim(*ylim)\n",
    "        plt.plot(x, self.loss_list, label='train')\n",
    "        plt.xlabel('iterations (x' + str(self.eval_interval) + ')')\n",
    "        plt.ylabel('loss')\n",
    "        plt.show()"
   ]
  },
  {
   "cell_type": "code",
   "execution_count": 31,
   "metadata": {},
   "outputs": [
    {
     "name": "stdout",
     "output_type": "stream",
     "text": [
      "| 에폭 1 |  반복 1 / 10 | 시간 0[s] | 손실 1.10\n",
      "| 에폭 2 |  반복 1 / 10 | 시간 0[s] | 손실 1.12\n",
      "| 에폭 3 |  반복 1 / 10 | 시간 0[s] | 손실 1.13\n",
      "| 에폭 4 |  반복 1 / 10 | 시간 0[s] | 손실 1.12\n",
      "| 에폭 5 |  반복 1 / 10 | 시간 0[s] | 손실 1.12\n",
      "| 에폭 6 |  반복 1 / 10 | 시간 0[s] | 손실 1.10\n",
      "| 에폭 7 |  반복 1 / 10 | 시간 0[s] | 손실 1.14\n",
      "| 에폭 8 |  반복 1 / 10 | 시간 0[s] | 손실 1.16\n",
      "| 에폭 9 |  반복 1 / 10 | 시간 0[s] | 손실 1.11\n",
      "| 에폭 10 |  반복 1 / 10 | 시간 0[s] | 손실 1.12\n",
      "| 에폭 11 |  반복 1 / 10 | 시간 0[s] | 손실 1.12\n",
      "| 에폭 12 |  반복 1 / 10 | 시간 0[s] | 손실 1.12\n",
      "| 에폭 13 |  반복 1 / 10 | 시간 0[s] | 손실 1.10\n",
      "| 에폭 14 |  반복 1 / 10 | 시간 0[s] | 손실 1.09\n",
      "| 에폭 15 |  반복 1 / 10 | 시간 0[s] | 손실 1.08\n",
      "| 에폭 16 |  반복 1 / 10 | 시간 0[s] | 손실 1.04\n",
      "| 에폭 17 |  반복 1 / 10 | 시간 0[s] | 손실 1.03\n",
      "| 에폭 18 |  반복 1 / 10 | 시간 0[s] | 손실 0.94\n",
      "| 에폭 19 |  반복 1 / 10 | 시간 0[s] | 손실 0.92\n",
      "| 에폭 20 |  반복 1 / 10 | 시간 0[s] | 손실 0.92\n",
      "| 에폭 21 |  반복 1 / 10 | 시간 0[s] | 손실 0.87\n",
      "| 에폭 22 |  반복 1 / 10 | 시간 0[s] | 손실 0.85\n",
      "| 에폭 23 |  반복 1 / 10 | 시간 0[s] | 손실 0.80\n",
      "| 에폭 24 |  반복 1 / 10 | 시간 0[s] | 손실 0.79\n",
      "| 에폭 25 |  반복 1 / 10 | 시간 0[s] | 손실 0.78\n",
      "| 에폭 26 |  반복 1 / 10 | 시간 0[s] | 손실 0.83\n",
      "| 에폭 27 |  반복 1 / 10 | 시간 0[s] | 손실 0.77\n",
      "| 에폭 28 |  반복 1 / 10 | 시간 0[s] | 손실 0.76\n",
      "| 에폭 29 |  반복 1 / 10 | 시간 0[s] | 손실 0.77\n",
      "| 에폭 30 |  반복 1 / 10 | 시간 0[s] | 손실 0.76\n",
      "| 에폭 31 |  반복 1 / 10 | 시간 0[s] | 손실 0.77\n",
      "| 에폭 32 |  반복 1 / 10 | 시간 0[s] | 손실 0.75\n",
      "| 에폭 33 |  반복 1 / 10 | 시간 0[s] | 손실 0.78\n",
      "| 에폭 34 |  반복 1 / 10 | 시간 0[s] | 손실 0.77\n",
      "| 에폭 35 |  반복 1 / 10 | 시간 0[s] | 손실 0.78\n",
      "| 에폭 36 |  반복 1 / 10 | 시간 0[s] | 손실 0.74\n",
      "| 에폭 37 |  반복 1 / 10 | 시간 0[s] | 손실 0.75\n",
      "| 에폭 38 |  반복 1 / 10 | 시간 0[s] | 손실 0.77\n",
      "| 에폭 39 |  반복 1 / 10 | 시간 0[s] | 손실 0.75\n",
      "| 에폭 40 |  반복 1 / 10 | 시간 0[s] | 손실 0.73\n",
      "| 에폭 41 |  반복 1 / 10 | 시간 0[s] | 손실 0.75\n",
      "| 에폭 42 |  반복 1 / 10 | 시간 0[s] | 손실 0.76\n",
      "| 에폭 43 |  반복 1 / 10 | 시간 0[s] | 손실 0.79\n",
      "| 에폭 44 |  반복 1 / 10 | 시간 0[s] | 손실 0.74\n",
      "| 에폭 45 |  반복 1 / 10 | 시간 0[s] | 손실 0.75\n",
      "| 에폭 46 |  반복 1 / 10 | 시간 0[s] | 손실 0.73\n",
      "| 에폭 47 |  반복 1 / 10 | 시간 0[s] | 손실 0.73\n",
      "| 에폭 48 |  반복 1 / 10 | 시간 0[s] | 손실 0.73\n",
      "| 에폭 49 |  반복 1 / 10 | 시간 0[s] | 손실 0.73\n",
      "| 에폭 50 |  반복 1 / 10 | 시간 0[s] | 손실 0.72\n",
      "| 에폭 51 |  반복 1 / 10 | 시간 0[s] | 손실 0.72\n",
      "| 에폭 52 |  반복 1 / 10 | 시간 0[s] | 손실 0.72\n",
      "| 에폭 53 |  반복 1 / 10 | 시간 0[s] | 손실 0.72\n",
      "| 에폭 54 |  반복 1 / 10 | 시간 0[s] | 손실 0.74\n",
      "| 에폭 55 |  반복 1 / 10 | 시간 0[s] | 손실 0.74\n",
      "| 에폭 56 |  반복 1 / 10 | 시간 0[s] | 손실 0.73\n",
      "| 에폭 57 |  반복 1 / 10 | 시간 0[s] | 손실 0.72\n",
      "| 에폭 58 |  반복 1 / 10 | 시간 0[s] | 손실 0.69\n",
      "| 에폭 59 |  반복 1 / 10 | 시간 0[s] | 손실 0.72\n",
      "| 에폭 60 |  반복 1 / 10 | 시간 0[s] | 손실 0.70\n",
      "| 에폭 61 |  반복 1 / 10 | 시간 0[s] | 손실 0.69\n",
      "| 에폭 62 |  반복 1 / 10 | 시간 0[s] | 손실 0.71\n",
      "| 에폭 63 |  반복 1 / 10 | 시간 0[s] | 손실 0.70\n",
      "| 에폭 64 |  반복 1 / 10 | 시간 0[s] | 손실 0.71\n",
      "| 에폭 65 |  반복 1 / 10 | 시간 0[s] | 손실 0.72\n",
      "| 에폭 66 |  반복 1 / 10 | 시간 0[s] | 손실 0.71\n",
      "| 에폭 67 |  반복 1 / 10 | 시간 0[s] | 손실 0.71\n",
      "| 에폭 68 |  반복 1 / 10 | 시간 0[s] | 손실 0.71\n",
      "| 에폭 69 |  반복 1 / 10 | 시간 0[s] | 손실 0.70\n",
      "| 에폭 70 |  반복 1 / 10 | 시간 0[s] | 손실 0.68\n",
      "| 에폭 71 |  반복 1 / 10 | 시간 0[s] | 손실 0.73\n",
      "| 에폭 72 |  반복 1 / 10 | 시간 0[s] | 손실 0.66\n",
      "| 에폭 73 |  반복 1 / 10 | 시간 0[s] | 손실 0.69\n",
      "| 에폭 74 |  반복 1 / 10 | 시간 0[s] | 손실 0.66\n",
      "| 에폭 75 |  반복 1 / 10 | 시간 0[s] | 손실 0.70\n",
      "| 에폭 76 |  반복 1 / 10 | 시간 0[s] | 손실 0.65\n",
      "| 에폭 77 |  반복 1 / 10 | 시간 0[s] | 손실 0.67\n",
      "| 에폭 78 |  반복 1 / 10 | 시간 0[s] | 손실 0.70\n",
      "| 에폭 79 |  반복 1 / 10 | 시간 0[s] | 손실 0.63\n",
      "| 에폭 80 |  반복 1 / 10 | 시간 0[s] | 손실 0.66\n",
      "| 에폭 81 |  반복 1 / 10 | 시간 0[s] | 손실 0.65\n",
      "| 에폭 82 |  반복 1 / 10 | 시간 0[s] | 손실 0.66\n",
      "| 에폭 83 |  반복 1 / 10 | 시간 0[s] | 손실 0.64\n",
      "| 에폭 84 |  반복 1 / 10 | 시간 0[s] | 손실 0.62\n",
      "| 에폭 85 |  반복 1 / 10 | 시간 0[s] | 손실 0.62\n",
      "| 에폭 86 |  반복 1 / 10 | 시간 0[s] | 손실 0.63\n",
      "| 에폭 87 |  반복 1 / 10 | 시간 0[s] | 손실 0.59\n",
      "| 에폭 88 |  반복 1 / 10 | 시간 0[s] | 손실 0.58\n",
      "| 에폭 89 |  반복 1 / 10 | 시간 0[s] | 손실 0.61\n",
      "| 에폭 90 |  반복 1 / 10 | 시간 0[s] | 손실 0.59\n",
      "| 에폭 91 |  반복 1 / 10 | 시간 0[s] | 손실 0.58\n",
      "| 에폭 92 |  반복 1 / 10 | 시간 0[s] | 손실 0.57\n",
      "| 에폭 93 |  반복 1 / 10 | 시간 0[s] | 손실 0.55\n",
      "| 에폭 94 |  반복 1 / 10 | 시간 0[s] | 손실 0.54\n",
      "| 에폭 95 |  반복 1 / 10 | 시간 0[s] | 손실 0.53\n",
      "| 에폭 96 |  반복 1 / 10 | 시간 0[s] | 손실 0.54\n",
      "| 에폭 97 |  반복 1 / 10 | 시간 0[s] | 손실 0.51\n",
      "| 에폭 98 |  반복 1 / 10 | 시간 0[s] | 손실 0.51\n",
      "| 에폭 99 |  반복 1 / 10 | 시간 0[s] | 손실 0.50\n",
      "| 에폭 100 |  반복 1 / 10 | 시간 0[s] | 손실 0.47\n",
      "| 에폭 101 |  반복 1 / 10 | 시간 0[s] | 손실 0.49\n",
      "| 에폭 102 |  반복 1 / 10 | 시간 0[s] | 손실 0.46\n",
      "| 에폭 103 |  반복 1 / 10 | 시간 0[s] | 손실 0.44\n",
      "| 에폭 104 |  반복 1 / 10 | 시간 0[s] | 손실 0.47\n",
      "| 에폭 105 |  반복 1 / 10 | 시간 0[s] | 손실 0.44\n",
      "| 에폭 106 |  반복 1 / 10 | 시간 0[s] | 손실 0.43\n",
      "| 에폭 107 |  반복 1 / 10 | 시간 0[s] | 손실 0.43\n",
      "| 에폭 108 |  반복 1 / 10 | 시간 0[s] | 손실 0.39\n",
      "| 에폭 109 |  반복 1 / 10 | 시간 0[s] | 손실 0.40\n",
      "| 에폭 110 |  반복 1 / 10 | 시간 0[s] | 손실 0.41\n",
      "| 에폭 111 |  반복 1 / 10 | 시간 0[s] | 손실 0.38\n",
      "| 에폭 112 |  반복 1 / 10 | 시간 0[s] | 손실 0.38\n",
      "| 에폭 113 |  반복 1 / 10 | 시간 0[s] | 손실 0.38\n",
      "| 에폭 114 |  반복 1 / 10 | 시간 0[s] | 손실 0.37\n",
      "| 에폭 115 |  반복 1 / 10 | 시간 0[s] | 손실 0.36\n",
      "| 에폭 116 |  반복 1 / 10 | 시간 0[s] | 손실 0.34\n",
      "| 에폭 117 |  반복 1 / 10 | 시간 0[s] | 손실 0.35\n",
      "| 에폭 118 |  반복 1 / 10 | 시간 0[s] | 손실 0.33\n",
      "| 에폭 119 |  반복 1 / 10 | 시간 0[s] | 손실 0.35\n",
      "| 에폭 120 |  반복 1 / 10 | 시간 0[s] | 손실 0.33\n",
      "| 에폭 121 |  반복 1 / 10 | 시간 0[s] | 손실 0.33\n",
      "| 에폭 122 |  반복 1 / 10 | 시간 0[s] | 손실 0.32\n",
      "| 에폭 123 |  반복 1 / 10 | 시간 0[s] | 손실 0.31\n",
      "| 에폭 124 |  반복 1 / 10 | 시간 0[s] | 손실 0.31\n",
      "| 에폭 125 |  반복 1 / 10 | 시간 0[s] | 손실 0.31\n",
      "| 에폭 126 |  반복 1 / 10 | 시간 0[s] | 손실 0.30\n",
      "| 에폭 127 |  반복 1 / 10 | 시간 0[s] | 손실 0.30\n",
      "| 에폭 128 |  반복 1 / 10 | 시간 0[s] | 손실 0.27\n",
      "| 에폭 129 |  반복 1 / 10 | 시간 0[s] | 손실 0.30\n",
      "| 에폭 130 |  반복 1 / 10 | 시간 0[s] | 손실 0.28\n",
      "| 에폭 131 |  반복 1 / 10 | 시간 0[s] | 손실 0.26\n",
      "| 에폭 132 |  반복 1 / 10 | 시간 0[s] | 손실 0.27\n",
      "| 에폭 133 |  반복 1 / 10 | 시간 0[s] | 손실 0.27\n",
      "| 에폭 134 |  반복 1 / 10 | 시간 0[s] | 손실 0.28\n",
      "| 에폭 135 |  반복 1 / 10 | 시간 0[s] | 손실 0.26\n",
      "| 에폭 136 |  반복 1 / 10 | 시간 0[s] | 손실 0.28\n",
      "| 에폭 137 |  반복 1 / 10 | 시간 0[s] | 손실 0.25\n",
      "| 에폭 138 |  반복 1 / 10 | 시간 0[s] | 손실 0.26\n",
      "| 에폭 139 |  반복 1 / 10 | 시간 0[s] | 손실 0.26\n",
      "| 에폭 140 |  반복 1 / 10 | 시간 0[s] | 손실 0.26\n",
      "| 에폭 141 |  반복 1 / 10 | 시간 0[s] | 손실 0.23\n",
      "| 에폭 142 |  반복 1 / 10 | 시간 0[s] | 손실 0.23\n",
      "| 에폭 143 |  반복 1 / 10 | 시간 0[s] | 손실 0.26\n",
      "| 에폭 144 |  반복 1 / 10 | 시간 0[s] | 손실 0.23\n",
      "| 에폭 145 |  반복 1 / 10 | 시간 0[s] | 손실 0.24\n",
      "| 에폭 146 |  반복 1 / 10 | 시간 0[s] | 손실 0.24\n",
      "| 에폭 147 |  반복 1 / 10 | 시간 0[s] | 손실 0.25\n",
      "| 에폭 148 |  반복 1 / 10 | 시간 0[s] | 손실 0.21\n",
      "| 에폭 149 |  반복 1 / 10 | 시간 0[s] | 손실 0.23\n",
      "| 에폭 150 |  반복 1 / 10 | 시간 0[s] | 손실 0.22\n",
      "| 에폭 151 |  반복 1 / 10 | 시간 0[s] | 손실 0.22\n",
      "| 에폭 152 |  반복 1 / 10 | 시간 0[s] | 손실 0.23\n",
      "| 에폭 153 |  반복 1 / 10 | 시간 0[s] | 손실 0.23\n",
      "| 에폭 154 |  반복 1 / 10 | 시간 0[s] | 손실 0.20\n",
      "| 에폭 155 |  반복 1 / 10 | 시간 0[s] | 손실 0.22\n",
      "| 에폭 156 |  반복 1 / 10 | 시간 0[s] | 손실 0.21\n",
      "| 에폭 157 |  반복 1 / 10 | 시간 0[s] | 손실 0.21\n",
      "| 에폭 158 |  반복 1 / 10 | 시간 0[s] | 손실 0.20\n",
      "| 에폭 159 |  반복 1 / 10 | 시간 0[s] | 손실 0.21\n",
      "| 에폭 160 |  반복 1 / 10 | 시간 0[s] | 손실 0.20\n",
      "| 에폭 161 |  반복 1 / 10 | 시간 0[s] | 손실 0.19\n",
      "| 에폭 162 |  반복 1 / 10 | 시간 0[s] | 손실 0.22\n",
      "| 에폭 163 |  반복 1 / 10 | 시간 0[s] | 손실 0.19\n",
      "| 에폭 164 |  반복 1 / 10 | 시간 0[s] | 손실 0.21\n",
      "| 에폭 165 |  반복 1 / 10 | 시간 0[s] | 손실 0.20\n",
      "| 에폭 166 |  반복 1 / 10 | 시간 0[s] | 손실 0.20\n",
      "| 에폭 167 |  반복 1 / 10 | 시간 0[s] | 손실 0.20\n",
      "| 에폭 168 |  반복 1 / 10 | 시간 0[s] | 손실 0.19\n",
      "| 에폭 169 |  반복 1 / 10 | 시간 0[s] | 손실 0.18\n",
      "| 에폭 170 |  반복 1 / 10 | 시간 0[s] | 손실 0.19\n",
      "| 에폭 171 |  반복 1 / 10 | 시간 0[s] | 손실 0.19\n",
      "| 에폭 172 |  반복 1 / 10 | 시간 0[s] | 손실 0.20\n",
      "| 에폭 173 |  반복 1 / 10 | 시간 0[s] | 손실 0.16\n",
      "| 에폭 174 |  반복 1 / 10 | 시간 0[s] | 손실 0.20\n",
      "| 에폭 175 |  반복 1 / 10 | 시간 0[s] | 손실 0.18\n",
      "| 에폭 176 |  반복 1 / 10 | 시간 0[s] | 손실 0.17\n",
      "| 에폭 177 |  반복 1 / 10 | 시간 0[s] | 손실 0.17\n",
      "| 에폭 178 |  반복 1 / 10 | 시간 0[s] | 손실 0.17\n",
      "| 에폭 179 |  반복 1 / 10 | 시간 0[s] | 손실 0.18\n",
      "| 에폭 180 |  반복 1 / 10 | 시간 0[s] | 손실 0.19\n",
      "| 에폭 181 |  반복 1 / 10 | 시간 0[s] | 손실 0.17\n",
      "| 에폭 182 |  반복 1 / 10 | 시간 0[s] | 손실 0.18\n",
      "| 에폭 183 |  반복 1 / 10 | 시간 0[s] | 손실 0.16\n",
      "| 에폭 184 |  반복 1 / 10 | 시간 0[s] | 손실 0.18\n",
      "| 에폭 185 |  반복 1 / 10 | 시간 0[s] | 손실 0.18\n",
      "| 에폭 186 |  반복 1 / 10 | 시간 0[s] | 손실 0.17\n",
      "| 에폭 187 |  반복 1 / 10 | 시간 0[s] | 손실 0.17\n",
      "| 에폭 188 |  반복 1 / 10 | 시간 0[s] | 손실 0.18\n",
      "| 에폭 189 |  반복 1 / 10 | 시간 0[s] | 손실 0.16\n",
      "| 에폭 190 |  반복 1 / 10 | 시간 0[s] | 손실 0.16\n",
      "| 에폭 191 |  반복 1 / 10 | 시간 0[s] | 손실 0.17\n",
      "| 에폭 192 |  반복 1 / 10 | 시간 0[s] | 손실 0.17\n",
      "| 에폭 193 |  반복 1 / 10 | 시간 0[s] | 손실 0.16\n",
      "| 에폭 194 |  반복 1 / 10 | 시간 0[s] | 손실 0.16\n",
      "| 에폭 195 |  반복 1 / 10 | 시간 0[s] | 손실 0.16\n",
      "| 에폭 196 |  반복 1 / 10 | 시간 0[s] | 손실 0.17\n",
      "| 에폭 197 |  반복 1 / 10 | 시간 0[s] | 손실 0.16\n",
      "| 에폭 198 |  반복 1 / 10 | 시간 0[s] | 손실 0.17\n",
      "| 에폭 199 |  반복 1 / 10 | 시간 0[s] | 손실 0.16\n",
      "| 에폭 200 |  반복 1 / 10 | 시간 0[s] | 손실 0.14\n",
      "| 에폭 201 |  반복 1 / 10 | 시간 0[s] | 손실 0.16\n",
      "| 에폭 202 |  반복 1 / 10 | 시간 0[s] | 손실 0.16\n",
      "| 에폭 203 |  반복 1 / 10 | 시간 0[s] | 손실 0.15\n",
      "| 에폭 204 |  반복 1 / 10 | 시간 0[s] | 손실 0.16\n",
      "| 에폭 205 |  반복 1 / 10 | 시간 0[s] | 손실 0.14\n",
      "| 에폭 206 |  반복 1 / 10 | 시간 0[s] | 손실 0.16\n",
      "| 에폭 207 |  반복 1 / 10 | 시간 0[s] | 손실 0.16\n",
      "| 에폭 208 |  반복 1 / 10 | 시간 0[s] | 손실 0.14\n",
      "| 에폭 209 |  반복 1 / 10 | 시간 0[s] | 손실 0.15\n",
      "| 에폭 210 |  반복 1 / 10 | 시간 0[s] | 손실 0.16\n",
      "| 에폭 211 |  반복 1 / 10 | 시간 0[s] | 손실 0.14\n",
      "| 에폭 212 |  반복 1 / 10 | 시간 0[s] | 손실 0.15\n",
      "| 에폭 213 |  반복 1 / 10 | 시간 0[s] | 손실 0.15\n",
      "| 에폭 214 |  반복 1 / 10 | 시간 0[s] | 손실 0.15\n",
      "| 에폭 215 |  반복 1 / 10 | 시간 0[s] | 손실 0.14\n",
      "| 에폭 216 |  반복 1 / 10 | 시간 0[s] | 손실 0.14\n",
      "| 에폭 217 |  반복 1 / 10 | 시간 0[s] | 손실 0.15\n"
     ]
    },
    {
     "name": "stdout",
     "output_type": "stream",
     "text": [
      "| 에폭 218 |  반복 1 / 10 | 시간 0[s] | 손실 0.14\n",
      "| 에폭 219 |  반복 1 / 10 | 시간 0[s] | 손실 0.15\n",
      "| 에폭 220 |  반복 1 / 10 | 시간 0[s] | 손실 0.15\n",
      "| 에폭 221 |  반복 1 / 10 | 시간 0[s] | 손실 0.14\n",
      "| 에폭 222 |  반복 1 / 10 | 시간 0[s] | 손실 0.13\n",
      "| 에폭 223 |  반복 1 / 10 | 시간 0[s] | 손실 0.15\n",
      "| 에폭 224 |  반복 1 / 10 | 시간 0[s] | 손실 0.14\n",
      "| 에폭 225 |  반복 1 / 10 | 시간 0[s] | 손실 0.16\n",
      "| 에폭 226 |  반복 1 / 10 | 시간 0[s] | 손실 0.12\n",
      "| 에폭 227 |  반복 1 / 10 | 시간 0[s] | 손실 0.13\n",
      "| 에폭 228 |  반복 1 / 10 | 시간 0[s] | 손실 0.15\n",
      "| 에폭 229 |  반복 1 / 10 | 시간 0[s] | 손실 0.14\n",
      "| 에폭 230 |  반복 1 / 10 | 시간 0[s] | 손실 0.13\n",
      "| 에폭 231 |  반복 1 / 10 | 시간 0[s] | 손실 0.14\n",
      "| 에폭 232 |  반복 1 / 10 | 시간 0[s] | 손실 0.13\n",
      "| 에폭 233 |  반복 1 / 10 | 시간 0[s] | 손실 0.13\n",
      "| 에폭 234 |  반복 1 / 10 | 시간 0[s] | 손실 0.14\n",
      "| 에폭 235 |  반복 1 / 10 | 시간 0[s] | 손실 0.13\n",
      "| 에폭 236 |  반복 1 / 10 | 시간 0[s] | 손실 0.12\n",
      "| 에폭 237 |  반복 1 / 10 | 시간 0[s] | 손실 0.13\n",
      "| 에폭 238 |  반복 1 / 10 | 시간 0[s] | 손실 0.14\n",
      "| 에폭 239 |  반복 1 / 10 | 시간 0[s] | 손실 0.14\n",
      "| 에폭 240 |  반복 1 / 10 | 시간 0[s] | 손실 0.13\n",
      "| 에폭 241 |  반복 1 / 10 | 시간 0[s] | 손실 0.14\n",
      "| 에폭 242 |  반복 1 / 10 | 시간 0[s] | 손실 0.13\n",
      "| 에폭 243 |  반복 1 / 10 | 시간 0[s] | 손실 0.13\n",
      "| 에폭 244 |  반복 1 / 10 | 시간 0[s] | 손실 0.14\n",
      "| 에폭 245 |  반복 1 / 10 | 시간 0[s] | 손실 0.12\n",
      "| 에폭 246 |  반복 1 / 10 | 시간 0[s] | 손실 0.13\n",
      "| 에폭 247 |  반복 1 / 10 | 시간 0[s] | 손실 0.13\n",
      "| 에폭 248 |  반복 1 / 10 | 시간 0[s] | 손실 0.12\n",
      "| 에폭 249 |  반복 1 / 10 | 시간 0[s] | 손실 0.14\n",
      "| 에폭 250 |  반복 1 / 10 | 시간 0[s] | 손실 0.12\n",
      "| 에폭 251 |  반복 1 / 10 | 시간 0[s] | 손실 0.13\n",
      "| 에폭 252 |  반복 1 / 10 | 시간 0[s] | 손실 0.13\n",
      "| 에폭 253 |  반복 1 / 10 | 시간 0[s] | 손실 0.12\n",
      "| 에폭 254 |  반복 1 / 10 | 시간 0[s] | 손실 0.12\n",
      "| 에폭 255 |  반복 1 / 10 | 시간 0[s] | 손실 0.13\n",
      "| 에폭 256 |  반복 1 / 10 | 시간 0[s] | 손실 0.12\n",
      "| 에폭 257 |  반복 1 / 10 | 시간 0[s] | 손실 0.12\n",
      "| 에폭 258 |  반복 1 / 10 | 시간 0[s] | 손실 0.12\n",
      "| 에폭 259 |  반복 1 / 10 | 시간 0[s] | 손실 0.13\n",
      "| 에폭 260 |  반복 1 / 10 | 시간 0[s] | 손실 0.13\n",
      "| 에폭 261 |  반복 1 / 10 | 시간 0[s] | 손실 0.11\n",
      "| 에폭 262 |  반복 1 / 10 | 시간 0[s] | 손실 0.13\n",
      "| 에폭 263 |  반복 1 / 10 | 시간 0[s] | 손실 0.12\n",
      "| 에폭 264 |  반복 1 / 10 | 시간 0[s] | 손실 0.11\n",
      "| 에폭 265 |  반복 1 / 10 | 시간 0[s] | 손실 0.14\n",
      "| 에폭 266 |  반복 1 / 10 | 시간 0[s] | 손실 0.11\n",
      "| 에폭 267 |  반복 1 / 10 | 시간 0[s] | 손실 0.13\n",
      "| 에폭 268 |  반복 1 / 10 | 시간 0[s] | 손실 0.11\n",
      "| 에폭 269 |  반복 1 / 10 | 시간 0[s] | 손실 0.13\n",
      "| 에폭 270 |  반복 1 / 10 | 시간 0[s] | 손실 0.11\n",
      "| 에폭 271 |  반복 1 / 10 | 시간 0[s] | 손실 0.12\n",
      "| 에폭 272 |  반복 1 / 10 | 시간 0[s] | 손실 0.12\n",
      "| 에폭 273 |  반복 1 / 10 | 시간 0[s] | 손실 0.12\n",
      "| 에폭 274 |  반복 1 / 10 | 시간 0[s] | 손실 0.12\n",
      "| 에폭 275 |  반복 1 / 10 | 시간 0[s] | 손실 0.12\n",
      "| 에폭 276 |  반복 1 / 10 | 시간 0[s] | 손실 0.12\n",
      "| 에폭 277 |  반복 1 / 10 | 시간 0[s] | 손실 0.11\n",
      "| 에폭 278 |  반복 1 / 10 | 시간 0[s] | 손실 0.13\n",
      "| 에폭 279 |  반복 1 / 10 | 시간 0[s] | 손실 0.11\n",
      "| 에폭 280 |  반복 1 / 10 | 시간 0[s] | 손실 0.10\n",
      "| 에폭 281 |  반복 1 / 10 | 시간 0[s] | 손실 0.12\n",
      "| 에폭 282 |  반복 1 / 10 | 시간 0[s] | 손실 0.11\n",
      "| 에폭 283 |  반복 1 / 10 | 시간 0[s] | 손실 0.12\n",
      "| 에폭 284 |  반복 1 / 10 | 시간 0[s] | 손실 0.11\n",
      "| 에폭 285 |  반복 1 / 10 | 시간 0[s] | 손실 0.11\n",
      "| 에폭 286 |  반복 1 / 10 | 시간 0[s] | 손실 0.12\n",
      "| 에폭 287 |  반복 1 / 10 | 시간 0[s] | 손실 0.11\n",
      "| 에폭 288 |  반복 1 / 10 | 시간 0[s] | 손실 0.11\n",
      "| 에폭 289 |  반복 1 / 10 | 시간 0[s] | 손실 0.12\n",
      "| 에폭 290 |  반복 1 / 10 | 시간 0[s] | 손실 0.11\n",
      "| 에폭 291 |  반복 1 / 10 | 시간 0[s] | 손실 0.11\n",
      "| 에폭 292 |  반복 1 / 10 | 시간 0[s] | 손실 0.11\n",
      "| 에폭 293 |  반복 1 / 10 | 시간 0[s] | 손실 0.11\n",
      "| 에폭 294 |  반복 1 / 10 | 시간 0[s] | 손실 0.11\n",
      "| 에폭 295 |  반복 1 / 10 | 시간 0[s] | 손실 0.11\n",
      "| 에폭 296 |  반복 1 / 10 | 시간 0[s] | 손실 0.12\n",
      "| 에폭 297 |  반복 1 / 10 | 시간 0[s] | 손실 0.11\n",
      "| 에폭 298 |  반복 1 / 10 | 시간 0[s] | 손실 0.11\n",
      "| 에폭 299 |  반복 1 / 10 | 시간 0[s] | 손실 0.11\n",
      "| 에폭 300 |  반복 1 / 10 | 시간 0[s] | 손실 0.11\n"
     ]
    },
    {
     "data": {
      "image/png": "[encoded data removed]",
      "text/plain": [
       "<Figure size 432x288 with 1 Axes>"
      ]
     },
     "metadata": {
      "needs_background": "light"
     },
     "output_type": "display_data"
    }
   ],
   "source": [
    "# coding: utf-8\n",
    "import sys\n",
    "sys.path.append('..')  # 부모 디렉터리의 파일을 가져올 수 있도록 설정\n",
    "from common.optimizer import SGD\n",
    "from common.trainer import Trainer\n",
    "from dataset import spiral\n",
    "from ch01.two_layer_net import TwoLayerNet\n",
    "\n",
    "\n",
    "# 하이퍼파라미터 설정\n",
    "max_epoch = 300\n",
    "batch_size = 30\n",
    "hidden_size = 10\n",
    "learning_rate = 1.0\n",
    "\n",
    "x, t = spiral.load_data()\n",
    "model = TwoLayerNet(input_size=2, hidden_size=hidden_size, output_size=3)\n",
    "optimizer = SGD(lr=learning_rate)\n",
    "\n",
    "trainer = Trainer(model, optimizer)\n",
    "trainer.fit(x, t, max_epoch, batch_size, eval_interval=10)\n",
    "trainer.plot()\n"
   ]
  },
  {
   "cell_type": "code",
   "execution_count": 33,
   "metadata": {},
   "outputs": [
    {
     "data": {
      "text/plain": [
       "dtype('float64')"
      ]
     },
     "execution_count": 33,
     "metadata": {},
     "output_type": "execute_result"
    }
   ],
   "source": [
    "## 계산 고속화\n",
    "## 비트 정밀도\n",
    "## 넘파이의 부동소수점 수는 기본적으로 64비트 데이터 타입을 사용\n",
    "import numpy as np\n",
    "a = np.random.randn(3)\n",
    "a.dtype"
   ]
  },
  {
   "cell_type": "code",
   "execution_count": 34,
   "metadata": {},
   "outputs": [],
   "source": [
    "## 넘파이는 64비트 부동소수점 수를 표준으로 사용합니다. 그러나 신경망의 추론과 학습은 32비트 부동소수점 수로도 충분히\n",
    "## 수행할 수 있습니다. 32비트는 64비트의 절반이므로 메모리 관점에서는 항상 32비트가 더 좋다고 할 수 있습니다.\n",
    "## 또 신경망 계산 시 데이터를 전송하는 '버스 대역폭'이 병목이 되는 경우가 있습니다. 이런 경우에도 데이터 타입이 작은 게 유리합니다.\n",
    "## 마지막으로 계산 속도 측면에서도 32비트 수가 일반적으로 더 빠릅니다. 이런 이유로 이 책에서는 32비트 수를 우선으로 사용합니다."
   ]
  },
  {
   "cell_type": "code",
   "execution_count": 35,
   "metadata": {},
   "outputs": [
    {
     "data": {
      "text/plain": [
       "dtype('float32')"
      ]
     },
     "execution_count": 35,
     "metadata": {},
     "output_type": "execute_result"
    }
   ],
   "source": [
    "## 넘파이에서 32비트 부동소수점 수를 사용하려면\n",
    "\n",
    "b = np.random.randn(3).astype(np.float32)\n",
    "b.dtype"
   ]
  },
  {
   "cell_type": "code",
   "execution_count": 36,
   "metadata": {},
   "outputs": [
    {
     "data": {
      "text/plain": [
       "dtype('float32')"
      ]
     },
     "execution_count": 36,
     "metadata": {},
     "output_type": "execute_result"
    }
   ],
   "source": [
    "c = np.random.randn(3).astype('f')\n",
    "c.dtype"
   ]
  },
  {
   "cell_type": "code",
   "execution_count": 37,
   "metadata": {},
   "outputs": [],
   "source": [
    "## 또한 신경망 추론으로 한정하면, 16비트 부동소수점 수를 사용해도 인식률이 거의 떨어지지 않습니다.\n",
    "## 다만 일반적으로 CPU와 GPU는 연산 자체를 32비트로 수행하므로 처리 속도 면에서는 혜택이 없을 수도 있습니다.\n",
    "## 그러나 학습된 가중치를 저장할 때는 16비트로 저장하는 것이 32비트 보다 용량을 절반만 사용하므로 유효합니다."
   ]
  },
  {
   "cell_type": "code",
   "execution_count": null,
   "metadata": {},
   "outputs": [],
   "source": []
  }
 ],
 "metadata": {
  "kernelspec": {
   "display_name": "Python 3",
   "language": "python",
   "name": "python3"
  },
  "language_info": {
   "codemirror_mode": {
    "name": "ipython",
    "version": 3
   },
   "file_extension": ".py",
   "mimetype": "text/x-python",
   "name": "python",
   "nbconvert_exporter": "python",
   "pygments_lexer": "ipython3",
   "version": "3.7.5"
  }
 },
 "nbformat": 4,
 "nbformat_minor": 4
}
